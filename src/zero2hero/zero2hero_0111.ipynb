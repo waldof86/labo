{
 "cells": [
  {
   "cell_type": "markdown",
   "metadata": {},
   "source": [
    "# Zero to Hero"
   ]
  },
  {
   "cell_type": "markdown",
   "metadata": {},
   "source": [
    "## 1.11 Arbol training/testing"
   ]
  },
  {
   "cell_type": "markdown",
   "metadata": {},
   "source": [
    "El objetivo es calcular la ganancia en testing de un arbol de decision"
   ]
  },
  {
   "cell_type": "code",
   "execution_count": 1,
   "metadata": {
    "tags": [],
    "vscode": {
     "languageId": "r"
    }
   },
   "outputs": [
    {
     "data": {
      "text/html": [
       "<table class=\"dataframe\">\n",
       "<caption>A matrix: 2 × 6 of type dbl</caption>\n",
       "<thead>\n",
       "\t<tr><th></th><th scope=col>used</th><th scope=col>(Mb)</th><th scope=col>gc trigger</th><th scope=col>(Mb)</th><th scope=col>max used</th><th scope=col>(Mb)</th></tr>\n",
       "</thead>\n",
       "<tbody>\n",
       "\t<tr><th scope=row>Ncells</th><td> 614733</td><td>32.9</td><td>1321401</td><td>70.6</td><td>1321401</td><td>70.6</td></tr>\n",
       "\t<tr><th scope=row>Vcells</th><td>1093659</td><td> 8.4</td><td>8388608</td><td>64.0</td><td>1632451</td><td>12.5</td></tr>\n",
       "</tbody>\n",
       "</table>\n"
      ],
      "text/latex": [
       "A matrix: 2 × 6 of type dbl\n",
       "\\begin{tabular}{r|llllll}\n",
       "  & used & (Mb) & gc trigger & (Mb) & max used & (Mb)\\\\\n",
       "\\hline\n",
       "\tNcells &  614733 & 32.9 & 1321401 & 70.6 & 1321401 & 70.6\\\\\n",
       "\tVcells & 1093659 &  8.4 & 8388608 & 64.0 & 1632451 & 12.5\\\\\n",
       "\\end{tabular}\n"
      ],
      "text/markdown": [
       "\n",
       "A matrix: 2 × 6 of type dbl\n",
       "\n",
       "| <!--/--> | used | (Mb) | gc trigger | (Mb) | max used | (Mb) |\n",
       "|---|---|---|---|---|---|---|\n",
       "| Ncells |  614733 | 32.9 | 1321401 | 70.6 | 1321401 | 70.6 |\n",
       "| Vcells | 1093659 |  8.4 | 8388608 | 64.0 | 1632451 | 12.5 |\n",
       "\n"
      ],
      "text/plain": [
       "       used    (Mb) gc trigger (Mb) max used (Mb)\n",
       "Ncells  614733 32.9 1321401    70.6 1321401  70.6\n",
       "Vcells 1093659  8.4 8388608    64.0 1632451  12.5"
      ]
     },
     "metadata": {},
     "output_type": "display_data"
    },
    {
     "name": "stderr",
     "output_type": "stream",
     "text": [
      "Warning message:\n",
      "\"package 'data.table' was built under R version 4.2.3\"\n",
      "Warning message:\n",
      "\"package 'rpart' was built under R version 4.2.3\"\n",
      "Warning message:\n",
      "\"package 'rpart.plot' was built under R version 4.2.3\"\n",
      "Warning message:\n",
      "\"package 'caret' was built under R version 4.2.3\"\n",
      "Loading required package: ggplot2\n",
      "\n",
      "Loading required package: lattice\n",
      "\n"
     ]
    }
   ],
   "source": [
    "rm( list=ls())\n",
    "gc()\n",
    "\n",
    "library( \"data.table\")   #cargo la libreria  data.table\n",
    "library( \"rpart\")  #cargo la libreria  rpart\n",
    "library( \"rpart.plot\")\n",
    "library( \"caret\")\n",
    "\n",
    "options(repr.plot.width=20, repr.plot.height=10) \n",
    "setwd(\".\\\\\")  #Aqui se debe poner la ruta de la PC local"
   ]
  },
  {
   "cell_type": "code",
   "execution_count": 2,
   "metadata": {
    "tags": [],
    "vscode": {
     "languageId": "r"
    }
   },
   "outputs": [],
   "source": [
    "dataset <- fread(\"./datasets/dataset_pequeno.csv\")   #cargo el dataset #cargo el dataset\n",
    "dataset <- dataset[ foto_mes==202107 ]  # me quedo solo con el periodo 202107"
   ]
  },
  {
   "cell_type": "code",
   "execution_count": 3,
   "metadata": {
    "tags": [],
    "vscode": {
     "languageId": "r"
    }
   },
   "outputs": [],
   "source": [
    "#creo training con 70%  y testing con 30%\n",
    "set.seed(13)\n",
    "train_rows <- createDataPartition(dataset$clase_ternaria, p= 0.70,list= FALSE)\n",
    "dtrain  <- dataset[ train_rows]\n",
    "dtest  <-  dataset[ -train_rows]"
   ]
  },
  {
   "cell_type": "markdown",
   "metadata": {},
   "source": [
    "Entreno el modelo en los datos de training"
   ]
  },
  {
   "cell_type": "code",
   "execution_count": 4,
   "metadata": {
    "tags": [],
    "vscode": {
     "languageId": "r"
    }
   },
   "outputs": [],
   "source": [
    "param  <- list(\"cp\"= -0.5,\n",
    "               \"minsplit\"=  900,\n",
    "               \"minbucket\"= 440,\n",
    "               \"maxdepth\"= 5\n",
    "              )"
   ]
  },
  {
   "cell_type": "markdown",
   "metadata": {},
   "source": [
    "Entreno el modelo en los datos de training"
   ]
  },
  {
   "cell_type": "code",
   "execution_count": 5,
   "metadata": {
    "tags": [],
    "vscode": {
     "languageId": "r"
    }
   },
   "outputs": [],
   "source": [
    "#genero el modelo\n",
    "modelo <-  rpart::rpart(formula= \"clase_ternaria ~ .\" ,\n",
    "                        data= dtrain,\n",
    "                        xval= 0,\n",
    "                        control= param)"
   ]
  },
  {
   "cell_type": "markdown",
   "metadata": {},
   "source": [
    "aplico el modelo a los datos de testing"
   ]
  },
  {
   "cell_type": "code",
   "execution_count": 6,
   "metadata": {
    "tags": [],
    "vscode": {
     "languageId": "r"
    }
   },
   "outputs": [],
   "source": [
    "prediccion  <- predict( modelo, dtest, type = \"prob\")"
   ]
  },
  {
   "cell_type": "markdown",
   "metadata": {},
   "source": [
    "### Calculo la ganancia del modelo en los datos de testing"
   ]
  },
  {
   "cell_type": "markdown",
   "metadata": {},
   "source": [
    "a partir de la prediccion, calculo la probabilidad de BAJA+2 de cada registro de testing  **dtest**"
   ]
  },
  {
   "cell_type": "code",
   "execution_count": 7,
   "metadata": {
    "tags": [],
    "vscode": {
     "languageId": "r"
    }
   },
   "outputs": [],
   "source": [
    "prob_baja2  <- prediccion[, \"BAJA+2\"]"
   ]
  },
  {
   "cell_type": "markdown",
   "metadata": {},
   "source": [
    "Para el cálculo de la ganancia del modelo aplicado a testing debo tener en cuenta lo siguiente\n",
    "* Solo envio estimulo a los registros que el modelo asigno una probabilidad mayor a 0.025\n",
    "* Si no envio estimulo, no gano ni pierdo, es decir la ganacia es cero\n",
    "* Si el registro al que envio el estímulo es un **BAJA+2**  entonces la ganancia es de +117000\n",
    "* Si el registro al que envio el estímulo es un **BAJA+1**  entonces la ganancia es de  -3000\n",
    "* Si el registro al que envio el estímulo es un **CONTINUA** entonces la ganancia es de  -3000"
   ]
  },
  {
   "cell_type": "markdown",
   "metadata": {},
   "source": [
    "##### A la condición que solo envio a los registros con probabilidad mayor a 1/60 la resuelvo con la condicion lógica  (prob_baja2> 0.025)\n",
    "<br>\n",
    "Esta condicion termina siendo un 0 o un 1\n",
    "<br>\n",
    "vale 1 si y solo si se cumple la condicion, es decir  si prob_baja2 es mayor a 0.025"
   ]
  },
  {
   "cell_type": "markdown",
   "metadata": {},
   "source": [
    "### La ganancia de +117000 o -3000 la resuelvo de esta forma ifelse( clase_ternaria==\"BAJA+2\", 117000, -3000)"
   ]
  },
  {
   "cell_type": "markdown",
   "metadata": {},
   "source": [
    "Finalmente,  que se cumplan ambas condiciones al mismo tiempo, en este caso, es multiplicarlas, o sea\n",
    "<br>\n",
    "(prob_baja2> 0.025) * ifelse( clase_ternaria==\"BAJA+2\", 117000, -3000)\n",
    "<br>\n",
    "La condicion anterior toma los siguientes valores"
   ]
  },
  {
   "cell_type": "markdown",
   "metadata": {},
   "source": [
    "| prob(BAJA+2) | clase_ternaria | ganancia |\n",
    "| --- | :---: | ---: |\n",
    "| menor o igual a 0.025 | BAJA+1 | 0 |\n",
    "| menor o igual a 0.025 | CONTINUA | 0 |\n",
    "| menor o igual a 0.025 | BAJA+2 | 0 |\n",
    "| mayor a 0.025 | BAJA+1 | -3000 |\n",
    "| mayor a 0.025 | CONTINUA | -3000 |\n",
    "| mayor a 0.025 | BAJA+2 | 117000 |\n"
   ]
  },
  {
   "cell_type": "markdown",
   "metadata": {},
   "source": [
    "Finalmente hago el calculo en data.table"
   ]
  },
  {
   "cell_type": "code",
   "execution_count": 8,
   "metadata": {
    "tags": [],
    "vscode": {
     "languageId": "r"
    }
   },
   "outputs": [],
   "source": [
    "ganancia_testing <- dtest[ , sum(  (prob_baja2>0.025) * ifelse( clase_ternaria==\"BAJA+2\", 117000, -3000) )]"
   ]
  },
  {
   "cell_type": "code",
   "execution_count": 9,
   "metadata": {
    "tags": [],
    "vscode": {
     "languageId": "r"
    }
   },
   "outputs": [
    {
     "data": {
      "text/html": [
       "16473000"
      ],
      "text/latex": [
       "16473000"
      ],
      "text/markdown": [
       "16473000"
      ],
      "text/plain": [
       "[1] 16473000"
      ]
     },
     "metadata": {},
     "output_type": "display_data"
    }
   ],
   "source": [
    "ganancia_testing"
   ]
  },
  {
   "cell_type": "markdown",
   "metadata": {},
   "source": [
    "Es importante que la ganancia esta calculada sobre los datos de testing, que en este caso son apenas el 30%\n",
    "<br>\n",
    "Si quiero extrapolar a todo el dataset, debo hacer el **cociente** de esa ganancia por 0.30   ( coloquialmente, debo dividir por 0.30 )"
   ]
  },
  {
   "cell_type": "code",
   "execution_count": 10,
   "metadata": {
    "tags": [],
    "vscode": {
     "languageId": "r"
    }
   },
   "outputs": [],
   "source": [
    "ganancia_testing_normalizada  <-  ganancia_testing/0.3"
   ]
  },
  {
   "cell_type": "code",
   "execution_count": 11,
   "metadata": {
    "tags": [],
    "vscode": {
     "languageId": "r"
    }
   },
   "outputs": [
    {
     "data": {
      "text/html": [
       "54910000"
      ],
      "text/latex": [
       "54910000"
      ],
      "text/markdown": [
       "54910000"
      ],
      "text/plain": [
       "[1] 54910000"
      ]
     },
     "metadata": {},
     "output_type": "display_data"
    }
   ],
   "source": [
    "ganancia_testing_normalizada"
   ]
  }
 ],
 "metadata": {
  "kernelspec": {
   "display_name": "R",
   "language": "R",
   "name": "ir"
  },
  "language_info": {
   "codemirror_mode": "r",
   "file_extension": ".r",
   "mimetype": "text/x-r-source",
   "name": "R",
   "pygments_lexer": "r",
   "version": "4.2.2"
  }
 },
 "nbformat": 4,
 "nbformat_minor": 4
}
