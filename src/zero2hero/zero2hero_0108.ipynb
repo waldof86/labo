{
 "cells": [
  {
   "cell_type": "markdown",
   "metadata": {},
   "source": [
    "# Zero to Hero"
   ]
  },
  {
   "cell_type": "markdown",
   "metadata": {},
   "source": [
    "## 1.08 Unos buenos hiperparametros"
   ]
  },
  {
   "cell_type": "markdown",
   "metadata": {},
   "source": [
    "Se aplicará el modelo generado por rpart a los datos nuevos y se genera la salida para Kaggle"
   ]
  },
  {
   "cell_type": "code",
   "execution_count": 1,
   "metadata": {
    "tags": [],
    "vscode": {
     "languageId": "r"
    }
   },
   "outputs": [
    {
     "data": {
      "text/html": [
       "<table class=\"dataframe\">\n",
       "<caption>A matrix: 2 × 6 of type dbl</caption>\n",
       "<thead>\n",
       "\t<tr><th></th><th scope=col>used</th><th scope=col>(Mb)</th><th scope=col>gc trigger</th><th scope=col>(Mb)</th><th scope=col>max used</th><th scope=col>(Mb)</th></tr>\n",
       "</thead>\n",
       "<tbody>\n",
       "\t<tr><th scope=row>Ncells</th><td> 614719</td><td>32.9</td><td>1321401</td><td>70.6</td><td>1321401</td><td>70.6</td></tr>\n",
       "\t<tr><th scope=row>Vcells</th><td>1093594</td><td> 8.4</td><td>8388608</td><td>64.0</td><td>1632451</td><td>12.5</td></tr>\n",
       "</tbody>\n",
       "</table>\n"
      ],
      "text/latex": [
       "A matrix: 2 × 6 of type dbl\n",
       "\\begin{tabular}{r|llllll}\n",
       "  & used & (Mb) & gc trigger & (Mb) & max used & (Mb)\\\\\n",
       "\\hline\n",
       "\tNcells &  614719 & 32.9 & 1321401 & 70.6 & 1321401 & 70.6\\\\\n",
       "\tVcells & 1093594 &  8.4 & 8388608 & 64.0 & 1632451 & 12.5\\\\\n",
       "\\end{tabular}\n"
      ],
      "text/markdown": [
       "\n",
       "A matrix: 2 × 6 of type dbl\n",
       "\n",
       "| <!--/--> | used | (Mb) | gc trigger | (Mb) | max used | (Mb) |\n",
       "|---|---|---|---|---|---|---|\n",
       "| Ncells |  614719 | 32.9 | 1321401 | 70.6 | 1321401 | 70.6 |\n",
       "| Vcells | 1093594 |  8.4 | 8388608 | 64.0 | 1632451 | 12.5 |\n",
       "\n"
      ],
      "text/plain": [
       "       used    (Mb) gc trigger (Mb) max used (Mb)\n",
       "Ncells  614719 32.9 1321401    70.6 1321401  70.6\n",
       "Vcells 1093594  8.4 8388608    64.0 1632451  12.5"
      ]
     },
     "metadata": {},
     "output_type": "display_data"
    },
    {
     "name": "stderr",
     "output_type": "stream",
     "text": [
      "Warning message:\n",
      "\"package 'data.table' was built under R version 4.2.3\"\n",
      "Warning message:\n",
      "\"package 'rpart' was built under R version 4.2.3\"\n",
      "Warning message:\n",
      "\"package 'rpart.plot' was built under R version 4.2.3\"\n"
     ]
    }
   ],
   "source": [
    "rm( list=ls())\n",
    "gc()\n",
    "\n",
    "library( \"data.table\")   #cargo la libreria  data.table\n",
    "library( \"rpart\")  #cargo la libreria  rpart\n",
    "library( \"rpart.plot\")\n",
    "\n",
    "options(repr.plot.width=20, repr.plot.height=10) \n",
    "setwd(\".\\\\\")  #Aqui se debe poner la ruta de la PC local"
   ]
  },
  {
   "cell_type": "code",
   "execution_count": 2,
   "metadata": {
    "tags": [],
    "vscode": {
     "languageId": "r"
    }
   },
   "outputs": [],
   "source": [
    "dataset <- fread(\"./datasets/dataset_pequeno.csv\")   #cargo el dataset #cargo el dataset\n",
    "dtrain <- dataset[ foto_mes==202107 ]\n",
    "dapply <- dataset[ foto_mes==202109 ]"
   ]
  },
  {
   "cell_type": "markdown",
   "metadata": {},
   "source": [
    "defino unos parametros interesantes\n",
    "<br>\n",
    "los hiperparametros van en una lista\n",
    "<br>\n",
    "notar la forma en que esos parametros se pasan a la funcion rpart"
   ]
  },
  {
   "cell_type": "code",
   "execution_count": 3,
   "metadata": {
    "tags": [],
    "vscode": {
     "languageId": "r"
    }
   },
   "outputs": [],
   "source": [
    "param  <- list(\"cp\"= -0.5,\n",
    "               \"minsplit\"=  900,\n",
    "               \"minbucket\"= 440,\n",
    "               \"maxdepth\"= 5\n",
    "              )"
   ]
  },
  {
   "cell_type": "code",
   "execution_count": 4,
   "metadata": {
    "tags": [],
    "vscode": {
     "languageId": "r"
    }
   },
   "outputs": [],
   "source": [
    "#genero el modelo\n",
    "modelo <-  rpart::rpart(formula= \"clase_ternaria ~ .\" ,\n",
    "                        data= dtrain,\n",
    "                        xval= 0,\n",
    "                        control= param)"
   ]
  },
  {
   "cell_type": "markdown",
   "metadata": {},
   "source": [
    "Aplico el modelo a los datos dapply  pidiendo que me devuelva probabildades"
   ]
  },
  {
   "cell_type": "code",
   "execution_count": 5,
   "metadata": {
    "tags": [],
    "vscode": {
     "languageId": "r"
    }
   },
   "outputs": [],
   "source": [
    "prediccion  <- predict( modelo, dapply, type = \"prob\")"
   ]
  },
  {
   "cell_type": "markdown",
   "metadata": {},
   "source": [
    "Genero la salida"
   ]
  },
  {
   "cell_type": "code",
   "execution_count": 6,
   "metadata": {
    "tags": [],
    "vscode": {
     "languageId": "r"
    }
   },
   "outputs": [],
   "source": [
    "prob_baja2  <- prediccion[, \"BAJA+2\"]\n",
    "Predicted   <- ifelse( prob_baja2 > 0.025, 1, 0 )  # 0.025 es la probabilidad de corte\n",
    "\n",
    "entrega  <-  as.data.table( list( \"numero_de_cliente\"=dapply$numero_de_cliente, \"Predicted\"=Predicted)  )\n",
    "\n",
    "#creo la carpeta donde va el experimento\n",
    "dir.create( \"./exp/\",  showWarnings = FALSE ) \n",
    "dir.create( \"./exp/ZH2018/\", showWarnings = FALSE )\n",
    "\n",
    "#genero el archivo para Kaggle\n",
    "fwrite( entrega, \n",
    "        file= \"./exp/ZH2018/para_Kaggle_0108.csv\",\n",
    "        sep=  \",\" )"
   ]
  },
  {
   "cell_type": "markdown",
   "metadata": {},
   "source": [
    "¿Cuánto le da la ganancia en el Public Leaderboard?"
   ]
  }
 ],
 "metadata": {
  "kernelspec": {
   "display_name": "R",
   "language": "R",
   "name": "ir"
  },
  "language_info": {
   "codemirror_mode": "r",
   "file_extension": ".r",
   "mimetype": "text/x-r-source",
   "name": "R",
   "pygments_lexer": "r",
   "version": "4.2.2"
  }
 },
 "nbformat": 4,
 "nbformat_minor": 4
}
