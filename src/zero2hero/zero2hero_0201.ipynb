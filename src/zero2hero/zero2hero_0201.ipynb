{
 "cells": [
  {
   "cell_type": "markdown",
   "metadata": {},
   "source": [
    "# Zero to Hero"
   ]
  },
  {
   "cell_type": "markdown",
   "metadata": {},
   "source": [
    "## 2.01 Optimizacion Bayesiana"
   ]
  },
  {
   "cell_type": "raw",
   "metadata": {},
   "source": [
    "El objetivo es mostrar como funciona la Optimizacion Bayesiana en el caso mas simple : una funcion univariada"
   ]
  },
  {
   "cell_type": "markdown",
   "metadata": {},
   "source": [
    "### Advertencia"
   ]
  },
  {
   "cell_type": "markdown",
   "metadata": {},
   "source": [
    "El uso del método de Optimización Bayesiana para la optimización de hiperparámetros en modelos predictivos tiene menos de una década.\n",
    "Entender los fundamentos de la O.B. requieren de una sólida formación matemática y **no** son el objetivo de esta asignatura.\n",
    "Para quienes deseen aventurarse a los detalles técnicos:\n",
    "* El paper original de la libreria mlrMBO (año 2018 )   https://arxiv.org/pdf/1703.03373.pdf\n",
    "* El método de Kriging , tal cual se deriva del uso original, en este pequeño libro de 106 páginas \"Basic Steps in Geostatistics: The Variogram and Kriging\" https://www.pdfdrive.com/basic-steps-in-geostatistics-the-variogram-and-kriging-e187336318.html"
   ]
  },
  {
   "cell_type": "markdown",
   "metadata": {},
   "source": [
    "### El código"
   ]
  },
  {
   "cell_type": "code",
   "execution_count": 1,
   "metadata": {
    "tags": [],
    "vscode": {
     "languageId": "r"
    }
   },
   "outputs": [
    {
     "data": {
      "text/html": [
       "<table class=\"dataframe\">\n",
       "<caption>A matrix: 2 × 6 of type dbl</caption>\n",
       "<thead>\n",
       "\t<tr><th></th><th scope=col>used</th><th scope=col>(Mb)</th><th scope=col>gc trigger</th><th scope=col>(Mb)</th><th scope=col>max used</th><th scope=col>(Mb)</th></tr>\n",
       "</thead>\n",
       "<tbody>\n",
       "\t<tr><th scope=row>Ncells</th><td> 614734</td><td>32.9</td><td>1321401</td><td>70.6</td><td>1321401</td><td>70.6</td></tr>\n",
       "\t<tr><th scope=row>Vcells</th><td>1093620</td><td> 8.4</td><td>8388608</td><td>64.0</td><td>1632451</td><td>12.5</td></tr>\n",
       "</tbody>\n",
       "</table>\n"
      ],
      "text/latex": [
       "A matrix: 2 × 6 of type dbl\n",
       "\\begin{tabular}{r|llllll}\n",
       "  & used & (Mb) & gc trigger & (Mb) & max used & (Mb)\\\\\n",
       "\\hline\n",
       "\tNcells &  614734 & 32.9 & 1321401 & 70.6 & 1321401 & 70.6\\\\\n",
       "\tVcells & 1093620 &  8.4 & 8388608 & 64.0 & 1632451 & 12.5\\\\\n",
       "\\end{tabular}\n"
      ],
      "text/markdown": [
       "\n",
       "A matrix: 2 × 6 of type dbl\n",
       "\n",
       "| <!--/--> | used | (Mb) | gc trigger | (Mb) | max used | (Mb) |\n",
       "|---|---|---|---|---|---|---|\n",
       "| Ncells |  614734 | 32.9 | 1321401 | 70.6 | 1321401 | 70.6 |\n",
       "| Vcells | 1093620 |  8.4 | 8388608 | 64.0 | 1632451 | 12.5 |\n",
       "\n"
      ],
      "text/plain": [
       "       used    (Mb) gc trigger (Mb) max used (Mb)\n",
       "Ncells  614734 32.9 1321401    70.6 1321401  70.6\n",
       "Vcells 1093620  8.4 8388608    64.0 1632451  12.5"
      ]
     },
     "metadata": {},
     "output_type": "display_data"
    },
    {
     "name": "stderr",
     "output_type": "stream",
     "text": [
      "Warning message:\n",
      "\"package 'data.table' was built under R version 4.2.3\"\n",
      "Warning message:\n",
      "\"package 'DiceKriging' was built under R version 4.2.3\"\n",
      "Warning message:\n",
      "\"package 'mlrMBO' was built under R version 4.2.3\"\n",
      "Loading required package: mlr\n",
      "\n",
      "Warning message:\n",
      "\"package 'mlr' was built under R version 4.2.3\"\n",
      "Loading required package: ParamHelpers\n",
      "\n",
      "Warning message:\n",
      "\"package 'ParamHelpers' was built under R version 4.2.3\"\n",
      "Warning message: 'mlr' is in 'maintenance-only' mode since July 2019.\n",
      "Future development will only happen in 'mlr3'\n",
      "(<https://mlr3.mlr-org.com>). Due to the focus on 'mlr3' there might be\n",
      "uncaught bugs meanwhile in {mlr} - please consider switching.\n",
      "\n",
      "Loading required package: smoof\n",
      "\n",
      "Warning message:\n",
      "\"package 'smoof' was built under R version 4.2.3\"\n",
      "Loading required package: checkmate\n",
      "\n",
      "Warning message:\n",
      "\"package 'checkmate' was built under R version 4.2.3\"\n",
      "\n",
      "Attaching package: 'checkmate'\n",
      "\n",
      "\n",
      "The following object is masked from 'package:DiceKriging':\n",
      "\n",
      "    checkNames\n",
      "\n",
      "\n"
     ]
    }
   ],
   "source": [
    "#Ejemplo de optimizacion bayesiana, univariada\n",
    "\n",
    "#limpio la memoria\n",
    "rm( list=ls() )  #remove all objects\n",
    "gc()             #garbage collection\n",
    "\n",
    "library(\"data.table\")\n",
    "#paquetes necesarios para la Bayesian Optimization\n",
    "library(\"DiceKriging\")\n",
    "library(\"mlrMBO\")\n",
    "\n",
    "options(repr.plot.width=20, repr.plot.height=10)"
   ]
  },
  {
   "cell_type": "markdown",
   "metadata": {},
   "source": [
    "### Defino la funcion a optimizar, un polinomio de grado 4"
   ]
  },
  {
   "cell_type": "code",
   "execution_count": 2,
   "metadata": {
    "tags": [],
    "vscode": {
     "languageId": "r"
    }
   },
   "outputs": [],
   "source": [
    "func_univariada01  <- function( x )\n",
    "{\n",
    "  y  <- -2 * (x+13) * (x-3) * (x-7) * (x-19)\n",
    "\n",
    "  return( y )\n",
    "}"
   ]
  },
  {
   "cell_type": "markdown",
   "metadata": {},
   "source": [
    "Grafico la funcion"
   ]
  },
  {
   "cell_type": "code",
   "execution_count": 5,
   "metadata": {
    "tags": [],
    "vscode": {
     "languageId": "r"
    }
   },
   "outputs": [
    {
     "data": {
      "image/png": "[encoded data removed]",
      "text/plain": [
       "plot without title"
      ]
     },
     "metadata": {
      "image/png": {
       "height": 600,
       "width": 1200
      }
     },
     "output_type": "display_data"
    }
   ],
   "source": [
    "intervalo  <- seq(-15,21,0.1)\n",
    "\n",
    "plot(intervalo, func_univariada01(intervalo))"
   ]
  },
  {
   "cell_type": "markdown",
   "metadata": {},
   "source": [
    "La funcion tiene dos máximos, uno de ellos es el global."
   ]
  },
  {
   "cell_type": "markdown",
   "metadata": {},
   "source": [
    "### Optimizacion Bayesiana"
   ]
  },
  {
   "cell_type": "markdown",
   "metadata": {},
   "source": [
    "¿Qué tan rápido encontrará la Optmización Bayesiana el máximo global?"
   ]
  },
  {
   "cell_type": "markdown",
   "metadata": {},
   "source": [
    "Defino las caracteristicas de la optimizacion"
   ]
  },
  {
   "cell_type": "markdown",
   "metadata": {},
   "source": [
    "* **fn**    es el nombre de la funcion\n",
    "* **minimize**   por defecto es TRUE,  pero en este caso le asigno FALSE, ya que deseo maximizar  el valor\n",
    "* **par.set**  indica cuales son los hiperparmetros de la funcion, en este caso hay una sola variable que llamé  x\n",
    "---\n",
    "* **makeNumericParam** indica que ese hiperparámetro es un numero real, una variable continua  ( no es ni un entero ni una categoria )"
   ]
  },
  {
   "cell_type": "code",
   "execution_count": 6,
   "metadata": {
    "tags": [],
    "vscode": {
     "languageId": "r"
    }
   },
   "outputs": [],
   "source": [
    "obj.fun  <- makeSingleObjectiveFunction(\n",
    "              fn=       func_univariada01,\n",
    "              minimize= FALSE,   #estoy Maximizando la ganancia\n",
    "              #par.set=  makeParamSet(  makeNumericParam( \"x\", lower= -100, upper=  100) ),\n",
    "              par.set=  makeParamSet(  makeNumericParam( \"x\", lower= -20, upper=  22) ),\n",
    "             )"
   ]
  },
  {
   "cell_type": "markdown",
   "metadata": {},
   "source": [
    "ahora defino la funcion proxy, la que se construye internamente intentando emular la realidad"
   ]
  },
  {
   "cell_type": "markdown",
   "metadata": {},
   "source": [
    "* **cl**  es la clase de learner,  \"reg.km\" indica el método de kriging \"**reg**ression **k**riging **m**ethodd\"\n",
    "* **predict.type**  es el tipo de prediccion que deseo me devuelva, \"se\" significa que espero dos valores  media y standard error\n",
    "* **covtype**    es la funcion de covarianza que se va a utilizar, cual es la covarianza de dos mediciones como fucion de la distancia entre los puntos donde fueron tomadas las mediciones, fue inventada por Bertil Matérn "
   ]
  },
  {
   "cell_type": "markdown",
   "metadata": {},
   "source": [
    "El método de kriging puede verse en su forma original (la geología) , esta presentación https://www.youtube.com/watch?v=ZB7GvJrNKq0"
   ]
  },
  {
   "cell_type": "code",
   "execution_count": 7,
   "metadata": {
    "tags": [],
    "vscode": {
     "languageId": "r"
    }
   },
   "outputs": [],
   "source": [
    "fproxy  <- makeLearner( cl= \"regr.km\",\n",
    "                        predict.type= \"se\", \n",
    "                        covtype= \"matern3_2\" )"
   ]
  },
  {
   "cell_type": "markdown",
   "metadata": {},
   "source": [
    "ultima definicion,  especificar la optimizacion bayesiana\n",
    "*  **crit**   indica el criterio con el que se completan los valores iniciales \"no inteligentes\"\n",
    "*  **iters**  indica la cantidad de iteraciones inteligentes que hará la Optimizacion Bayesiana, las que son adicionales a las primeras cuatro de este caso.*  **iters**  indica la cantidad de iteraciones inteligentes que hará la Optimizacion Bayesiana, las que son adicionales a las primeras cuatro de este caso."
   ]
  },
  {
   "cell_type": "code",
   "execution_count": 13,
   "metadata": {
    "tags": [],
    "vscode": {
     "languageId": "r"
    }
   },
   "outputs": [],
   "source": [
    "ctrl  <- makeMBOControl()\n",
    "ctrl  <- setMBOControlInfill( ctrl, crit= makeMBOInfillCritEI())\n",
    "ctrl  <- setMBOControlTermination( ctrl, iters= 5 )"
   ]
  },
  {
   "cell_type": "markdown",
   "metadata": {},
   "source": [
    "finalmente , lanzo la Optimizacion Bayesiana"
   ]
  },
  {
   "cell_type": "markdown",
   "metadata": {},
   "source": [
    "* **fun**  es la especificacion de la funcion que deseo optimizar, si maximizo o minimizo, cuales son las variables de la misma\n",
    "* **learner**  especifica cual es la función proxy interna que va a utilizar la Optimziación Bayesiana\n",
    "* **control**  indica la la forma en que se harán las iteraciones"
   ]
  },
  {
   "cell_type": "code",
   "execution_count": 14,
   "metadata": {
    "tags": [],
    "vscode": {
     "languageId": "r"
    }
   },
   "outputs": [
    {
     "name": "stderr",
     "output_type": "stream",
     "text": [
      "Computing y column(s) for design. Not provided.\n",
      "\n",
      "[mbo] 0: x=-2.52 : y = 2.37e+04 : 0.0 secs : initdesign\n",
      "\n",
      "[mbo] 0: x=10.9 : y = 1.19e+04 : 0.0 secs : initdesign\n",
      "\n",
      "[mbo] 0: x=21.8 : y = -5.4e+04 : 0.0 secs : initdesign\n",
      "\n",
      "[mbo] 0: x=-16.9 : y = -1.33e+05 : 0.0 secs : initdesign\n",
      "\n"
     ]
    },
    {
     "name": "stdout",
     "output_type": "stream",
     "text": [
      "\n",
      "optimisation start\n",
      "------------------\n",
      "* estimation method   : MLE \n",
      "* optimisation method : BFGS \n",
      "* analytical gradient : used\n",
      "* trend model : ~1\n",
      "* covariance model : \n",
      "  - type :  matern3_2 \n",
      "  - nugget : NO\n",
      "  - parameters lower bounds :  1e-10 \n",
      "  - parameters upper bounds :  77.35811 \n",
      "  - best initial criterion value(s) :  -49.95355 \n",
      "\n",
      "N = 1, M = 5 machine precision = 2.22045e-16\n",
      "At X0, 0 variables are exactly at the bounds\n",
      "At iterate     0  f=       49.954  |proj g|=     0.038561\n",
      "At iterate     1  f =       49.952  |proj g|=      0.038467\n",
      "At iterate     2  f =        49.83  |proj g|=             0\n",
      "\n",
      "iterations 2\n",
      "function evaluations 3\n",
      "segments explored during Cauchy searches 2\n",
      "BFGS updates skipped 0\n",
      "active bounds at final generalized Cauchy point 1\n",
      "norm of the final projected gradient 0\n",
      "final function value 49.8297\n",
      "\n",
      "F = 49.8297\n",
      "final  value 49.829656 \n",
      "converged\n"
     ]
    },
    {
     "name": "stderr",
     "output_type": "stream",
     "text": [
      "[mbo] 1: x=8.44 : y = 3.56e+03 : 0.0 secs : infill_ei\n",
      "\n"
     ]
    },
    {
     "name": "stdout",
     "output_type": "stream",
     "text": [
      "\n",
      "optimisation start\n",
      "------------------\n",
      "* estimation method   : MLE \n",
      "* optimisation method : BFGS \n",
      "* analytical gradient : used\n",
      "* trend model : ~1\n",
      "* covariance model : \n",
      "  - type :  matern3_2 \n",
      "  - nugget : NO\n",
      "  - parameters lower bounds :  1e-10 \n",
      "  - parameters upper bounds :  77.35811 \n",
      "  - best initial criterion value(s) :  -61.19396 \n",
      "\n",
      "N = 1, M = 5 machine precision = 2.22045e-16\n",
      "At X0, 0 variables are exactly at the bounds\n",
      "At iterate     0  f=       61.194  |proj g|=     0.040445\n",
      "At iterate     1  f =       61.192  |proj g|=         0.039\n",
      "At iterate     2  f =        61.17  |proj g|=     0.0041173\n",
      "At iterate     3  f =       61.169  |proj g|=    0.00051846\n",
      "At iterate     4  f =       61.169  |proj g|=    8.8066e-06\n",
      "At iterate     5  f =       61.169  |proj g|=    1.9412e-08\n",
      "\n",
      "iterations 5\n",
      "function evaluations 6\n",
      "segments explored during Cauchy searches 5\n",
      "BFGS updates skipped 0\n",
      "active bounds at final generalized Cauchy point 0\n",
      "norm of the final projected gradient 1.94117e-08\n",
      "final function value 61.1692\n",
      "\n",
      "F = 61.1692\n",
      "final  value 61.169244 \n",
      "converged\n"
     ]
    },
    {
     "name": "stderr",
     "output_type": "stream",
     "text": [
      "[mbo] 2: x=0.823 : y = 6.76e+03 : 0.0 secs : infill_ei\n",
      "\n"
     ]
    },
    {
     "name": "stdout",
     "output_type": "stream",
     "text": [
      "\n",
      "optimisation start\n",
      "------------------\n",
      "* estimation method   : MLE \n",
      "* optimisation method : BFGS \n",
      "* analytical gradient : used\n",
      "* trend model : ~1\n",
      "* covariance model : \n",
      "  - type :  matern3_2 \n",
      "  - nugget : NO\n",
      "  - parameters lower bounds :  1e-10 \n",
      "  - parameters upper bounds :  77.35811 \n",
      "  - best initial criterion value(s) :  -72.45917 \n",
      "\n",
      "N = 1, M = 5 machine precision = 2.22045e-16\n",
      "At X0, 0 variables are exactly at the bounds\n",
      "At iterate     0  f=       72.459  |proj g|=     0.048129\n",
      "At iterate     1  f =       72.457  |proj g|=      0.047495\n",
      "At iterate     2  f =       72.398  |proj g|=      0.013322\n",
      "At iterate     3  f =       72.395  |proj g|=     0.0067852\n",
      "At iterate     4  f =       72.394  |proj g|=    0.00052013\n",
      "At iterate     5  f =       72.394  |proj g|=    1.8255e-05\n",
      "At iterate     6  f =       72.394  |proj g|=    5.1771e-08\n",
      "\n",
      "iterations 6\n",
      "function evaluations 8\n",
      "segments explored during Cauchy searches 6\n",
      "BFGS updates skipped 0\n",
      "active bounds at final generalized Cauchy point 0\n",
      "norm of the final projected gradient 5.17711e-08\n",
      "final function value 72.3943\n",
      "\n",
      "F = 72.3943\n",
      "final  value 72.394341 \n",
      "converged\n"
     ]
    },
    {
     "name": "stderr",
     "output_type": "stream",
     "text": [
      "[mbo] 3: x=-4.74 : y = 3.56e+04 : 0.0 secs : infill_ei\n",
      "\n"
     ]
    },
    {
     "name": "stdout",
     "output_type": "stream",
     "text": [
      "\n",
      "optimisation start\n",
      "------------------\n",
      "* estimation method   : MLE \n",
      "* optimisation method : BFGS \n",
      "* analytical gradient : used\n",
      "* trend model : ~1\n",
      "* covariance model : \n",
      "  - type :  matern3_2 \n",
      "  - nugget : NO\n",
      "  - parameters lower bounds :  1e-10 \n",
      "  - parameters upper bounds :  77.35811 \n",
      "  - best initial criterion value(s) :  -83.89144 \n",
      "\n",
      "N = 1, M = 5 machine precision = 2.22045e-16\n",
      "At X0, 0 variables are exactly at the bounds\n",
      "At iterate     0  f=       83.891  |proj g|=     0.020095\n",
      "At iterate     1  f =       83.891  |proj g|=       0.01971\n",
      "At iterate     2  f =       83.882  |proj g|=     0.0041858\n",
      "At iterate     3  f =       83.882  |proj g|=     0.0006552\n",
      "At iterate     4  f =       83.882  |proj g|=    1.7953e-05\n",
      "At iterate     5  f =       83.882  |proj g|=    7.9955e-08\n",
      "\n",
      "iterations 5\n",
      "function evaluations 6\n",
      "segments explored during Cauchy searches 5\n",
      "BFGS updates skipped 0\n",
      "active bounds at final generalized Cauchy point 0\n",
      "norm of the final projected gradient 7.9955e-08\n",
      "final function value 83.882\n",
      "\n",
      "F = 83.882\n",
      "final  value 83.882006 \n",
      "converged\n"
     ]
    },
    {
     "name": "stderr",
     "output_type": "stream",
     "text": [
      "[mbo] 4: x=-6.36 : y = 4.21e+04 : 0.0 secs : infill_ei\n",
      "\n"
     ]
    },
    {
     "name": "stdout",
     "output_type": "stream",
     "text": [
      "\n",
      "optimisation start\n",
      "------------------\n",
      "* estimation method   : MLE \n",
      "* optimisation method : BFGS \n",
      "* analytical gradient : used\n",
      "* trend model : ~1\n",
      "* covariance model : \n",
      "  - type :  matern3_2 \n",
      "  - nugget : NO\n",
      "  - parameters lower bounds :  1e-10 \n",
      "  - parameters upper bounds :  77.35811 \n",
      "  - best initial criterion value(s) :  -94.84889 \n",
      "\n",
      "N = 1, M = 5 machine precision = 2.22045e-16\n",
      "At X0, 0 variables are exactly at the bounds\n",
      "At iterate     0  f=       94.849  |proj g|=     0.015419\n",
      "At iterate     1  f =       94.849  |proj g|=      0.015207\n",
      "At iterate     2  f =       94.841  |proj g|=     0.0032187\n",
      "At iterate     3  f =       94.841  |proj g|=    0.00050927\n",
      "At iterate     4  f =       94.841  |proj g|=    1.4142e-05\n",
      "At iterate     5  f =       94.841  |proj g|=    6.4459e-08\n",
      "\n",
      "iterations 5\n",
      "function evaluations 6\n",
      "segments explored during Cauchy searches 5\n",
      "BFGS updates skipped 0\n",
      "active bounds at final generalized Cauchy point 0\n",
      "norm of the final projected gradient 6.44585e-08\n",
      "final function value 94.8412\n",
      "\n",
      "F = 94.8412\n",
      "final  value 94.841167 \n",
      "converged\n"
     ]
    },
    {
     "name": "stderr",
     "output_type": "stream",
     "text": [
      "[mbo] 5: x=-7.54 : y = 4.44e+04 : 0.0 secs : infill_ei\n",
      "\n"
     ]
    },
    {
     "name": "stdout",
     "output_type": "stream",
     "text": [
      "\n",
      "optimisation start\n",
      "------------------\n",
      "* estimation method   : MLE \n",
      "* optimisation method : BFGS \n",
      "* analytical gradient : used\n",
      "* trend model : ~1\n",
      "* covariance model : \n",
      "  - type :  matern3_2 \n",
      "  - nugget : NO\n",
      "  - parameters lower bounds :  1e-10 \n",
      "  - parameters upper bounds :  77.35811 \n",
      "  - best initial criterion value(s) :  -105.2417 \n",
      "\n",
      "N = 1, M = 5 machine precision = 2.22045e-16\n",
      "At X0, 0 variables are exactly at the bounds\n",
      "At iterate     0  f=       105.24  |proj g|=     0.032599\n",
      "At iterate     1  f =       105.24  |proj g|=      0.031888\n",
      "At iterate     2  f =       105.21  |proj g|=      0.006237\n",
      "At iterate     3  f =       105.21  |proj g|=     0.0015044\n",
      "At iterate     4  f =       105.21  |proj g|=    9.9196e-05\n",
      "At iterate     5  f =       105.21  |proj g|=    1.7186e-06\n",
      "At iterate     6  f =       105.21  |proj g|=    2.0075e-09\n",
      "\n",
      "iterations 6\n",
      "function evaluations 7\n",
      "segments explored during Cauchy searches 6\n",
      "BFGS updates skipped 0\n",
      "active bounds at final generalized Cauchy point 0\n",
      "norm of the final projected gradient 2.0075e-09\n",
      "final function value 105.213\n",
      "\n",
      "F = 105.213\n",
      "final  value 105.212686 \n",
      "converged\n"
     ]
    }
   ],
   "source": [
    "run  <- mbo( fun=      obj.fun, \n",
    "             learner= fproxy, \n",
    "             control= ctrl )"
   ]
  },
  {
   "cell_type": "code",
   "execution_count": 15,
   "metadata": {
    "tags": [],
    "vscode": {
     "languageId": "r"
    }
   },
   "outputs": [],
   "source": [
    "tb_resultados  <- as.data.table( run$opt.path )"
   ]
  },
  {
   "cell_type": "code",
   "execution_count": 16,
   "metadata": {
    "tags": [],
    "vscode": {
     "languageId": "r"
    }
   },
   "outputs": [
    {
     "data": {
      "text/html": [
       "<table class=\"dataframe\">\n",
       "<caption>A data.table: 9 × 13</caption>\n",
       "<thead>\n",
       "\t<tr><th scope=col>x</th><th scope=col>y</th><th scope=col>dob</th><th scope=col>eol</th><th scope=col>error.message</th><th scope=col>exec.time</th><th scope=col>ei</th><th scope=col>error.model</th><th scope=col>train.time</th><th scope=col>prop.type</th><th scope=col>propose.time</th><th scope=col>se</th><th scope=col>mean</th></tr>\n",
       "\t<tr><th scope=col>&lt;dbl&gt;</th><th scope=col>&lt;dbl&gt;</th><th scope=col>&lt;int&gt;</th><th scope=col>&lt;int&gt;</th><th scope=col>&lt;chr&gt;</th><th scope=col>&lt;dbl&gt;</th><th scope=col>&lt;dbl&gt;</th><th scope=col>&lt;chr&gt;</th><th scope=col>&lt;dbl&gt;</th><th scope=col>&lt;chr&gt;</th><th scope=col>&lt;dbl&gt;</th><th scope=col>&lt;dbl&gt;</th><th scope=col>&lt;dbl&gt;</th></tr>\n",
       "</thead>\n",
       "<tbody>\n",
       "\t<tr><td> -2.5191137</td><td>  23698.357</td><td>0</td><td>NA</td><td>NA</td><td>0</td><td>        NA</td><td>NA</td><td>  NA</td><td>initdesign</td><td>  NA</td><td>       NA</td><td>       NA</td></tr>\n",
       "\t<tr><td> 10.8816720</td><td>  11863.109</td><td>0</td><td>NA</td><td>NA</td><td>0</td><td>        NA</td><td>NA</td><td>  NA</td><td>initdesign</td><td>  NA</td><td>       NA</td><td>       NA</td></tr>\n",
       "\t<tr><td> 21.7918319</td><td> -53999.238</td><td>0</td><td>NA</td><td>NA</td><td>0</td><td>        NA</td><td>NA</td><td>  NA</td><td>initdesign</td><td>  NA</td><td>       NA</td><td>       NA</td></tr>\n",
       "\t<tr><td>-16.8872233</td><td>-132540.670</td><td>0</td><td>NA</td><td>NA</td><td>0</td><td>        NA</td><td>NA</td><td>  NA</td><td>initdesign</td><td>  NA</td><td>       NA</td><td>       NA</td></tr>\n",
       "\t<tr><td>  8.4434736</td><td>   3557.387</td><td>1</td><td>NA</td><td>NA</td><td>0</td><td>-5309.0153</td><td>NA</td><td>0.02</td><td>infill_ei </td><td>0.20</td><td>62222.725</td><td>-37744.61</td></tr>\n",
       "\t<tr><td>  0.8225622</td><td>   6759.357</td><td>2</td><td>NA</td><td>NA</td><td>0</td><td>-9316.9904</td><td>NA</td><td>0.03</td><td>infill_ei </td><td>0.19</td><td>29657.487</td><td> 18274.46</td></tr>\n",
       "\t<tr><td> -4.7380764</td><td>  35627.606</td><td>3</td><td>NA</td><td>NA</td><td>0</td><td>-3025.3055</td><td>NA</td><td>0.01</td><td>infill_ei </td><td>0.17</td><td>17855.853</td><td> 13034.02</td></tr>\n",
       "\t<tr><td> -6.3589521</td><td>  42111.192</td><td>4</td><td>NA</td><td>NA</td><td>0</td><td>-1983.8710</td><td>NA</td><td>0.02</td><td>infill_ei </td><td>0.17</td><td>12127.881</td><td> 28123.05</td></tr>\n",
       "\t<tr><td> -7.5445665</td><td>  44418.553</td><td>5</td><td>NA</td><td>NA</td><td>0</td><td> -982.7217</td><td>NA</td><td>0.01</td><td>infill_ei </td><td>0.19</td><td> 7555.775</td><td> 36407.41</td></tr>\n",
       "</tbody>\n",
       "</table>\n"
      ],
      "text/latex": [
       "A data.table: 9 × 13\n",
       "\\begin{tabular}{lllllllllllll}\n",
       " x & y & dob & eol & error.message & exec.time & ei & error.model & train.time & prop.type & propose.time & se & mean\\\\\n",
       " <dbl> & <dbl> & <int> & <int> & <chr> & <dbl> & <dbl> & <chr> & <dbl> & <chr> & <dbl> & <dbl> & <dbl>\\\\\n",
       "\\hline\n",
       "\t  -2.5191137 &   23698.357 & 0 & NA & NA & 0 &         NA & NA &   NA & initdesign &   NA &        NA &        NA\\\\\n",
       "\t  10.8816720 &   11863.109 & 0 & NA & NA & 0 &         NA & NA &   NA & initdesign &   NA &        NA &        NA\\\\\n",
       "\t  21.7918319 &  -53999.238 & 0 & NA & NA & 0 &         NA & NA &   NA & initdesign &   NA &        NA &        NA\\\\\n",
       "\t -16.8872233 & -132540.670 & 0 & NA & NA & 0 &         NA & NA &   NA & initdesign &   NA &        NA &        NA\\\\\n",
       "\t   8.4434736 &    3557.387 & 1 & NA & NA & 0 & -5309.0153 & NA & 0.02 & infill\\_ei  & 0.20 & 62222.725 & -37744.61\\\\\n",
       "\t   0.8225622 &    6759.357 & 2 & NA & NA & 0 & -9316.9904 & NA & 0.03 & infill\\_ei  & 0.19 & 29657.487 &  18274.46\\\\\n",
       "\t  -4.7380764 &   35627.606 & 3 & NA & NA & 0 & -3025.3055 & NA & 0.01 & infill\\_ei  & 0.17 & 17855.853 &  13034.02\\\\\n",
       "\t  -6.3589521 &   42111.192 & 4 & NA & NA & 0 & -1983.8710 & NA & 0.02 & infill\\_ei  & 0.17 & 12127.881 &  28123.05\\\\\n",
       "\t  -7.5445665 &   44418.553 & 5 & NA & NA & 0 &  -982.7217 & NA & 0.01 & infill\\_ei  & 0.19 &  7555.775 &  36407.41\\\\\n",
       "\\end{tabular}\n"
      ],
      "text/markdown": [
       "\n",
       "A data.table: 9 × 13\n",
       "\n",
       "| x &lt;dbl&gt; | y &lt;dbl&gt; | dob &lt;int&gt; | eol &lt;int&gt; | error.message &lt;chr&gt; | exec.time &lt;dbl&gt; | ei &lt;dbl&gt; | error.model &lt;chr&gt; | train.time &lt;dbl&gt; | prop.type &lt;chr&gt; | propose.time &lt;dbl&gt; | se &lt;dbl&gt; | mean &lt;dbl&gt; |\n",
       "|---|---|---|---|---|---|---|---|---|---|---|---|---|\n",
       "|  -2.5191137 |   23698.357 | 0 | NA | NA | 0 |         NA | NA |   NA | initdesign |   NA |        NA |        NA |\n",
       "|  10.8816720 |   11863.109 | 0 | NA | NA | 0 |         NA | NA |   NA | initdesign |   NA |        NA |        NA |\n",
       "|  21.7918319 |  -53999.238 | 0 | NA | NA | 0 |         NA | NA |   NA | initdesign |   NA |        NA |        NA |\n",
       "| -16.8872233 | -132540.670 | 0 | NA | NA | 0 |         NA | NA |   NA | initdesign |   NA |        NA |        NA |\n",
       "|   8.4434736 |    3557.387 | 1 | NA | NA | 0 | -5309.0153 | NA | 0.02 | infill_ei  | 0.20 | 62222.725 | -37744.61 |\n",
       "|   0.8225622 |    6759.357 | 2 | NA | NA | 0 | -9316.9904 | NA | 0.03 | infill_ei  | 0.19 | 29657.487 |  18274.46 |\n",
       "|  -4.7380764 |   35627.606 | 3 | NA | NA | 0 | -3025.3055 | NA | 0.01 | infill_ei  | 0.17 | 17855.853 |  13034.02 |\n",
       "|  -6.3589521 |   42111.192 | 4 | NA | NA | 0 | -1983.8710 | NA | 0.02 | infill_ei  | 0.17 | 12127.881 |  28123.05 |\n",
       "|  -7.5445665 |   44418.553 | 5 | NA | NA | 0 |  -982.7217 | NA | 0.01 | infill_ei  | 0.19 |  7555.775 |  36407.41 |\n",
       "\n"
      ],
      "text/plain": [
       "  x           y           dob eol error.message exec.time ei        \n",
       "1  -2.5191137   23698.357 0   NA  NA            0                 NA\n",
       "2  10.8816720   11863.109 0   NA  NA            0                 NA\n",
       "3  21.7918319  -53999.238 0   NA  NA            0                 NA\n",
       "4 -16.8872233 -132540.670 0   NA  NA            0                 NA\n",
       "5   8.4434736    3557.387 1   NA  NA            0         -5309.0153\n",
       "6   0.8225622    6759.357 2   NA  NA            0         -9316.9904\n",
       "7  -4.7380764   35627.606 3   NA  NA            0         -3025.3055\n",
       "8  -6.3589521   42111.192 4   NA  NA            0         -1983.8710\n",
       "9  -7.5445665   44418.553 5   NA  NA            0          -982.7217\n",
       "  error.model train.time prop.type  propose.time se        mean     \n",
       "1 NA            NA       initdesign   NA                NA        NA\n",
       "2 NA            NA       initdesign   NA                NA        NA\n",
       "3 NA            NA       initdesign   NA                NA        NA\n",
       "4 NA            NA       initdesign   NA                NA        NA\n",
       "5 NA          0.02       infill_ei  0.20         62222.725 -37744.61\n",
       "6 NA          0.03       infill_ei  0.19         29657.487  18274.46\n",
       "7 NA          0.01       infill_ei  0.17         17855.853  13034.02\n",
       "8 NA          0.02       infill_ei  0.17         12127.881  28123.05\n",
       "9 NA          0.01       infill_ei  0.19          7555.775  36407.41"
      ]
     },
     "metadata": {},
     "output_type": "display_data"
    }
   ],
   "source": [
    "tb_resultados"
   ]
  },
  {
   "cell_type": "code",
   "execution_count": 17,
   "metadata": {
    "tags": [],
    "vscode": {
     "languageId": "r"
    }
   },
   "outputs": [
    {
     "data": {
      "text/html": [
       "<table class=\"dataframe\">\n",
       "<caption>A data.table: 1 × 13</caption>\n",
       "<thead>\n",
       "\t<tr><th scope=col>x</th><th scope=col>y</th><th scope=col>dob</th><th scope=col>eol</th><th scope=col>error.message</th><th scope=col>exec.time</th><th scope=col>ei</th><th scope=col>error.model</th><th scope=col>train.time</th><th scope=col>prop.type</th><th scope=col>propose.time</th><th scope=col>se</th><th scope=col>mean</th></tr>\n",
       "\t<tr><th scope=col>&lt;dbl&gt;</th><th scope=col>&lt;dbl&gt;</th><th scope=col>&lt;int&gt;</th><th scope=col>&lt;int&gt;</th><th scope=col>&lt;chr&gt;</th><th scope=col>&lt;dbl&gt;</th><th scope=col>&lt;dbl&gt;</th><th scope=col>&lt;chr&gt;</th><th scope=col>&lt;dbl&gt;</th><th scope=col>&lt;chr&gt;</th><th scope=col>&lt;dbl&gt;</th><th scope=col>&lt;dbl&gt;</th><th scope=col>&lt;dbl&gt;</th></tr>\n",
       "</thead>\n",
       "<tbody>\n",
       "\t<tr><td>-7.544566</td><td>44418.55</td><td>5</td><td>NA</td><td>NA</td><td>0</td><td>-982.7217</td><td>NA</td><td>0.01</td><td>infill_ei</td><td>0.19</td><td>7555.775</td><td>36407.41</td></tr>\n",
       "</tbody>\n",
       "</table>\n"
      ],
      "text/latex": [
       "A data.table: 1 × 13\n",
       "\\begin{tabular}{lllllllllllll}\n",
       " x & y & dob & eol & error.message & exec.time & ei & error.model & train.time & prop.type & propose.time & se & mean\\\\\n",
       " <dbl> & <dbl> & <int> & <int> & <chr> & <dbl> & <dbl> & <chr> & <dbl> & <chr> & <dbl> & <dbl> & <dbl>\\\\\n",
       "\\hline\n",
       "\t -7.544566 & 44418.55 & 5 & NA & NA & 0 & -982.7217 & NA & 0.01 & infill\\_ei & 0.19 & 7555.775 & 36407.41\\\\\n",
       "\\end{tabular}\n"
      ],
      "text/markdown": [
       "\n",
       "A data.table: 1 × 13\n",
       "\n",
       "| x &lt;dbl&gt; | y &lt;dbl&gt; | dob &lt;int&gt; | eol &lt;int&gt; | error.message &lt;chr&gt; | exec.time &lt;dbl&gt; | ei &lt;dbl&gt; | error.model &lt;chr&gt; | train.time &lt;dbl&gt; | prop.type &lt;chr&gt; | propose.time &lt;dbl&gt; | se &lt;dbl&gt; | mean &lt;dbl&gt; |\n",
       "|---|---|---|---|---|---|---|---|---|---|---|---|---|\n",
       "| -7.544566 | 44418.55 | 5 | NA | NA | 0 | -982.7217 | NA | 0.01 | infill_ei | 0.19 | 7555.775 | 36407.41 |\n",
       "\n"
      ],
      "text/plain": [
       "  x         y        dob eol error.message exec.time ei        error.model\n",
       "1 -7.544566 44418.55 5   NA  NA            0         -982.7217 NA         \n",
       "  train.time prop.type propose.time se       mean    \n",
       "1 0.01       infill_ei 0.19         7555.775 36407.41"
      ]
     },
     "metadata": {},
     "output_type": "display_data"
    }
   ],
   "source": [
    "tb_resultados[ which.max( tb_resultados$y ) ]"
   ]
  },
  {
   "cell_type": "markdown",
   "metadata": {},
   "source": [
    "### Conclusiones"
   ]
  },
  {
   "cell_type": "markdown",
   "metadata": {},
   "source": [
    "La gran pregunta es :  la Optimización Bayesiana, ¿se focaliza luego de muchas iteraciones solo en el entorno del máximo que está cerca de x= -8 ?"
   ]
  }
 ],
 "metadata": {
  "kernelspec": {
   "display_name": "R",
   "language": "R",
   "name": "ir"
  },
  "language_info": {
   "codemirror_mode": "r",
   "file_extension": ".r",
   "mimetype": "text/x-r-source",
   "name": "R",
   "pygments_lexer": "r",
   "version": "4.2.2"
  }
 },
 "nbformat": 4,
 "nbformat_minor": 4
}
