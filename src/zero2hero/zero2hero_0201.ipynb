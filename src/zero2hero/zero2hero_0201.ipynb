{
 "cells": [
  {
   "cell_type": "markdown",
   "metadata": {},
   "source": [
    "# Zero to Hero"
   ]
  },
  {
   "cell_type": "markdown",
   "metadata": {},
   "source": [
    "## 2.01 Optimizacion Bayesiana"
   ]
  },
  {
   "cell_type": "raw",
   "metadata": {},
   "source": [
    "El objetivo es mostrar como funciona la Optimizacion Bayesiana en el caso mas simple : una funcion univariada"
   ]
  },
  {
   "cell_type": "markdown",
   "metadata": {},
   "source": [
    "### Advertencia"
   ]
  },
  {
   "cell_type": "markdown",
   "metadata": {},
   "source": [
    "El uso del método de Optimización Bayesiana para la optimización de hiperparámetros en modelos predictivos tiene menos de una década.\n",
    "Entender los fundamentos de la O.B. requieren de una sólida formación matemática y **no** son el objetivo de esta asignatura.\n",
    "Para quienes deseen aventurarse a los detalles técnicos:\n",
    "* El paper original de la libreria mlrMBO (año 2018 )   https://arxiv.org/pdf/1703.03373.pdf\n",
    "* El método de Kriging , tal cual se deriva del uso original, en este pequeño libro de 106 páginas \"Basic Steps in Geostatistics: The Variogram and Kriging\" https://www.pdfdrive.com/basic-steps-in-geostatistics-the-variogram-and-kriging-e187336318.html"
   ]
  },
  {
   "cell_type": "markdown",
   "metadata": {},
   "source": [
    "### El código"
   ]
  },
  {
   "cell_type": "code",
   "execution_count": 1,
   "metadata": {
    "tags": [],
    "vscode": {
     "languageId": "r"
    }
   },
   "outputs": [
    {
     "data": {
      "text/html": [
       "<table class=\"dataframe\">\n",
       "<caption>A matrix: 2 × 6 of type dbl</caption>\n",
       "<thead>\n",
       "\t<tr><th></th><th scope=col>used</th><th scope=col>(Mb)</th><th scope=col>gc trigger</th><th scope=col>(Mb)</th><th scope=col>max used</th><th scope=col>(Mb)</th></tr>\n",
       "</thead>\n",
       "<tbody>\n",
       "\t<tr><th scope=row>Ncells</th><td> 614728</td><td>32.9</td><td>1321401</td><td>70.6</td><td>1321401</td><td>70.6</td></tr>\n",
       "\t<tr><th scope=row>Vcells</th><td>1093606</td><td> 8.4</td><td>8388608</td><td>64.0</td><td>1632451</td><td>12.5</td></tr>\n",
       "</tbody>\n",
       "</table>\n"
      ],
      "text/latex": [
       "A matrix: 2 × 6 of type dbl\n",
       "\\begin{tabular}{r|llllll}\n",
       "  & used & (Mb) & gc trigger & (Mb) & max used & (Mb)\\\\\n",
       "\\hline\n",
       "\tNcells &  614728 & 32.9 & 1321401 & 70.6 & 1321401 & 70.6\\\\\n",
       "\tVcells & 1093606 &  8.4 & 8388608 & 64.0 & 1632451 & 12.5\\\\\n",
       "\\end{tabular}\n"
      ],
      "text/markdown": [
       "\n",
       "A matrix: 2 × 6 of type dbl\n",
       "\n",
       "| <!--/--> | used | (Mb) | gc trigger | (Mb) | max used | (Mb) |\n",
       "|---|---|---|---|---|---|---|\n",
       "| Ncells |  614728 | 32.9 | 1321401 | 70.6 | 1321401 | 70.6 |\n",
       "| Vcells | 1093606 |  8.4 | 8388608 | 64.0 | 1632451 | 12.5 |\n",
       "\n"
      ],
      "text/plain": [
       "       used    (Mb) gc trigger (Mb) max used (Mb)\n",
       "Ncells  614728 32.9 1321401    70.6 1321401  70.6\n",
       "Vcells 1093606  8.4 8388608    64.0 1632451  12.5"
      ]
     },
     "metadata": {},
     "output_type": "display_data"
    },
    {
     "name": "stderr",
     "output_type": "stream",
     "text": [
      "Warning message:\n",
      "\"package 'data.table' was built under R version 4.2.3\"\n",
      "Warning message:\n",
      "\"package 'DiceKriging' was built under R version 4.2.3\"\n",
      "Warning message:\n",
      "\"package 'mlrMBO' was built under R version 4.2.3\"\n",
      "Loading required package: mlr\n",
      "\n",
      "Warning message:\n",
      "\"package 'mlr' was built under R version 4.2.3\"\n",
      "Loading required package: ParamHelpers\n",
      "\n",
      "Warning message:\n",
      "\"package 'ParamHelpers' was built under R version 4.2.3\"\n",
      "Warning message: 'mlr' is in 'maintenance-only' mode since July 2019.\n",
      "Future development will only happen in 'mlr3'\n",
      "(<https://mlr3.mlr-org.com>). Due to the focus on 'mlr3' there might be\n",
      "uncaught bugs meanwhile in {mlr} - please consider switching.\n",
      "\n",
      "Loading required package: smoof\n",
      "\n",
      "Warning message:\n",
      "\"package 'smoof' was built under R version 4.2.3\"\n",
      "Loading required package: checkmate\n",
      "\n",
      "Warning message:\n",
      "\"package 'checkmate' was built under R version 4.2.3\"\n",
      "\n",
      "Attaching package: 'checkmate'\n",
      "\n",
      "\n",
      "The following object is masked from 'package:DiceKriging':\n",
      "\n",
      "    checkNames\n",
      "\n",
      "\n"
     ]
    }
   ],
   "source": [
    "#Ejemplo de optimizacion bayesiana, univariada\n",
    "\n",
    "#limpio la memoria\n",
    "rm( list=ls() )  #remove all objects\n",
    "gc()             #garbage collection\n",
    "\n",
    "library(\"data.table\")\n",
    "#paquetes necesarios para la Bayesian Optimization\n",
    "library(\"DiceKriging\")\n",
    "library(\"mlrMBO\")\n",
    "\n",
    "options(repr.plot.width=20, repr.plot.height=10)"
   ]
  },
  {
   "cell_type": "markdown",
   "metadata": {},
   "source": [
    "### Defino la funcion a optimizar, un polinomio de grado 4"
   ]
  },
  {
   "cell_type": "code",
   "execution_count": 2,
   "metadata": {
    "tags": [],
    "vscode": {
     "languageId": "r"
    }
   },
   "outputs": [],
   "source": [
    "func_univariada01  <- function( x )\n",
    "{\n",
    "  y  <- -2 * (x+13) * (x-3) * (x-7) * (x-19)\n",
    "\n",
    "  return( y )\n",
    "}"
   ]
  },
  {
   "cell_type": "markdown",
   "metadata": {},
   "source": [
    "Grafico la funcion"
   ]
  },
  {
   "cell_type": "code",
   "execution_count": 3,
   "metadata": {
    "tags": [],
    "vscode": {
     "languageId": "r"
    }
   },
   "outputs": [
    {
     "data": {
      "image/png": "[encoded data removed]",
      "text/plain": [
       "plot without title"
      ]
     },
     "metadata": {
      "image/png": {
       "height": 600,
       "width": 1200
      }
     },
     "output_type": "display_data"
    }
   ],
   "source": [
    "intervalo  <- seq(-15,21,0.1)\n",
    "plot(intervalo, func_univariada01(intervalo))"
   ]
  },
  {
   "cell_type": "markdown",
   "metadata": {},
   "source": [
    "La funcion tiene dos máximos, uno de ellos es el global."
   ]
  },
  {
   "cell_type": "markdown",
   "metadata": {},
   "source": [
    "### Optimizacion Bayesiana"
   ]
  },
  {
   "cell_type": "markdown",
   "metadata": {},
   "source": [
    "¿Qué tan rápido encontrará la Optmización Bayesiana el máximo global?"
   ]
  },
  {
   "cell_type": "markdown",
   "metadata": {},
   "source": [
    "Defino las caracteristicas de la optimizacion"
   ]
  },
  {
   "cell_type": "markdown",
   "metadata": {},
   "source": [
    "* **fn**    es el nombre de la funcion\n",
    "* **minimize**   por defecto es TRUE,  pero en este caso le asigno FALSE, ya que deseo maximizar  el valor\n",
    "* **par.set**  indica cuales son los hiperparmetros de la funcion, en este caso hay una sola variable que llamé  x\n",
    "---\n",
    "* **makeNumericParam** indica que ese hiperparámetro es un numero real, una variable continua  ( no es ni un entero ni una categoria )"
   ]
  },
  {
   "cell_type": "code",
   "execution_count": 4,
   "metadata": {
    "tags": [],
    "vscode": {
     "languageId": "r"
    }
   },
   "outputs": [],
   "source": [
    "obj.fun  <- makeSingleObjectiveFunction(\n",
    "              fn=       func_univariada01,\n",
    "              minimize= FALSE,   #estoy Maximizando la ganancia\n",
    "              par.set=  makeParamSet(  makeNumericParam( \"x\", lower= -100, upper=  100) ),\n",
    "             )"
   ]
  },
  {
   "cell_type": "markdown",
   "metadata": {},
   "source": [
    "ahora defino la funcion proxy, la que se construye internamente intentando emular la realidad"
   ]
  },
  {
   "cell_type": "markdown",
   "metadata": {},
   "source": [
    "* **cl**  es la clase de learner,  \"reg.km\" indica el método de kriging \"**reg**ression **k**riging **m**ethodd\"\n",
    "* **predict.type**  es el tipo de prediccion que deseo me devuelva, \"se\" significa que espero dos valores  media y standard error\n",
    "* **covtype**    es la funcion de covarianza que se va a utilizar, cual es la covarianza de dos mediciones como fucion de la distancia entre los puntos donde fueron tomadas las mediciones, fue inventada por Bertil Matérn "
   ]
  },
  {
   "cell_type": "markdown",
   "metadata": {},
   "source": [
    "El método de kriging puede verse en su forma original (la geología) , esta presentación https://www.youtube.com/watch?v=ZB7GvJrNKq0"
   ]
  },
  {
   "cell_type": "code",
   "execution_count": 5,
   "metadata": {
    "tags": [],
    "vscode": {
     "languageId": "r"
    }
   },
   "outputs": [],
   "source": [
    "fproxy  <- makeLearner( cl= \"regr.km\",\n",
    "                        predict.type= \"se\", \n",
    "                        covtype= \"matern3_2\" )"
   ]
  },
  {
   "cell_type": "markdown",
   "metadata": {},
   "source": [
    "ultima definicion,  especificar la optimizacion bayesiana\n",
    "*  **crit**   indica el criterio con el que se completan los valores iniciales \"no inteligentes\"\n",
    "*  **iters**  indica la cantidad de iteraciones inteligentes que hará la Optimizacion Bayesiana, las que son adicionales a las primeras cuatro de este caso.*  **iters**  indica la cantidad de iteraciones inteligentes que hará la Optimizacion Bayesiana, las que son adicionales a las primeras cuatro de este caso."
   ]
  },
  {
   "cell_type": "code",
   "execution_count": 7,
   "metadata": {
    "tags": [],
    "vscode": {
     "languageId": "r"
    }
   },
   "outputs": [],
   "source": [
    "ctrl  <- makeMBOControl()\n",
    "ctrl  <- setMBOControlInfill( ctrl, crit= makeMBOInfillCritEI())\n",
    "ctrl  <- setMBOControlTermination( ctrl, iters= 25 )"
   ]
  },
  {
   "cell_type": "markdown",
   "metadata": {},
   "source": [
    "finalmente , lanzo la Optimizacion Bayesiana"
   ]
  },
  {
   "cell_type": "markdown",
   "metadata": {},
   "source": [
    "* **fun**  es la especificacion de la funcion que deseo optimizar, si maximizo o minimizo, cuales son las variables de la misma\n",
    "* **learner**  especifica cual es la función proxy interna que va a utilizar la Optimziación Bayesiana\n",
    "* **control**  indica la la forma en que se harán las iteraciones"
   ]
  },
  {
   "cell_type": "code",
   "execution_count": 8,
   "metadata": {
    "tags": [],
    "vscode": {
     "languageId": "r"
    }
   },
   "outputs": [
    {
     "name": "stderr",
     "output_type": "stream",
     "text": [
      "Computing y column(s) for design. Not provided.\n",
      "\n",
      "[mbo] 0: x=-98.8 : y = -2.18e+08 : 0.0 secs : initdesign\n",
      "\n",
      "[mbo] 0: x=62.2 : y = -2.13e+07 : 0.0 secs : initdesign\n",
      "\n",
      "[mbo] 0: x=-10.6 : y = 3.41e+04 : 0.0 secs : initdesign\n",
      "\n",
      "[mbo] 0: x=19.4 : y = -4.62e+03 : 0.0 secs : initdesign\n",
      "\n"
     ]
    },
    {
     "name": "stdout",
     "output_type": "stream",
     "text": [
      "\n",
      "optimisation start\n",
      "------------------\n",
      "* estimation method   : MLE \n",
      "* optimisation method : BFGS \n",
      "* analytical gradient : used\n",
      "* trend model : ~1\n",
      "* covariance model : \n",
      "  - type :  matern3_2 \n",
      "  - nugget : NO\n",
      "  - parameters lower bounds :  1e-10 \n",
      "  - parameters upper bounds :  322.0969 \n",
      "  - best initial criterion value(s) :  -78.15895 \n",
      "\n",
      "N = 1, M = 5 machine precision = 2.22045e-16\n",
      "At X0, 0 variables are exactly at the bounds\n",
      "At iterate     0  f=       78.159  |proj g|=   0.00098273\n",
      "At iterate     1  f =       78.159  |proj g|=    0.00098257\n",
      "At iterate     2  f =       78.156  |proj g|=    0.00011586\n",
      "At iterate     3  f =       78.156  |proj g|=    1.1668e-05\n",
      "At iterate     4  f =       78.156  |proj g|=    1.2204e-07\n",
      "At iterate     5  f =       78.156  |proj g|=    1.3038e-10\n",
      "\n",
      "iterations 5\n",
      "function evaluations 6\n",
      "segments explored during Cauchy searches 5\n",
      "BFGS updates skipped 0\n",
      "active bounds at final generalized Cauchy point 0\n",
      "norm of the final projected gradient 1.30377e-10\n",
      "final function value 78.1561\n",
      "\n",
      "F = 78.1561\n",
      "final  value 78.156119 \n",
      "converged\n"
     ]
    },
    {
     "name": "stderr",
     "output_type": "stream",
     "text": [
      "[mbo] 1: x=3.01 : y = -11.4 : 0.0 secs : infill_ei\n",
      "\n"
     ]
    },
    {
     "name": "stdout",
     "output_type": "stream",
     "text": [
      "\n",
      "optimisation start\n",
      "------------------\n",
      "* estimation method   : MLE \n",
      "* optimisation method : BFGS \n",
      "* analytical gradient : used\n",
      "* trend model : ~1\n",
      "* covariance model : \n",
      "  - type :  matern3_2 \n",
      "  - nugget : NO\n",
      "  - parameters lower bounds :  1e-10 \n",
      "  - parameters upper bounds :  322.0969 \n",
      "  - best initial criterion value(s) :  -95.30468 \n",
      "\n",
      "N = 1, M = 5 machine precision = 2.22045e-16\n",
      "At X0, 0 variables are exactly at the bounds\n",
      "At iterate     0  f=       95.305  |proj g|=   0.00027905\n",
      "At iterate     1  f =       95.305  |proj g|=    0.00027902\n",
      "\n",
      "iterations 1\n",
      "function evaluations 2\n",
      "segments explored during Cauchy searches 1\n",
      "BFGS updates skipped 0\n",
      "active bounds at final generalized Cauchy point 0\n",
      "norm of the final projected gradient 0.000279016\n",
      "final function value 95.3047\n",
      "\n",
      "F = 95.3047\n",
      "final  value 95.304677 \n",
      "converged\n"
     ]
    },
    {
     "name": "stderr",
     "output_type": "stream",
     "text": [
      "[mbo] 2: x=100 : y = -1.65e+08 : 0.0 secs : infill_ei\n",
      "\n"
     ]
    },
    {
     "name": "stdout",
     "output_type": "stream",
     "text": [
      "\n",
      "optimisation start\n",
      "------------------\n",
      "* estimation method   : MLE \n",
      "* optimisation method : BFGS \n",
      "* analytical gradient : used\n",
      "* trend model : ~1\n",
      "* covariance model : \n",
      "  - type :  matern3_2 \n",
      "  - nugget : NO\n",
      "  - parameters lower bounds :  1e-10 \n",
      "  - parameters upper bounds :  397.601 \n",
      "  - best initial criterion value(s) :  -115.9589 \n",
      "\n",
      "N = 1, M = 5 machine precision = 2.22045e-16\n",
      "At X0, 0 variables are exactly at the bounds\n",
      "At iterate     0  f=       115.96  |proj g|=   0.00036628\n",
      "At iterate     1  f =       115.96  |proj g|=    0.00036617\n",
      "\n",
      "iterations 1\n",
      "function evaluations 2\n",
      "segments explored during Cauchy searches 1\n",
      "BFGS updates skipped 0\n",
      "active bounds at final generalized Cauchy point 0\n",
      "norm of the final projected gradient 0.000366173\n",
      "final function value 115.959\n",
      "\n",
      "F = 115.959\n",
      "final  value 115.958862 \n",
      "converged\n"
     ]
    },
    {
     "name": "stderr",
     "output_type": "stream",
     "text": [
      "[mbo] 3: x=40 : y = -2.71e+06 : 0.0 secs : infill_ei\n",
      "\n"
     ]
    },
    {
     "name": "stdout",
     "output_type": "stream",
     "text": [
      "\n",
      "optimisation start\n",
      "------------------\n",
      "* estimation method   : MLE \n",
      "* optimisation method : BFGS \n",
      "* analytical gradient : used\n",
      "* trend model : ~1\n",
      "* covariance model : \n",
      "  - type :  matern3_2 \n",
      "  - nugget : NO\n",
      "  - parameters lower bounds :  1e-10 \n",
      "  - parameters upper bounds :  397.601 \n",
      "  - best initial criterion value(s) :  -133.6185 \n",
      "\n",
      "N = 1, M = 5 machine precision = 2.22045e-16\n",
      "At X0, 0 variables are exactly at the bounds\n",
      "At iterate     0  f=       133.62  |proj g|=    0.0016772\n",
      "At iterate     1  f =       133.62  |proj g|=     0.0016768\n",
      "At iterate     2  f =       133.61  |proj g|=    0.00020628\n",
      "At iterate     3  f =       133.61  |proj g|=    2.9468e-05\n",
      "At iterate     4  f =       133.61  |proj g|=    6.2716e-07\n",
      "At iterate     5  f =       133.61  |proj g|=    1.9592e-09\n",
      "\n",
      "iterations 5\n",
      "function evaluations 6\n",
      "segments explored during Cauchy searches 5\n",
      "BFGS updates skipped 0\n",
      "active bounds at final generalized Cauchy point 0\n",
      "norm of the final projected gradient 1.95918e-09\n",
      "final function value 133.612\n",
      "\n",
      "F = 133.612\n",
      "final  value 133.611931 \n",
      "converged\n"
     ]
    },
    {
     "name": "stderr",
     "output_type": "stream",
     "text": [
      "[mbo] 4: x=-4.6 : y = 3.5e+04 : 0.0 secs : infill_ei\n",
      "\n"
     ]
    },
    {
     "name": "stdout",
     "output_type": "stream",
     "text": [
      "\n",
      "optimisation start\n",
      "------------------\n",
      "* estimation method   : MLE \n",
      "* optimisation method : BFGS \n",
      "* analytical gradient : used\n",
      "* trend model : ~1\n",
      "* covariance model : \n",
      "  - type :  matern3_2 \n",
      "  - nugget : NO\n",
      "  - parameters lower bounds :  1e-10 \n",
      "  - parameters upper bounds :  397.601 \n",
      "  - best initial criterion value(s) :  -149.5252 \n",
      "\n",
      "N = 1, M = 5 machine precision = 2.22045e-16\n",
      "At X0, 0 variables are exactly at the bounds\n",
      "At iterate     0  f=       149.53  |proj g|=   0.00084299\n",
      "At iterate     1  f =       149.53  |proj g|=    0.00084292\n",
      "At iterate     2  f =       149.52  |proj g|=     0.0001436\n",
      "At iterate     3  f =       149.52  |proj g|=    1.9675e-05\n",
      "At iterate     4  f =       149.52  |proj g|=    3.9176e-07\n",
      "At iterate     5  f =       149.52  |proj g|=    1.0961e-09\n",
      "\n",
      "iterations 5\n",
      "function evaluations 6\n",
      "segments explored during Cauchy searches 5\n",
      "BFGS updates skipped 0\n",
      "active bounds at final generalized Cauchy point 0\n",
      "norm of the final projected gradient 1.0961e-09\n",
      "final function value 149.521\n",
      "\n",
      "F = 149.521\n",
      "final  value 149.520915 \n",
      "converged\n"
     ]
    },
    {
     "name": "stderr",
     "output_type": "stream",
     "text": [
      "[mbo] 5: x=28.3 : y = -4.16e+05 : 0.0 secs : infill_ei\n",
      "\n"
     ]
    },
    {
     "name": "stdout",
     "output_type": "stream",
     "text": [
      "\n",
      "optimisation start\n",
      "------------------\n",
      "* estimation method   : MLE \n",
      "* optimisation method : BFGS \n",
      "* analytical gradient : used\n",
      "* trend model : ~1\n",
      "* covariance model : \n",
      "  - type :  matern3_2 \n",
      "  - nugget : NO\n",
      "  - parameters lower bounds :  1e-10 \n",
      "  - parameters upper bounds :  397.601 \n",
      "  - best initial criterion value(s) :  -165.6648 \n",
      "\n",
      "N = 1, M = 5 machine precision = 2.22045e-16\n",
      "At X0, 0 variables are exactly at the bounds\n",
      "At iterate     0  f=       165.66  |proj g|=    0.0002483\n",
      "At iterate     1  f =       165.66  |proj g|=    0.00024829\n",
      "\n",
      "iterations 1\n",
      "function evaluations 2\n",
      "segments explored during Cauchy searches 1\n",
      "BFGS updates skipped 0\n",
      "active bounds at final generalized Cauchy point 0\n",
      "norm of the final projected gradient 0.000248289\n",
      "final function value 165.665\n",
      "\n",
      "F = 165.665\n",
      "final  value 165.664791 \n",
      "converged\n"
     ]
    },
    {
     "name": "stderr",
     "output_type": "stream",
     "text": [
      "[mbo] 6: x=11.2 : y = 1.31e+04 : 0.0 secs : infill_ei\n",
      "\n"
     ]
    },
    {
     "name": "stdout",
     "output_type": "stream",
     "text": [
      "\n",
      "optimisation start\n",
      "------------------\n",
      "* estimation method   : MLE \n",
      "* optimisation method : BFGS \n",
      "* analytical gradient : used\n",
      "* trend model : ~1\n",
      "* covariance model : \n",
      "  - type :  matern3_2 \n",
      "  - nugget : NO\n",
      "  - parameters lower bounds :  1e-10 \n",
      "  - parameters upper bounds :  397.601 \n",
      "  - best initial criterion value(s) :  -181.2484 \n",
      "\n",
      "N = 1, M = 5 machine precision = 2.22045e-16\n",
      "At X0, 0 variables are exactly at the bounds\n",
      "At iterate     0  f=       181.25  |proj g|=   0.00059972\n",
      "At iterate     1  f =       181.25  |proj g|=    0.00059969\n",
      "\n",
      "iterations 1\n",
      "function evaluations 2\n",
      "segments explored during Cauchy searches 1\n",
      "BFGS updates skipped 0\n",
      "active bounds at final generalized Cauchy point 0\n",
      "norm of the final projected gradient 0.000599689\n",
      "final function value 181.248\n",
      "\n",
      "F = 181.248\n",
      "final  value 181.248446 \n",
      "converged\n"
     ]
    },
    {
     "name": "stderr",
     "output_type": "stream",
     "text": [
      "[mbo] 7: x=-22.4 : y = -5.87e+05 : 0.0 secs : infill_ei\n",
      "\n"
     ]
    },
    {
     "name": "stdout",
     "output_type": "stream",
     "text": [
      "\n",
      "optimisation start\n",
      "------------------\n",
      "* estimation method   : MLE \n",
      "* optimisation method : BFGS \n",
      "* analytical gradient : used\n",
      "* trend model : ~1\n",
      "* covariance model : \n",
      "  - type :  matern3_2 \n",
      "  - nugget : NO\n",
      "  - parameters lower bounds :  1e-10 \n",
      "  - parameters upper bounds :  397.601 \n",
      "  - best initial criterion value(s) :  -198.5748 \n",
      "\n",
      "N = 1, M = 5 machine precision = 2.22045e-16\n",
      "At X0, 0 variables are exactly at the bounds\n",
      "At iterate     0  f=       198.57  |proj g|=   0.00040658\n",
      "At iterate     1  f =       198.57  |proj g|=    0.00040657\n",
      "\n",
      "iterations 1\n",
      "function evaluations 2\n",
      "segments explored during Cauchy searches 1\n",
      "BFGS updates skipped 0\n",
      "active bounds at final generalized Cauchy point 0\n",
      "norm of the final projected gradient 0.000406569\n",
      "final function value 198.575\n",
      "\n",
      "F = 198.575\n",
      "final  value 198.574752 \n",
      "converged\n"
     ]
    },
    {
     "name": "stderr",
     "output_type": "stream",
     "text": [
      "[mbo] 8: x=-17 : y = -1.38e+05 : 0.0 secs : infill_ei\n",
      "\n"
     ]
    },
    {
     "name": "stdout",
     "output_type": "stream",
     "text": [
      "\n",
      "optimisation start\n",
      "------------------\n",
      "* estimation method   : MLE \n",
      "* optimisation method : BFGS \n",
      "* analytical gradient : used\n",
      "* trend model : ~1\n",
      "* covariance model : \n",
      "  - type :  matern3_2 \n",
      "  - nugget : NO\n",
      "  - parameters lower bounds :  1e-10 \n",
      "  - parameters upper bounds :  397.601 \n",
      "  - best initial criterion value(s) :  -213.7874 \n",
      "\n",
      "N = 1, M = 5 machine precision = 2.22045e-16\n",
      "At X0, 0 variables are exactly at the bounds\n",
      "At iterate     0  f=       213.79  |proj g|=   2.9906e-05\n",
      "At iterate     1  f =       213.79  |proj g|=    2.9905e-05\n",
      "\n",
      "iterations 1\n",
      "function evaluations 2\n",
      "segments explored during Cauchy searches 1\n",
      "BFGS updates skipped 0\n",
      "active bounds at final generalized Cauchy point 0\n",
      "norm of the final projected gradient 2.9905e-05\n",
      "final function value 213.787\n",
      "\n",
      "F = 213.787\n",
      "final  value 213.787386 \n",
      "converged\n"
     ]
    },
    {
     "name": "stderr",
     "output_type": "stream",
     "text": [
      "[mbo] 9: x=23.5 : y = -1.11e+05 : 0.0 secs : infill_ei\n",
      "\n"
     ]
    },
    {
     "name": "stdout",
     "output_type": "stream",
     "text": [
      "\n",
      "optimisation start\n",
      "------------------\n",
      "* estimation method   : MLE \n",
      "* optimisation method : BFGS \n",
      "* analytical gradient : used\n",
      "* trend model : ~1\n",
      "* covariance model : \n",
      "  - type :  matern3_2 \n",
      "  - nugget : NO\n",
      "  - parameters lower bounds :  1e-10 \n",
      "  - parameters upper bounds :  397.601 \n",
      "  - best initial criterion value(s) :  -228.3829 \n",
      "\n",
      "N = 1, M = 5 machine precision = 2.22045e-16\n",
      "At X0, 0 variables are exactly at the bounds\n",
      "At iterate     0  f=       228.38  |proj g|=   4.6735e-05\n",
      "At iterate     1  f =       228.38  |proj g|=    4.6734e-05\n",
      "\n",
      "iterations 1\n",
      "function evaluations 2\n",
      "segments explored during Cauchy searches 1\n",
      "BFGS updates skipped 0\n",
      "active bounds at final generalized Cauchy point 0\n",
      "norm of the final projected gradient 4.67341e-05\n",
      "final function value 228.383\n",
      "\n",
      "F = 228.383\n",
      "final  value 228.382889 \n",
      "converged\n"
     ]
    },
    {
     "name": "stderr",
     "output_type": "stream",
     "text": [
      "[mbo] 10: x=7.14 : y = 283 : 0.0 secs : infill_ei\n",
      "\n"
     ]
    },
    {
     "name": "stdout",
     "output_type": "stream",
     "text": [
      "\n",
      "optimisation start\n",
      "------------------\n",
      "* estimation method   : MLE \n",
      "* optimisation method : BFGS \n",
      "* analytical gradient : used\n",
      "* trend model : ~1\n",
      "* covariance model : \n",
      "  - type :  matern3_2 \n",
      "  - nugget : NO\n",
      "  - parameters lower bounds :  1e-10 \n",
      "  - parameters upper bounds :  397.601 \n",
      "  - best initial criterion value(s) :  -242.7653 \n",
      "\n",
      "N = 1, M = 5 machine precision = 2.22045e-16\n",
      "At X0, 0 variables are exactly at the bounds\n",
      "At iterate     0  f=       242.77  |proj g|=   0.00034162\n",
      "At iterate     1  f =       242.77  |proj g|=    0.00034161\n",
      "\n",
      "iterations 1\n",
      "function evaluations 2\n",
      "segments explored during Cauchy searches 1\n",
      "BFGS updates skipped 0\n",
      "active bounds at final generalized Cauchy point 0\n",
      "norm of the final projected gradient 0.000341614\n",
      "final function value 242.765\n",
      "\n",
      "F = 242.765\n",
      "final  value 242.765319 \n",
      "converged\n"
     ]
    },
    {
     "name": "stderr",
     "output_type": "stream",
     "text": [
      "[mbo] 11: x=15.3 : y = 2.14e+04 : 0.0 secs : infill_ei\n",
      "\n"
     ]
    },
    {
     "name": "stdout",
     "output_type": "stream",
     "text": [
      "\n",
      "optimisation start\n",
      "------------------\n",
      "* estimation method   : MLE \n",
      "* optimisation method : BFGS \n",
      "* analytical gradient : used\n",
      "* trend model : ~1\n",
      "* covariance model : \n",
      "  - type :  matern3_2 \n",
      "  - nugget : NO\n",
      "  - parameters lower bounds :  1e-10 \n",
      "  - parameters upper bounds :  397.601 \n",
      "  - best initial criterion value(s) :  -256.9717 \n",
      "\n",
      "N = 1, M = 5 machine precision = 2.22045e-16\n",
      "At X0, 0 variables are exactly at the bounds\n",
      "At iterate     0  f=       256.97  |proj g|=   0.00022232\n",
      "At iterate     1  f =       256.97  |proj g|=    0.00022232\n",
      "\n",
      "iterations 1\n",
      "function evaluations 2\n",
      "segments explored during Cauchy searches 1\n",
      "BFGS updates skipped 0\n",
      "active bounds at final generalized Cauchy point 0\n",
      "norm of the final projected gradient 0.000222318\n",
      "final function value 256.972\n",
      "\n",
      "F = 256.972\n",
      "final  value 256.971705 \n",
      "converged\n"
     ]
    },
    {
     "name": "stderr",
     "output_type": "stream",
     "text": [
      "[mbo] 12: x=-0.931 : y = 1.5e+04 : 0.0 secs : infill_ei\n",
      "\n"
     ]
    },
    {
     "name": "stdout",
     "output_type": "stream",
     "text": [
      "\n",
      "optimisation start\n",
      "------------------\n",
      "* estimation method   : MLE \n",
      "* optimisation method : BFGS \n",
      "* analytical gradient : used\n",
      "* trend model : ~1\n",
      "* covariance model : \n",
      "  - type :  matern3_2 \n",
      "  - nugget : NO\n",
      "  - parameters lower bounds :  1e-10 \n",
      "  - parameters upper bounds :  397.601 \n",
      "  - best initial criterion value(s) :  -271.0691 \n",
      "\n",
      "N = 1, M = 5 machine precision = 2.22045e-16\n",
      "At X0, 0 variables are exactly at the bounds\n",
      "At iterate     0  f=       271.07  |proj g|=   0.00022231\n",
      "At iterate     1  f =       271.07  |proj g|=     0.0002223\n",
      "\n",
      "iterations 1\n",
      "function evaluations 2\n",
      "segments explored during Cauchy searches 1\n",
      "BFGS updates skipped 0\n",
      "active bounds at final generalized Cauchy point 0\n",
      "norm of the final projected gradient 0.000222304\n",
      "final function value 271.069\n",
      "\n",
      "F = 271.069\n",
      "final  value 271.069124 \n",
      "converged\n"
     ]
    },
    {
     "name": "stderr",
     "output_type": "stream",
     "text": [
      "[mbo] 13: x=-7.71 : y = 4.45e+04 : 0.0 secs : infill_ei\n",
      "\n"
     ]
    },
    {
     "name": "stdout",
     "output_type": "stream",
     "text": [
      "\n",
      "optimisation start\n",
      "------------------\n",
      "* estimation method   : MLE \n",
      "* optimisation method : BFGS \n",
      "* analytical gradient : used\n",
      "* trend model : ~1\n",
      "* covariance model : \n",
      "  - type :  matern3_2 \n",
      "  - nugget : NO\n",
      "  - parameters lower bounds :  1e-10 \n",
      "  - parameters upper bounds :  397.601 \n",
      "  - best initial criterion value(s) :  -284.8099 \n",
      "\n",
      "N = 1, M = 5 machine precision = 2.22045e-16\n",
      "At X0, 0 variables are exactly at the bounds\n",
      "At iterate     0  f=       284.81  |proj g|=   0.00063887\n",
      "At iterate     1  f =       284.81  |proj g|=    0.00063886\n",
      "\n",
      "iterations 1\n",
      "function evaluations 2\n",
      "segments explored during Cauchy searches 1\n",
      "BFGS updates skipped 0\n",
      "active bounds at final generalized Cauchy point 0\n",
      "norm of the final projected gradient 0.000638856\n",
      "final function value 284.81\n",
      "\n",
      "F = 284.81\n",
      "final  value 284.809889 \n",
      "converged\n"
     ]
    },
    {
     "name": "stderr",
     "output_type": "stream",
     "text": [
      "[mbo] 14: x=-13.5 : y = -1.04e+04 : 0.0 secs : infill_ei\n",
      "\n"
     ]
    },
    {
     "name": "stdout",
     "output_type": "stream",
     "text": [
      "\n",
      "optimisation start\n",
      "------------------\n",
      "* estimation method   : MLE \n",
      "* optimisation method : BFGS \n",
      "* analytical gradient : used\n",
      "* trend model : ~1\n",
      "* covariance model : \n",
      "  - type :  matern3_2 \n",
      "  - nugget : NO\n",
      "  - parameters lower bounds :  1e-10 \n",
      "  - parameters upper bounds :  397.601 \n",
      "  - best initial criterion value(s) :  -298.5951 \n",
      "\n",
      "N = 1, M = 5 machine precision = 2.22045e-16\n",
      "At X0, 0 variables are exactly at the bounds\n",
      "At iterate     0  f=        298.6  |proj g|=    0.0013849\n",
      "At iterate     1  f =        298.6  |proj g|=     0.0013848\n",
      "At iterate     2  f =       298.57  |proj g|=             0\n",
      "\n",
      "iterations 2\n",
      "function evaluations 3\n",
      "segments explored during Cauchy searches 2\n",
      "BFGS updates skipped 0\n",
      "active bounds at final generalized Cauchy point 1\n",
      "norm of the final projected gradient 0\n",
      "final function value 298.574\n",
      "\n",
      "F = 298.574\n",
      "final  value 298.574307 \n",
      "converged\n"
     ]
    },
    {
     "name": "stderr",
     "output_type": "stream",
     "text": [
      "[mbo] 15: x=13.3 : y = 1.94e+04 : 0.0 secs : infill_ei\n",
      "\n"
     ]
    },
    {
     "name": "stdout",
     "output_type": "stream",
     "text": [
      "\n",
      "optimisation start\n",
      "------------------\n",
      "* estimation method   : MLE \n",
      "* optimisation method : BFGS \n",
      "* analytical gradient : used\n",
      "* trend model : ~1\n",
      "* covariance model : \n",
      "  - type :  matern3_2 \n",
      "  - nugget : NO\n",
      "  - parameters lower bounds :  1e-10 \n",
      "  - parameters upper bounds :  397.601 \n",
      "  - best initial criterion value(s) :  -311.7294 \n",
      "\n",
      "N = 1, M = 5 machine precision = 2.22045e-16\n",
      "At X0, 0 variables are exactly at the bounds\n",
      "At iterate     0  f=       311.73  |proj g|=    0.0017105\n",
      "At iterate     1  f =       311.73  |proj g|=     0.0017104\n",
      "At iterate     2  f =       311.71  |proj g|=             0\n",
      "\n",
      "iterations 2\n",
      "function evaluations 3\n",
      "segments explored during Cauchy searches 2\n",
      "BFGS updates skipped 0\n",
      "active bounds at final generalized Cauchy point 1\n",
      "norm of the final projected gradient 0\n",
      "final function value 311.713\n",
      "\n",
      "F = 311.713\n",
      "final  value 311.712938 \n",
      "converged\n"
     ]
    },
    {
     "name": "stderr",
     "output_type": "stream",
     "text": [
      "[mbo] 16: x=17.3 : y = 1.5e+04 : 0.0 secs : infill_ei\n",
      "\n"
     ]
    },
    {
     "name": "stdout",
     "output_type": "stream",
     "text": [
      "\n",
      "optimisation start\n",
      "------------------\n",
      "* estimation method   : MLE \n",
      "* optimisation method : BFGS \n",
      "* analytical gradient : used\n",
      "* trend model : ~1\n",
      "* covariance model : \n",
      "  - type :  matern3_2 \n",
      "  - nugget : NO\n",
      "  - parameters lower bounds :  1e-10 \n",
      "  - parameters upper bounds :  397.601 \n",
      "  - best initial criterion value(s) :  -324.8726 \n",
      "\n",
      "N = 1, M = 5 machine precision = 2.22045e-16\n",
      "At X0, 0 variables are exactly at the bounds\n",
      "At iterate     0  f=       324.87  |proj g|=    0.0030602\n",
      "At iterate     1  f =       324.87  |proj g|=     0.0030601\n",
      "At iterate     2  f =       324.77  |proj g|=             0\n",
      "\n",
      "iterations 2\n",
      "function evaluations 3\n",
      "segments explored during Cauchy searches 2\n",
      "BFGS updates skipped 0\n",
      "active bounds at final generalized Cauchy point 1\n",
      "norm of the final projected gradient 0\n",
      "final function value 324.769\n",
      "\n",
      "F = 324.769\n",
      "final  value 324.769096 \n",
      "converged\n"
     ]
    },
    {
     "name": "stderr",
     "output_type": "stream",
     "text": [
      "[mbo] 17: x=5.07 : y = -2.01e+03 : 0.0 secs : infill_ei\n",
      "\n"
     ]
    },
    {
     "name": "stdout",
     "output_type": "stream",
     "text": [
      "\n",
      "optimisation start\n",
      "------------------\n",
      "* estimation method   : MLE \n",
      "* optimisation method : BFGS \n",
      "* analytical gradient : used\n",
      "* trend model : ~1\n",
      "* covariance model : \n",
      "  - type :  matern3_2 \n",
      "  - nugget : NO\n",
      "  - parameters lower bounds :  1e-10 \n",
      "  - parameters upper bounds :  397.601 \n",
      "  - best initial criterion value(s) :  -337.9699 \n",
      "\n",
      "N = 1, M = 5 machine precision = 2.22045e-16\n",
      "At X0, 0 variables are exactly at the bounds\n",
      "At iterate     0  f=       337.97  |proj g|=    0.0033452\n",
      "At iterate     1  f =       337.97  |proj g|=     0.0033451\n",
      "At iterate     2  f =       337.87  |proj g|=             0\n",
      "\n",
      "iterations 2\n",
      "function evaluations 3\n",
      "segments explored during Cauchy searches 2\n",
      "BFGS updates skipped 0\n",
      "active bounds at final generalized Cauchy point 1\n",
      "norm of the final projected gradient 0\n",
      "final function value 337.873\n",
      "\n",
      "F = 337.873\n",
      "final  value 337.872532 \n",
      "converged\n"
     ]
    },
    {
     "name": "stderr",
     "output_type": "stream",
     "text": [
      "[mbo] 18: x=-2.81 : y = 2.53e+04 : 0.0 secs : infill_ei\n",
      "\n"
     ]
    },
    {
     "name": "stdout",
     "output_type": "stream",
     "text": [
      "\n",
      "optimisation start\n",
      "------------------\n",
      "* estimation method   : MLE \n",
      "* optimisation method : BFGS \n",
      "* analytical gradient : used\n",
      "* trend model : ~1\n",
      "* covariance model : \n",
      "  - type :  matern3_2 \n",
      "  - nugget : NO\n",
      "  - parameters lower bounds :  1e-10 \n",
      "  - parameters upper bounds :  397.601 \n",
      "  - best initial criterion value(s) :  -350.8084 \n",
      "\n",
      "N = 1, M = 5 machine precision = 2.22045e-16\n",
      "At X0, 0 variables are exactly at the bounds\n",
      "At iterate     0  f=       350.81  |proj g|=    0.0031801\n",
      "At iterate     1  f =       350.81  |proj g|=       0.00318\n",
      "At iterate     2  f =       350.77  |proj g|=             0\n",
      "\n",
      "iterations 2\n",
      "function evaluations 3\n",
      "segments explored during Cauchy searches 2\n",
      "BFGS updates skipped 0\n",
      "active bounds at final generalized Cauchy point 1\n",
      "norm of the final projected gradient 0\n",
      "final function value 350.769\n",
      "\n",
      "F = 350.769\n",
      "final  value 350.769179 \n",
      "converged\n"
     ]
    },
    {
     "name": "stderr",
     "output_type": "stream",
     "text": [
      "[mbo] 19: x=9.22 : y = 6e+03 : 0.0 secs : infill_ei\n",
      "\n"
     ]
    },
    {
     "name": "stdout",
     "output_type": "stream",
     "text": [
      "\n",
      "optimisation start\n",
      "------------------\n",
      "* estimation method   : MLE \n",
      "* optimisation method : BFGS \n",
      "* analytical gradient : used\n",
      "* trend model : ~1\n",
      "* covariance model : \n",
      "  - type :  matern3_2 \n",
      "  - nugget : NO\n",
      "  - parameters lower bounds :  1e-10 \n",
      "  - parameters upper bounds :  397.601 \n",
      "  - best initial criterion value(s) :  -363.9747 \n",
      "\n",
      "N = 1, M = 5 machine precision = 2.22045e-16\n",
      "At X0, 0 variables are exactly at the bounds\n",
      "At iterate     0  f=       363.97  |proj g|=    0.0056536\n",
      "At iterate     1  f =       363.97  |proj g|=     0.0056533\n",
      "At iterate     2  f =        363.7  |proj g|=             0\n",
      "\n",
      "iterations 2\n",
      "function evaluations 3\n",
      "segments explored during Cauchy searches 2\n",
      "BFGS updates skipped 0\n",
      "active bounds at final generalized Cauchy point 1\n",
      "norm of the final projected gradient 0\n",
      "final function value 363.702\n",
      "\n",
      "F = 363.702\n",
      "final  value 363.702158 \n",
      "converged\n"
     ]
    },
    {
     "name": "stderr",
     "output_type": "stream",
     "text": [
      "[mbo] 20: x=-6.22 : y = 4.17e+04 : 0.0 secs : infill_ei\n",
      "\n"
     ]
    },
    {
     "name": "stdout",
     "output_type": "stream",
     "text": [
      "\n",
      "optimisation start\n",
      "------------------\n",
      "* estimation method   : MLE \n",
      "* optimisation method : BFGS \n",
      "* analytical gradient : used\n",
      "* trend model : ~1\n",
      "* covariance model : \n",
      "  - type :  matern3_2 \n",
      "  - nugget : NO\n",
      "  - parameters lower bounds :  1e-10 \n",
      "  - parameters upper bounds :  397.601 \n",
      "  - best initial criterion value(s) :  -376.3306 \n",
      "\n",
      "N = 1, M = 5 machine precision = 2.22045e-16\n",
      "At X0, 0 variables are exactly at the bounds\n",
      "At iterate     0  f=       376.33  |proj g|=    0.0042501\n",
      "At iterate     1  f =       376.33  |proj g|=     0.0042499\n",
      "At iterate     2  f =       376.26  |proj g|=             0\n",
      "\n",
      "iterations 2\n",
      "function evaluations 3\n",
      "segments explored during Cauchy searches 2\n",
      "BFGS updates skipped 0\n",
      "active bounds at final generalized Cauchy point 1\n",
      "norm of the final projected gradient 0\n",
      "final function value 376.264\n",
      "\n",
      "F = 376.264\n",
      "final  value 376.263591 \n",
      "converged\n"
     ]
    },
    {
     "name": "stderr",
     "output_type": "stream",
     "text": [
      "[mbo] 21: x=1 : y = 6.04e+03 : 0.0 secs : infill_ei\n",
      "\n"
     ]
    },
    {
     "name": "stdout",
     "output_type": "stream",
     "text": [
      "\n",
      "optimisation start\n",
      "------------------\n",
      "* estimation method   : MLE \n",
      "* optimisation method : BFGS \n",
      "* analytical gradient : used\n",
      "* trend model : ~1\n",
      "* covariance model : \n",
      "  - type :  matern3_2 \n",
      "  - nugget : NO\n",
      "  - parameters lower bounds :  1e-10 \n",
      "  - parameters upper bounds :  397.601 \n",
      "  - best initial criterion value(s) :  -389.2 \n",
      "\n",
      "N = 1, M = 5 machine precision = 2.22045e-16\n",
      "At X0, 0 variables are exactly at the bounds\n",
      "At iterate     0  f=        389.2  |proj g|=    0.0049402\n",
      "At iterate     1  f =        389.2  |proj g|=       0.00494\n",
      "At iterate     2  f =        389.1  |proj g|=             0\n",
      "\n",
      "iterations 2\n",
      "function evaluations 3\n",
      "segments explored during Cauchy searches 2\n",
      "BFGS updates skipped 0\n",
      "active bounds at final generalized Cauchy point 1\n",
      "norm of the final projected gradient 0\n",
      "final function value 389.099\n",
      "\n",
      "F = 389.099\n",
      "final  value 389.098878 \n",
      "converged\n"
     ]
    },
    {
     "name": "stderr",
     "output_type": "stream",
     "text": [
      "[mbo] 22: x=-9.15 : y = 4.25e+04 : 0.0 secs : infill_ei\n",
      "\n"
     ]
    },
    {
     "name": "stdout",
     "output_type": "stream",
     "text": [
      "\n",
      "optimisation start\n",
      "------------------\n",
      "* estimation method   : MLE \n",
      "* optimisation method : BFGS \n",
      "* analytical gradient : used\n",
      "* trend model : ~1\n",
      "* covariance model : \n",
      "  - type :  matern3_2 \n",
      "  - nugget : NO\n",
      "  - parameters lower bounds :  1e-10 \n",
      "  - parameters upper bounds :  397.601 \n",
      "  - best initial criterion value(s) :  -401.5225 \n",
      "\n",
      "N = 1, M = 5 machine precision = 2.22045e-16\n",
      "At X0, 0 variables are exactly at the bounds\n",
      "At iterate     0  f=       401.52  |proj g|=    0.0046869\n",
      "At iterate     1  f =       401.52  |proj g|=     0.0046867\n",
      "At iterate     2  f =       401.51  |proj g|=             0\n",
      "\n",
      "iterations 2\n",
      "function evaluations 3\n",
      "segments explored during Cauchy searches 2\n",
      "BFGS updates skipped 0\n",
      "active bounds at final generalized Cauchy point 1\n",
      "norm of the final projected gradient 0\n",
      "final function value 401.507\n",
      "\n",
      "F = 401.507\n",
      "final  value 401.507280 \n",
      "converged\n"
     ]
    },
    {
     "name": "stderr",
     "output_type": "stream",
     "text": [
      "[mbo] 23: x=-19.6 : y = -3.03e+05 : 0.0 secs : infill_ei\n",
      "\n"
     ]
    },
    {
     "name": "stdout",
     "output_type": "stream",
     "text": [
      "\n",
      "optimisation start\n",
      "------------------\n",
      "* estimation method   : MLE \n",
      "* optimisation method : BFGS \n",
      "* analytical gradient : used\n",
      "* trend model : ~1\n",
      "* covariance model : \n",
      "  - type :  matern3_2 \n",
      "  - nugget : NO\n",
      "  - parameters lower bounds :  1e-10 \n",
      "  - parameters upper bounds :  397.601 \n",
      "  - best initial criterion value(s) :  -415.1416 \n",
      "\n",
      "N = 1, M = 5 machine precision = 2.22045e-16\n",
      "At X0, 0 variables are exactly at the bounds\n",
      "At iterate     0  f=       415.14  |proj g|=    0.0055647\n",
      "At iterate     1  f =       415.14  |proj g|=     0.0055645\n",
      "At iterate     2  f =       415.07  |proj g|=             0\n",
      "\n",
      "iterations 2\n",
      "function evaluations 3\n",
      "segments explored during Cauchy searches 2\n",
      "BFGS updates skipped 0\n",
      "active bounds at final generalized Cauchy point 1\n",
      "norm of the final projected gradient 0\n",
      "final function value 415.065\n",
      "\n",
      "F = 415.065\n",
      "final  value 415.065195 \n",
      "converged\n"
     ]
    },
    {
     "name": "stderr",
     "output_type": "stream",
     "text": [
      "[mbo] 24: x=21.3 : y = -4.05e+04 : 0.0 secs : infill_ei\n",
      "\n"
     ]
    },
    {
     "name": "stdout",
     "output_type": "stream",
     "text": [
      "\n",
      "optimisation start\n",
      "------------------\n",
      "* estimation method   : MLE \n",
      "* optimisation method : BFGS \n",
      "* analytical gradient : used\n",
      "* trend model : ~1\n",
      "* covariance model : \n",
      "  - type :  matern3_2 \n",
      "  - nugget : NO\n",
      "  - parameters lower bounds :  1e-10 \n",
      "  - parameters upper bounds :  397.601 \n",
      "  - best initial criterion value(s) :  -428.1132 \n",
      "\n",
      "N = 1, M = 5 machine precision = 2.22045e-16\n",
      "At X0, 0 variables are exactly at the bounds\n",
      "At iterate     0  f=       428.11  |proj g|=    0.0063918\n",
      "At iterate     1  f =       428.11  |proj g|=     0.0063915\n",
      "At iterate     2  f =       427.98  |proj g|=             0\n",
      "\n",
      "iterations 2\n",
      "function evaluations 3\n",
      "segments explored during Cauchy searches 2\n",
      "BFGS updates skipped 0\n",
      "active bounds at final generalized Cauchy point 1\n",
      "norm of the final projected gradient 0\n",
      "final function value 427.982\n",
      "\n",
      "F = 427.982\n",
      "final  value 427.982025 \n",
      "converged\n"
     ]
    },
    {
     "name": "stderr",
     "output_type": "stream",
     "text": [
      "[mbo] 25: x=-11.9 : y = 1.86e+04 : 0.0 secs : infill_ei\n",
      "\n"
     ]
    },
    {
     "name": "stdout",
     "output_type": "stream",
     "text": [
      "\n",
      "optimisation start\n",
      "------------------\n",
      "* estimation method   : MLE \n",
      "* optimisation method : BFGS \n",
      "* analytical gradient : used\n",
      "* trend model : ~1\n",
      "* covariance model : \n",
      "  - type :  matern3_2 \n",
      "  - nugget : NO\n",
      "  - parameters lower bounds :  1e-10 \n",
      "  - parameters upper bounds :  397.601 \n",
      "  - best initial criterion value(s) :  -440.4679 \n",
      "\n",
      "N = 1, M = 5 machine precision = 2.22045e-16\n",
      "At X0, 0 variables are exactly at the bounds\n",
      "At iterate     0  f=       440.47  |proj g|=    0.0067966\n",
      "At iterate     1  f =       440.47  |proj g|=     0.0067963\n",
      "At iterate     2  f =       440.34  |proj g|=             0\n",
      "\n",
      "iterations 2\n",
      "function evaluations 3\n",
      "segments explored during Cauchy searches 2\n",
      "BFGS updates skipped 0\n",
      "active bounds at final generalized Cauchy point 1\n",
      "norm of the final projected gradient 0\n",
      "final function value 440.338\n",
      "\n",
      "F = 440.338\n",
      "final  value 440.338352 \n",
      "converged\n"
     ]
    }
   ],
   "source": [
    "run  <- mbo( fun=      obj.fun, \n",
    "             learner= fproxy, \n",
    "             control= ctrl )"
   ]
  },
  {
   "cell_type": "code",
   "execution_count": 9,
   "metadata": {
    "tags": [],
    "vscode": {
     "languageId": "r"
    }
   },
   "outputs": [],
   "source": [
    "tb_resultados  <- as.data.table( run$opt.path )"
   ]
  },
  {
   "cell_type": "code",
   "execution_count": 10,
   "metadata": {
    "tags": [],
    "vscode": {
     "languageId": "r"
    }
   },
   "outputs": [
    {
     "data": {
      "text/html": [
       "<table class=\"dataframe\">\n",
       "<caption>A data.table: 29 × 13</caption>\n",
       "<thead>\n",
       "\t<tr><th scope=col>x</th><th scope=col>y</th><th scope=col>dob</th><th scope=col>eol</th><th scope=col>error.message</th><th scope=col>exec.time</th><th scope=col>ei</th><th scope=col>error.model</th><th scope=col>train.time</th><th scope=col>prop.type</th><th scope=col>propose.time</th><th scope=col>se</th><th scope=col>mean</th></tr>\n",
       "\t<tr><th scope=col>&lt;dbl&gt;</th><th scope=col>&lt;dbl&gt;</th><th scope=col>&lt;int&gt;</th><th scope=col>&lt;int&gt;</th><th scope=col>&lt;chr&gt;</th><th scope=col>&lt;dbl&gt;</th><th scope=col>&lt;dbl&gt;</th><th scope=col>&lt;chr&gt;</th><th scope=col>&lt;dbl&gt;</th><th scope=col>&lt;chr&gt;</th><th scope=col>&lt;dbl&gt;</th><th scope=col>&lt;dbl&gt;</th><th scope=col>&lt;dbl&gt;</th></tr>\n",
       "</thead>\n",
       "<tbody>\n",
       "\t<tr><td>-98.8008659</td><td>-2.177263e+08</td><td> 0</td><td>NA</td><td>NA</td><td>0.01</td><td>         NA</td><td>NA</td><td>  NA</td><td>initdesign</td><td>  NA</td><td>         NA</td><td>           NA</td></tr>\n",
       "\t<tr><td> 62.2476088</td><td>-2.130439e+07</td><td> 0</td><td>NA</td><td>NA</td><td>0.00</td><td>         NA</td><td>NA</td><td>  NA</td><td>initdesign</td><td>  NA</td><td>         NA</td><td>           NA</td></tr>\n",
       "\t<tr><td>-10.5891358</td><td> 3.410133e+04</td><td> 0</td><td>NA</td><td>NA</td><td>0.00</td><td>         NA</td><td>NA</td><td>  NA</td><td>initdesign</td><td>  NA</td><td>         NA</td><td>           NA</td></tr>\n",
       "\t<tr><td> 19.3537709</td><td>-4.624816e+03</td><td> 0</td><td>NA</td><td>NA</td><td>0.00</td><td>         NA</td><td>NA</td><td>  NA</td><td>initdesign</td><td>  NA</td><td>         NA</td><td>           NA</td></tr>\n",
       "\t<tr><td>  3.0055651</td><td>-1.138140e+01</td><td> 1</td><td>NA</td><td>NA</td><td>0.00</td><td>-8047390.37</td><td>NA</td><td>0.06</td><td>infill_ei </td><td>0.14</td><td>11926418.66</td><td>  5596408.370</td></tr>\n",
       "\t<tr><td> 99.9996341</td><td>-1.651359e+08</td><td> 2</td><td>NA</td><td>NA</td><td>0.00</td><td>-3851393.90</td><td>NA</td><td>0.01</td><td>infill_ei </td><td>0.17</td><td>47036602.73</td><td>-47430808.745</td></tr>\n",
       "\t<tr><td> 39.9643568</td><td>-2.705970e+06</td><td> 3</td><td>NA</td><td>NA</td><td>0.00</td><td>-9692503.85</td><td>NA</td><td>0.02</td><td>infill_ei </td><td>0.17</td><td>19919410.59</td><td>  3311126.103</td></tr>\n",
       "\t<tr><td> -4.6027737</td><td> 3.496735e+04</td><td> 4</td><td>NA</td><td>NA</td><td>0.00</td><td>-1964466.99</td><td>NA</td><td>0.03</td><td>infill_ei </td><td>0.21</td><td> 3442663.80</td><td>  1088380.964</td></tr>\n",
       "\t<tr><td> 28.3210009</td><td>-4.158645e+05</td><td> 5</td><td>NA</td><td>NA</td><td>0.00</td><td>-1345678.53</td><td>NA</td><td>0.02</td><td>infill_ei </td><td>0.19</td><td> 4421091.48</td><td>  -875779.992</td></tr>\n",
       "\t<tr><td> 11.2210346</td><td> 1.307645e+04</td><td> 6</td><td>NA</td><td>NA</td><td>0.00</td><td> -990894.33</td><td>NA</td><td>0.02</td><td>infill_ei </td><td>0.22</td><td> 2459945.60</td><td>    53944.998</td></tr>\n",
       "\t<tr><td>-22.4467862</td><td>-5.867807e+05</td><td> 7</td><td>NA</td><td>NA</td><td>0.00</td><td> -592231.63</td><td>NA</td><td>0.03</td><td>infill_ei </td><td>0.19</td><td> 8313206.23</td><td> -8951424.562</td></tr>\n",
       "\t<tr><td>-16.9982996</td><td>-1.381532e+05</td><td> 8</td><td>NA</td><td>NA</td><td>0.00</td><td> -852366.45</td><td>NA</td><td>0.00</td><td>infill_ei </td><td>0.17</td><td> 1518420.21</td><td>   477162.037</td></tr>\n",
       "\t<tr><td> 23.5090354</td><td>-1.114759e+05</td><td> 9</td><td>NA</td><td>NA</td><td>0.00</td><td> -304841.46</td><td>NA</td><td>0.02</td><td>infill_ei </td><td>0.20</td><td>  900296.77</td><td>   -79478.812</td></tr>\n",
       "\t<tr><td>  7.1431534</td><td> 2.833084e+02</td><td>10</td><td>NA</td><td>NA</td><td>0.00</td><td> -272339.49</td><td>NA</td><td>0.02</td><td>infill_ei </td><td>0.17</td><td>  723601.13</td><td>     1685.589</td></tr>\n",
       "\t<tr><td> 15.2867748</td><td> 2.138889e+04</td><td>11</td><td>NA</td><td>NA</td><td>0.00</td><td> -233684.57</td><td>NA</td><td>0.01</td><td>infill_ei </td><td>0.16</td><td>  599542.72</td><td>    23888.946</td></tr>\n",
       "\t<tr><td> -0.9309987</td><td> 1.499896e+04</td><td>12</td><td>NA</td><td>NA</td><td>0.00</td><td> -202993.60</td><td>NA</td><td>0.02</td><td>infill_ei </td><td>0.20</td><td>  537552.22</td><td>    11646.365</td></tr>\n",
       "\t<tr><td> -7.7053516</td><td> 4.451863e+04</td><td>13</td><td>NA</td><td>NA</td><td>0.00</td><td> -160531.38</td><td>NA</td><td>0.00</td><td>infill_ei </td><td>0.21</td><td>  376203.16</td><td>    55419.940</td></tr>\n",
       "\t<tr><td>-13.4766080</td><td>-1.044450e+04</td><td>14</td><td>NA</td><td>NA</td><td>0.00</td><td> -110805.83</td><td>NA</td><td>0.01</td><td>infill_ei </td><td>0.19</td><td>  383046.90</td><td>   -48455.957</td></tr>\n",
       "\t<tr><td> 13.2805127</td><td> 1.941024e+04</td><td>15</td><td>NA</td><td>NA</td><td>0.00</td><td>  -69990.79</td><td>NA</td><td>0.02</td><td>infill_ei </td><td>0.18</td><td>  205526.77</td><td>    19278.529</td></tr>\n",
       "\t<tr><td> 17.3266081</td><td> 1.501594e+04</td><td>16</td><td>NA</td><td>NA</td><td>0.00</td><td>  -61878.21</td><td>NA</td><td>0.01</td><td>infill_ei </td><td>0.21</td><td>  189121.89</td><td>    15619.271</td></tr>\n",
       "\t<tr><td>  5.0746484</td><td>-2.010762e+03</td><td>17</td><td>NA</td><td>NA</td><td>0.00</td><td>  -57967.14</td><td>NA</td><td>0.01</td><td>infill_ei </td><td>0.19</td><td>  198152.74</td><td>    -1984.011</td></tr>\n",
       "\t<tr><td> -2.8099549</td><td> 2.533382e+04</td><td>18</td><td>NA</td><td>NA</td><td>0.00</td><td>  -55074.65</td><td>NA</td><td>0.02</td><td>infill_ei </td><td>0.20</td><td>  161043.36</td><td>    25255.829</td></tr>\n",
       "\t<tr><td>  9.2183759</td><td> 5.996052e+03</td><td>19</td><td>NA</td><td>NA</td><td>0.00</td><td>  -49117.64</td><td>NA</td><td>0.01</td><td>infill_ei </td><td>0.22</td><td>  166914.34</td><td>     6055.085</td></tr>\n",
       "\t<tr><td> -6.2241483</td><td> 4.169696e+04</td><td>20</td><td>NA</td><td>NA</td><td>0.00</td><td>  -44647.09</td><td>NA</td><td>0.01</td><td>infill_ei </td><td>0.21</td><td>  115059.65</td><td>    41986.248</td></tr>\n",
       "\t<tr><td>  1.0019186</td><td> 6.040450e+03</td><td>21</td><td>NA</td><td>NA</td><td>0.00</td><td>  -43059.83</td><td>NA</td><td>0.02</td><td>infill_ei </td><td>0.22</td><td>  151240.02</td><td>     6092.037</td></tr>\n",
       "\t<tr><td> -9.1509930</td><td> 4.252883e+04</td><td>22</td><td>NA</td><td>NA</td><td>0.00</td><td>  -37942.77</td><td>NA</td><td>0.02</td><td>infill_ei </td><td>0.22</td><td>   98646.04</td><td>    41663.039</td></tr>\n",
       "\t<tr><td>-19.5562759</td><td>-3.028425e+05</td><td>23</td><td>NA</td><td>NA</td><td>0.00</td><td>  -34038.37</td><td>NA</td><td>0.00</td><td>infill_ei </td><td>0.24</td><td>  283802.51</td><td>  -182885.948</td></tr>\n",
       "\t<tr><td> 21.2661841</td><td>-4.047125e+04</td><td>24</td><td>NA</td><td>NA</td><td>0.00</td><td>  -30900.51</td><td>NA</td><td>0.02</td><td>infill_ei </td><td>0.22</td><td>  163892.19</td><td>   -42430.239</td></tr>\n",
       "\t<tr><td>-11.9387282</td><td> 1.857905e+04</td><td>25</td><td>NA</td><td>NA</td><td>0.00</td><td>  -25530.28</td><td>NA</td><td>0.02</td><td>infill_ei </td><td>0.28</td><td>   93544.23</td><td>    17951.692</td></tr>\n",
       "</tbody>\n",
       "</table>\n"
      ],
      "text/latex": [
       "A data.table: 29 × 13\n",
       "\\begin{tabular}{lllllllllllll}\n",
       " x & y & dob & eol & error.message & exec.time & ei & error.model & train.time & prop.type & propose.time & se & mean\\\\\n",
       " <dbl> & <dbl> & <int> & <int> & <chr> & <dbl> & <dbl> & <chr> & <dbl> & <chr> & <dbl> & <dbl> & <dbl>\\\\\n",
       "\\hline\n",
       "\t -98.8008659 & -2.177263e+08 &  0 & NA & NA & 0.01 &          NA & NA &   NA & initdesign &   NA &          NA &            NA\\\\\n",
       "\t  62.2476088 & -2.130439e+07 &  0 & NA & NA & 0.00 &          NA & NA &   NA & initdesign &   NA &          NA &            NA\\\\\n",
       "\t -10.5891358 &  3.410133e+04 &  0 & NA & NA & 0.00 &          NA & NA &   NA & initdesign &   NA &          NA &            NA\\\\\n",
       "\t  19.3537709 & -4.624816e+03 &  0 & NA & NA & 0.00 &          NA & NA &   NA & initdesign &   NA &          NA &            NA\\\\\n",
       "\t   3.0055651 & -1.138140e+01 &  1 & NA & NA & 0.00 & -8047390.37 & NA & 0.06 & infill\\_ei  & 0.14 & 11926418.66 &   5596408.370\\\\\n",
       "\t  99.9996341 & -1.651359e+08 &  2 & NA & NA & 0.00 & -3851393.90 & NA & 0.01 & infill\\_ei  & 0.17 & 47036602.73 & -47430808.745\\\\\n",
       "\t  39.9643568 & -2.705970e+06 &  3 & NA & NA & 0.00 & -9692503.85 & NA & 0.02 & infill\\_ei  & 0.17 & 19919410.59 &   3311126.103\\\\\n",
       "\t  -4.6027737 &  3.496735e+04 &  4 & NA & NA & 0.00 & -1964466.99 & NA & 0.03 & infill\\_ei  & 0.21 &  3442663.80 &   1088380.964\\\\\n",
       "\t  28.3210009 & -4.158645e+05 &  5 & NA & NA & 0.00 & -1345678.53 & NA & 0.02 & infill\\_ei  & 0.19 &  4421091.48 &   -875779.992\\\\\n",
       "\t  11.2210346 &  1.307645e+04 &  6 & NA & NA & 0.00 &  -990894.33 & NA & 0.02 & infill\\_ei  & 0.22 &  2459945.60 &     53944.998\\\\\n",
       "\t -22.4467862 & -5.867807e+05 &  7 & NA & NA & 0.00 &  -592231.63 & NA & 0.03 & infill\\_ei  & 0.19 &  8313206.23 &  -8951424.562\\\\\n",
       "\t -16.9982996 & -1.381532e+05 &  8 & NA & NA & 0.00 &  -852366.45 & NA & 0.00 & infill\\_ei  & 0.17 &  1518420.21 &    477162.037\\\\\n",
       "\t  23.5090354 & -1.114759e+05 &  9 & NA & NA & 0.00 &  -304841.46 & NA & 0.02 & infill\\_ei  & 0.20 &   900296.77 &    -79478.812\\\\\n",
       "\t   7.1431534 &  2.833084e+02 & 10 & NA & NA & 0.00 &  -272339.49 & NA & 0.02 & infill\\_ei  & 0.17 &   723601.13 &      1685.589\\\\\n",
       "\t  15.2867748 &  2.138889e+04 & 11 & NA & NA & 0.00 &  -233684.57 & NA & 0.01 & infill\\_ei  & 0.16 &   599542.72 &     23888.946\\\\\n",
       "\t  -0.9309987 &  1.499896e+04 & 12 & NA & NA & 0.00 &  -202993.60 & NA & 0.02 & infill\\_ei  & 0.20 &   537552.22 &     11646.365\\\\\n",
       "\t  -7.7053516 &  4.451863e+04 & 13 & NA & NA & 0.00 &  -160531.38 & NA & 0.00 & infill\\_ei  & 0.21 &   376203.16 &     55419.940\\\\\n",
       "\t -13.4766080 & -1.044450e+04 & 14 & NA & NA & 0.00 &  -110805.83 & NA & 0.01 & infill\\_ei  & 0.19 &   383046.90 &    -48455.957\\\\\n",
       "\t  13.2805127 &  1.941024e+04 & 15 & NA & NA & 0.00 &   -69990.79 & NA & 0.02 & infill\\_ei  & 0.18 &   205526.77 &     19278.529\\\\\n",
       "\t  17.3266081 &  1.501594e+04 & 16 & NA & NA & 0.00 &   -61878.21 & NA & 0.01 & infill\\_ei  & 0.21 &   189121.89 &     15619.271\\\\\n",
       "\t   5.0746484 & -2.010762e+03 & 17 & NA & NA & 0.00 &   -57967.14 & NA & 0.01 & infill\\_ei  & 0.19 &   198152.74 &     -1984.011\\\\\n",
       "\t  -2.8099549 &  2.533382e+04 & 18 & NA & NA & 0.00 &   -55074.65 & NA & 0.02 & infill\\_ei  & 0.20 &   161043.36 &     25255.829\\\\\n",
       "\t   9.2183759 &  5.996052e+03 & 19 & NA & NA & 0.00 &   -49117.64 & NA & 0.01 & infill\\_ei  & 0.22 &   166914.34 &      6055.085\\\\\n",
       "\t  -6.2241483 &  4.169696e+04 & 20 & NA & NA & 0.00 &   -44647.09 & NA & 0.01 & infill\\_ei  & 0.21 &   115059.65 &     41986.248\\\\\n",
       "\t   1.0019186 &  6.040450e+03 & 21 & NA & NA & 0.00 &   -43059.83 & NA & 0.02 & infill\\_ei  & 0.22 &   151240.02 &      6092.037\\\\\n",
       "\t  -9.1509930 &  4.252883e+04 & 22 & NA & NA & 0.00 &   -37942.77 & NA & 0.02 & infill\\_ei  & 0.22 &    98646.04 &     41663.039\\\\\n",
       "\t -19.5562759 & -3.028425e+05 & 23 & NA & NA & 0.00 &   -34038.37 & NA & 0.00 & infill\\_ei  & 0.24 &   283802.51 &   -182885.948\\\\\n",
       "\t  21.2661841 & -4.047125e+04 & 24 & NA & NA & 0.00 &   -30900.51 & NA & 0.02 & infill\\_ei  & 0.22 &   163892.19 &    -42430.239\\\\\n",
       "\t -11.9387282 &  1.857905e+04 & 25 & NA & NA & 0.00 &   -25530.28 & NA & 0.02 & infill\\_ei  & 0.28 &    93544.23 &     17951.692\\\\\n",
       "\\end{tabular}\n"
      ],
      "text/markdown": [
       "\n",
       "A data.table: 29 × 13\n",
       "\n",
       "| x &lt;dbl&gt; | y &lt;dbl&gt; | dob &lt;int&gt; | eol &lt;int&gt; | error.message &lt;chr&gt; | exec.time &lt;dbl&gt; | ei &lt;dbl&gt; | error.model &lt;chr&gt; | train.time &lt;dbl&gt; | prop.type &lt;chr&gt; | propose.time &lt;dbl&gt; | se &lt;dbl&gt; | mean &lt;dbl&gt; |\n",
       "|---|---|---|---|---|---|---|---|---|---|---|---|---|\n",
       "| -98.8008659 | -2.177263e+08 |  0 | NA | NA | 0.01 |          NA | NA |   NA | initdesign |   NA |          NA |            NA |\n",
       "|  62.2476088 | -2.130439e+07 |  0 | NA | NA | 0.00 |          NA | NA |   NA | initdesign |   NA |          NA |            NA |\n",
       "| -10.5891358 |  3.410133e+04 |  0 | NA | NA | 0.00 |          NA | NA |   NA | initdesign |   NA |          NA |            NA |\n",
       "|  19.3537709 | -4.624816e+03 |  0 | NA | NA | 0.00 |          NA | NA |   NA | initdesign |   NA |          NA |            NA |\n",
       "|   3.0055651 | -1.138140e+01 |  1 | NA | NA | 0.00 | -8047390.37 | NA | 0.06 | infill_ei  | 0.14 | 11926418.66 |   5596408.370 |\n",
       "|  99.9996341 | -1.651359e+08 |  2 | NA | NA | 0.00 | -3851393.90 | NA | 0.01 | infill_ei  | 0.17 | 47036602.73 | -47430808.745 |\n",
       "|  39.9643568 | -2.705970e+06 |  3 | NA | NA | 0.00 | -9692503.85 | NA | 0.02 | infill_ei  | 0.17 | 19919410.59 |   3311126.103 |\n",
       "|  -4.6027737 |  3.496735e+04 |  4 | NA | NA | 0.00 | -1964466.99 | NA | 0.03 | infill_ei  | 0.21 |  3442663.80 |   1088380.964 |\n",
       "|  28.3210009 | -4.158645e+05 |  5 | NA | NA | 0.00 | -1345678.53 | NA | 0.02 | infill_ei  | 0.19 |  4421091.48 |   -875779.992 |\n",
       "|  11.2210346 |  1.307645e+04 |  6 | NA | NA | 0.00 |  -990894.33 | NA | 0.02 | infill_ei  | 0.22 |  2459945.60 |     53944.998 |\n",
       "| -22.4467862 | -5.867807e+05 |  7 | NA | NA | 0.00 |  -592231.63 | NA | 0.03 | infill_ei  | 0.19 |  8313206.23 |  -8951424.562 |\n",
       "| -16.9982996 | -1.381532e+05 |  8 | NA | NA | 0.00 |  -852366.45 | NA | 0.00 | infill_ei  | 0.17 |  1518420.21 |    477162.037 |\n",
       "|  23.5090354 | -1.114759e+05 |  9 | NA | NA | 0.00 |  -304841.46 | NA | 0.02 | infill_ei  | 0.20 |   900296.77 |    -79478.812 |\n",
       "|   7.1431534 |  2.833084e+02 | 10 | NA | NA | 0.00 |  -272339.49 | NA | 0.02 | infill_ei  | 0.17 |   723601.13 |      1685.589 |\n",
       "|  15.2867748 |  2.138889e+04 | 11 | NA | NA | 0.00 |  -233684.57 | NA | 0.01 | infill_ei  | 0.16 |   599542.72 |     23888.946 |\n",
       "|  -0.9309987 |  1.499896e+04 | 12 | NA | NA | 0.00 |  -202993.60 | NA | 0.02 | infill_ei  | 0.20 |   537552.22 |     11646.365 |\n",
       "|  -7.7053516 |  4.451863e+04 | 13 | NA | NA | 0.00 |  -160531.38 | NA | 0.00 | infill_ei  | 0.21 |   376203.16 |     55419.940 |\n",
       "| -13.4766080 | -1.044450e+04 | 14 | NA | NA | 0.00 |  -110805.83 | NA | 0.01 | infill_ei  | 0.19 |   383046.90 |    -48455.957 |\n",
       "|  13.2805127 |  1.941024e+04 | 15 | NA | NA | 0.00 |   -69990.79 | NA | 0.02 | infill_ei  | 0.18 |   205526.77 |     19278.529 |\n",
       "|  17.3266081 |  1.501594e+04 | 16 | NA | NA | 0.00 |   -61878.21 | NA | 0.01 | infill_ei  | 0.21 |   189121.89 |     15619.271 |\n",
       "|   5.0746484 | -2.010762e+03 | 17 | NA | NA | 0.00 |   -57967.14 | NA | 0.01 | infill_ei  | 0.19 |   198152.74 |     -1984.011 |\n",
       "|  -2.8099549 |  2.533382e+04 | 18 | NA | NA | 0.00 |   -55074.65 | NA | 0.02 | infill_ei  | 0.20 |   161043.36 |     25255.829 |\n",
       "|   9.2183759 |  5.996052e+03 | 19 | NA | NA | 0.00 |   -49117.64 | NA | 0.01 | infill_ei  | 0.22 |   166914.34 |      6055.085 |\n",
       "|  -6.2241483 |  4.169696e+04 | 20 | NA | NA | 0.00 |   -44647.09 | NA | 0.01 | infill_ei  | 0.21 |   115059.65 |     41986.248 |\n",
       "|   1.0019186 |  6.040450e+03 | 21 | NA | NA | 0.00 |   -43059.83 | NA | 0.02 | infill_ei  | 0.22 |   151240.02 |      6092.037 |\n",
       "|  -9.1509930 |  4.252883e+04 | 22 | NA | NA | 0.00 |   -37942.77 | NA | 0.02 | infill_ei  | 0.22 |    98646.04 |     41663.039 |\n",
       "| -19.5562759 | -3.028425e+05 | 23 | NA | NA | 0.00 |   -34038.37 | NA | 0.00 | infill_ei  | 0.24 |   283802.51 |   -182885.948 |\n",
       "|  21.2661841 | -4.047125e+04 | 24 | NA | NA | 0.00 |   -30900.51 | NA | 0.02 | infill_ei  | 0.22 |   163892.19 |    -42430.239 |\n",
       "| -11.9387282 |  1.857905e+04 | 25 | NA | NA | 0.00 |   -25530.28 | NA | 0.02 | infill_ei  | 0.28 |    93544.23 |     17951.692 |\n",
       "\n"
      ],
      "text/plain": [
       "   x           y             dob eol error.message exec.time ei         \n",
       "1  -98.8008659 -2.177263e+08  0  NA  NA            0.01               NA\n",
       "2   62.2476088 -2.130439e+07  0  NA  NA            0.00               NA\n",
       "3  -10.5891358  3.410133e+04  0  NA  NA            0.00               NA\n",
       "4   19.3537709 -4.624816e+03  0  NA  NA            0.00               NA\n",
       "5    3.0055651 -1.138140e+01  1  NA  NA            0.00      -8047390.37\n",
       "6   99.9996341 -1.651359e+08  2  NA  NA            0.00      -3851393.90\n",
       "7   39.9643568 -2.705970e+06  3  NA  NA            0.00      -9692503.85\n",
       "8   -4.6027737  3.496735e+04  4  NA  NA            0.00      -1964466.99\n",
       "9   28.3210009 -4.158645e+05  5  NA  NA            0.00      -1345678.53\n",
       "10  11.2210346  1.307645e+04  6  NA  NA            0.00       -990894.33\n",
       "11 -22.4467862 -5.867807e+05  7  NA  NA            0.00       -592231.63\n",
       "12 -16.9982996 -1.381532e+05  8  NA  NA            0.00       -852366.45\n",
       "13  23.5090354 -1.114759e+05  9  NA  NA            0.00       -304841.46\n",
       "14   7.1431534  2.833084e+02 10  NA  NA            0.00       -272339.49\n",
       "15  15.2867748  2.138889e+04 11  NA  NA            0.00       -233684.57\n",
       "16  -0.9309987  1.499896e+04 12  NA  NA            0.00       -202993.60\n",
       "17  -7.7053516  4.451863e+04 13  NA  NA            0.00       -160531.38\n",
       "18 -13.4766080 -1.044450e+04 14  NA  NA            0.00       -110805.83\n",
       "19  13.2805127  1.941024e+04 15  NA  NA            0.00        -69990.79\n",
       "20  17.3266081  1.501594e+04 16  NA  NA            0.00        -61878.21\n",
       "21   5.0746484 -2.010762e+03 17  NA  NA            0.00        -57967.14\n",
       "22  -2.8099549  2.533382e+04 18  NA  NA            0.00        -55074.65\n",
       "23   9.2183759  5.996052e+03 19  NA  NA            0.00        -49117.64\n",
       "24  -6.2241483  4.169696e+04 20  NA  NA            0.00        -44647.09\n",
       "25   1.0019186  6.040450e+03 21  NA  NA            0.00        -43059.83\n",
       "26  -9.1509930  4.252883e+04 22  NA  NA            0.00        -37942.77\n",
       "27 -19.5562759 -3.028425e+05 23  NA  NA            0.00        -34038.37\n",
       "28  21.2661841 -4.047125e+04 24  NA  NA            0.00        -30900.51\n",
       "29 -11.9387282  1.857905e+04 25  NA  NA            0.00        -25530.28\n",
       "   error.model train.time prop.type  propose.time se          mean         \n",
       "1  NA            NA       initdesign   NA                  NA            NA\n",
       "2  NA            NA       initdesign   NA                  NA            NA\n",
       "3  NA            NA       initdesign   NA                  NA            NA\n",
       "4  NA            NA       initdesign   NA                  NA            NA\n",
       "5  NA          0.06       infill_ei  0.14         11926418.66   5596408.370\n",
       "6  NA          0.01       infill_ei  0.17         47036602.73 -47430808.745\n",
       "7  NA          0.02       infill_ei  0.17         19919410.59   3311126.103\n",
       "8  NA          0.03       infill_ei  0.21          3442663.80   1088380.964\n",
       "9  NA          0.02       infill_ei  0.19          4421091.48   -875779.992\n",
       "10 NA          0.02       infill_ei  0.22          2459945.60     53944.998\n",
       "11 NA          0.03       infill_ei  0.19          8313206.23  -8951424.562\n",
       "12 NA          0.00       infill_ei  0.17          1518420.21    477162.037\n",
       "13 NA          0.02       infill_ei  0.20           900296.77    -79478.812\n",
       "14 NA          0.02       infill_ei  0.17           723601.13      1685.589\n",
       "15 NA          0.01       infill_ei  0.16           599542.72     23888.946\n",
       "16 NA          0.02       infill_ei  0.20           537552.22     11646.365\n",
       "17 NA          0.00       infill_ei  0.21           376203.16     55419.940\n",
       "18 NA          0.01       infill_ei  0.19           383046.90    -48455.957\n",
       "19 NA          0.02       infill_ei  0.18           205526.77     19278.529\n",
       "20 NA          0.01       infill_ei  0.21           189121.89     15619.271\n",
       "21 NA          0.01       infill_ei  0.19           198152.74     -1984.011\n",
       "22 NA          0.02       infill_ei  0.20           161043.36     25255.829\n",
       "23 NA          0.01       infill_ei  0.22           166914.34      6055.085\n",
       "24 NA          0.01       infill_ei  0.21           115059.65     41986.248\n",
       "25 NA          0.02       infill_ei  0.22           151240.02      6092.037\n",
       "26 NA          0.02       infill_ei  0.22            98646.04     41663.039\n",
       "27 NA          0.00       infill_ei  0.24           283802.51   -182885.948\n",
       "28 NA          0.02       infill_ei  0.22           163892.19    -42430.239\n",
       "29 NA          0.02       infill_ei  0.28            93544.23     17951.692"
      ]
     },
     "metadata": {},
     "output_type": "display_data"
    }
   ],
   "source": [
    "tb_resultados"
   ]
  },
  {
   "cell_type": "code",
   "execution_count": 11,
   "metadata": {
    "tags": [],
    "vscode": {
     "languageId": "r"
    }
   },
   "outputs": [
    {
     "data": {
      "text/html": [
       "<table class=\"dataframe\">\n",
       "<caption>A data.table: 1 × 13</caption>\n",
       "<thead>\n",
       "\t<tr><th scope=col>x</th><th scope=col>y</th><th scope=col>dob</th><th scope=col>eol</th><th scope=col>error.message</th><th scope=col>exec.time</th><th scope=col>ei</th><th scope=col>error.model</th><th scope=col>train.time</th><th scope=col>prop.type</th><th scope=col>propose.time</th><th scope=col>se</th><th scope=col>mean</th></tr>\n",
       "\t<tr><th scope=col>&lt;dbl&gt;</th><th scope=col>&lt;dbl&gt;</th><th scope=col>&lt;int&gt;</th><th scope=col>&lt;int&gt;</th><th scope=col>&lt;chr&gt;</th><th scope=col>&lt;dbl&gt;</th><th scope=col>&lt;dbl&gt;</th><th scope=col>&lt;chr&gt;</th><th scope=col>&lt;dbl&gt;</th><th scope=col>&lt;chr&gt;</th><th scope=col>&lt;dbl&gt;</th><th scope=col>&lt;dbl&gt;</th><th scope=col>&lt;dbl&gt;</th></tr>\n",
       "</thead>\n",
       "<tbody>\n",
       "\t<tr><td>-7.705352</td><td>44518.63</td><td>13</td><td>NA</td><td>NA</td><td>0</td><td>-160531.4</td><td>NA</td><td>0</td><td>infill_ei</td><td>0.21</td><td>376203.2</td><td>55419.94</td></tr>\n",
       "</tbody>\n",
       "</table>\n"
      ],
      "text/latex": [
       "A data.table: 1 × 13\n",
       "\\begin{tabular}{lllllllllllll}\n",
       " x & y & dob & eol & error.message & exec.time & ei & error.model & train.time & prop.type & propose.time & se & mean\\\\\n",
       " <dbl> & <dbl> & <int> & <int> & <chr> & <dbl> & <dbl> & <chr> & <dbl> & <chr> & <dbl> & <dbl> & <dbl>\\\\\n",
       "\\hline\n",
       "\t -7.705352 & 44518.63 & 13 & NA & NA & 0 & -160531.4 & NA & 0 & infill\\_ei & 0.21 & 376203.2 & 55419.94\\\\\n",
       "\\end{tabular}\n"
      ],
      "text/markdown": [
       "\n",
       "A data.table: 1 × 13\n",
       "\n",
       "| x &lt;dbl&gt; | y &lt;dbl&gt; | dob &lt;int&gt; | eol &lt;int&gt; | error.message &lt;chr&gt; | exec.time &lt;dbl&gt; | ei &lt;dbl&gt; | error.model &lt;chr&gt; | train.time &lt;dbl&gt; | prop.type &lt;chr&gt; | propose.time &lt;dbl&gt; | se &lt;dbl&gt; | mean &lt;dbl&gt; |\n",
       "|---|---|---|---|---|---|---|---|---|---|---|---|---|\n",
       "| -7.705352 | 44518.63 | 13 | NA | NA | 0 | -160531.4 | NA | 0 | infill_ei | 0.21 | 376203.2 | 55419.94 |\n",
       "\n"
      ],
      "text/plain": [
       "  x         y        dob eol error.message exec.time ei        error.model\n",
       "1 -7.705352 44518.63 13  NA  NA            0         -160531.4 NA         \n",
       "  train.time prop.type propose.time se       mean    \n",
       "1 0          infill_ei 0.21         376203.2 55419.94"
      ]
     },
     "metadata": {},
     "output_type": "display_data"
    }
   ],
   "source": [
    "tb_resultados[ which.max( tb_resultados$y ) ]"
   ]
  },
  {
   "cell_type": "markdown",
   "metadata": {},
   "source": [
    "### Conclusiones"
   ]
  },
  {
   "cell_type": "markdown",
   "metadata": {},
   "source": [
    "La gran pregunta es :  la Optimización Bayesiana, ¿se focaliza luego de muchas iteraciones solo en el entorno del máximo que está cerca de x= -8 ?"
   ]
  }
 ],
 "metadata": {
  "kernelspec": {
   "display_name": "R",
   "language": "R",
   "name": "ir"
  },
  "language_info": {
   "codemirror_mode": "r",
   "file_extension": ".r",
   "mimetype": "text/x-r-source",
   "name": "R",
   "pygments_lexer": "r",
   "version": "4.2.2"
  }
 },
 "nbformat": 4,
 "nbformat_minor": 4
}
