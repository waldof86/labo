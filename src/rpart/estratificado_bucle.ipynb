{
 "cells": [
  {
   "cell_type": "code",
   "execution_count": 1,
   "metadata": {
    "vscode": {
     "languageId": "r"
    }
   },
   "outputs": [
    {
     "data": {
      "text/html": [
       "<table class=\"dataframe\">\n",
       "<caption>A matrix: 2 × 6 of type dbl</caption>\n",
       "<thead>\n",
       "\t<tr><th></th><th scope=col>used</th><th scope=col>(Mb)</th><th scope=col>gc trigger</th><th scope=col>(Mb)</th><th scope=col>max used</th><th scope=col>(Mb)</th></tr>\n",
       "</thead>\n",
       "<tbody>\n",
       "\t<tr><th scope=row>Ncells</th><td> 614669</td><td>32.9</td><td>1321401</td><td>70.6</td><td>1321401</td><td>70.6</td></tr>\n",
       "\t<tr><th scope=row>Vcells</th><td>1093272</td><td> 8.4</td><td>8388608</td><td>64.0</td><td>1632451</td><td>12.5</td></tr>\n",
       "</tbody>\n",
       "</table>\n"
      ],
      "text/latex": [
       "A matrix: 2 × 6 of type dbl\n",
       "\\begin{tabular}{r|llllll}\n",
       "  & used & (Mb) & gc trigger & (Mb) & max used & (Mb)\\\\\n",
       "\\hline\n",
       "\tNcells &  614669 & 32.9 & 1321401 & 70.6 & 1321401 & 70.6\\\\\n",
       "\tVcells & 1093272 &  8.4 & 8388608 & 64.0 & 1632451 & 12.5\\\\\n",
       "\\end{tabular}\n"
      ],
      "text/markdown": [
       "\n",
       "A matrix: 2 × 6 of type dbl\n",
       "\n",
       "| <!--/--> | used | (Mb) | gc trigger | (Mb) | max used | (Mb) |\n",
       "|---|---|---|---|---|---|---|\n",
       "| Ncells |  614669 | 32.9 | 1321401 | 70.6 | 1321401 | 70.6 |\n",
       "| Vcells | 1093272 |  8.4 | 8388608 | 64.0 | 1632451 | 12.5 |\n",
       "\n"
      ],
      "text/plain": [
       "       used    (Mb) gc trigger (Mb) max used (Mb)\n",
       "Ncells  614669 32.9 1321401    70.6 1321401  70.6\n",
       "Vcells 1093272  8.4 8388608    64.0 1632451  12.5"
      ]
     },
     "metadata": {},
     "output_type": "display_data"
    },
    {
     "name": "stderr",
     "output_type": "stream",
     "text": [
      "Warning message:\n",
      "\"package 'data.table' was built under R version 4.2.3\"\n",
      "Warning message:\n",
      "\"package 'rpart' was built under R version 4.2.3\"\n"
     ]
    }
   ],
   "source": [
    "rm( list=ls() )  #Borro todos los objetos\n",
    "gc()   #Garbage Collection\n",
    "\n",
    "library(\"data.table\")\n",
    "library(\"rpart\")"
   ]
  },
  {
   "cell_type": "code",
   "execution_count": 2,
   "metadata": {
    "vscode": {
     "languageId": "r"
    }
   },
   "outputs": [],
   "source": [
    "# particionar agrega una columna llamada fold (por defecto) a un dataset\n",
    "# que consiste en una particion estratificada segun agrupa\n",
    "# particionar(  data=dataset\n",
    "              #,division=c(70,30)\n",
    "              #, agrupa=clase_ternaria\n",
    "              #, seed=semilla) crea una particion 70, 30 \n",
    "\n",
    "particionar  <- function(\n",
    "  data #el dataset sobre el que se trabaja, va a tener una nueva columna\n",
    "  ,division #este parametro determina las proporciones, vector de N cantidad\n",
    "  ,agrupa=\"\" #aca va el criterio de agrupacion\n",
    "  ,campo=\"fold\" #el nombre del nuevo campo, default \"fold\"\n",
    "  ,start=1 #los numeros asignados parten de 1 por defecto\n",
    "  ,seed=NA) #seed default NA\n",
    "{\n",
    "  if(!is.na(seed)) set.seed(seed)\n",
    "\n",
    "  bloque <- unlist(\n",
    "    mapply(\n",
    "      function(x, y) {rep(y, x)}\n",
    "      ,division\n",
    "      ,seq(from = start\n",
    "        ,length.out = length(division)\n",
    "      )\n",
    "    )\n",
    "  )\n",
    "  #esto ayuda a visualizar lo que hace la funcion\n",
    "\n",
    "  #modelo de como es un bloque\n",
    "  #walA = bloque \n",
    "  #el modelo repetido segun la cantidad de rows\n",
    "  #walB = rep( bloque, ceiling(nrow(data)/length(bloque))) \n",
    "  #la muestra de ese modelo que ahora lleva otro orden\n",
    "  #walC = sample( walB)\n",
    "  #preparo el retorno\n",
    "  #listReturn <- list(walA,walB,walC)\n",
    "  data[ , (campo) :=  sample( rep( bloque, ceiling(.N/length(bloque))))[1:.N], by= agrupa ]\n",
    "  \n",
    "  #return(listReturn)\n",
    "}"
   ]
  },
  {
   "cell_type": "code",
   "execution_count": 3,
   "metadata": {
    "vscode": {
     "languageId": "r"
    }
   },
   "outputs": [
    {
     "data": {
      "text/html": [
       "'d:/Onedrive/Austral/Cursos/08 - Laboratorio de Implementacion 1/labo2023v/src/rpart'"
      ],
      "text/latex": [
       "'d:/Onedrive/Austral/Cursos/08 - Laboratorio de Implementacion 1/labo2023v/src/rpart'"
      ],
      "text/markdown": [
       "'d:/Onedrive/Austral/Cursos/08 - Laboratorio de Implementacion 1/labo2023v/src/rpart'"
      ],
      "text/plain": [
       "[1] \"d:/Onedrive/Austral/Cursos/08 - Laboratorio de Implementacion 1/labo2023v/src/rpart\""
      ]
     },
     "metadata": {},
     "output_type": "display_data"
    }
   ],
   "source": [
    "#apunto el working directory al directorio donde esta ubicado el script\n",
    "setwd(\".\\\\\") \n",
    "getwd() #solo para validar"
   ]
  },
  {
   "cell_type": "code",
   "execution_count": 4,
   "metadata": {
    "vscode": {
     "languageId": "r"
    }
   },
   "outputs": [],
   "source": [
    "#cargo los datos\n",
    "dataset  <- fread(\"./datasets/dataset_pequeno.csv\")\n",
    "#cat(\"Lineas en el archivo original: \", nrow(dataset), \"\\n\")\n",
    "\n",
    "#trabajo solo con los datos con clase, es decir 202107\n",
    "dataset  <- dataset[ clase_ternaria!= \"\" ]\n",
    "#cat(\"Lineas con clase: \", nrow(dataset), \"\\n\")"
   ]
  },
  {
   "cell_type": "code",
   "execution_count": 5,
   "metadata": {
    "vscode": {
     "languageId": "r"
    }
   },
   "outputs": [],
   "source": [
    "#particiono estratificadamente el dataset\n",
    "#Cambiar por la primer semilla de cada uno!\n",
    "a = particionar( data=dataset, division=c(7,3), agrupa=\"clase_ternaria\", seed= 262139 )  #Cambiar por la primer semilla de cada uno !"
   ]
  },
  {
   "cell_type": "code",
   "execution_count": 6,
   "metadata": {
    "vscode": {
     "languageId": "r"
    }
   },
   "outputs": [],
   "source": [
    "#cat(\"Modelo Bloque: \", unlist(a[1]), \"\\n\")\n",
    "#cat(\"Bloque Repetido: \", unlist(unlist(a[2])[1:40]), \"...\\n\")\n",
    "#cat(\"Sample: \", unlist(unlist(a[3])[1:40]), \"...\\n\")"
   ]
  },
  {
   "cell_type": "code",
   "execution_count": 16,
   "metadata": {
    "vscode": {
     "languageId": "r"
    }
   },
   "outputs": [
    {
     "data": {
      "text/html": [
       "<style>\n",
       ".list-inline {list-style: none; margin:0; padding: 0}\n",
       ".list-inline>li {display: inline-block}\n",
       ".list-inline>li:not(:last-child)::after {content: \"\\00b7\"; padding: 0 .5ex}\n",
       "</style>\n",
       "<ol class=list-inline><li>-1</li><li>-0.75</li><li>-0.5</li><li>-0.25</li><li>0</li></ol>\n"
      ],
      "text/latex": [
       "\\begin{enumerate*}\n",
       "\\item -1\n",
       "\\item -0.75\n",
       "\\item -0.5\n",
       "\\item -0.25\n",
       "\\item 0\n",
       "\\end{enumerate*}\n"
      ],
      "text/markdown": [
       "1. -1\n",
       "2. -0.75\n",
       "3. -0.5\n",
       "4. -0.25\n",
       "5. 0\n",
       "\n",
       "\n"
      ],
      "text/plain": [
       "[1] -1.00 -0.75 -0.50 -0.25  0.00"
      ]
     },
     "metadata": {},
     "output_type": "display_data"
    },
    {
     "data": {
      "text/html": [
       "<style>\n",
       ".list-inline {list-style: none; margin:0; padding: 0}\n",
       ".list-inline>li {display: inline-block}\n",
       ".list-inline>li:not(:last-child)::after {content: \"\\00b7\"; padding: 0 .5ex}\n",
       "</style>\n",
       "<ol class=list-inline><li>400</li><li>800</li><li>1200</li><li>1600</li><li>2000</li></ol>\n"
      ],
      "text/latex": [
       "\\begin{enumerate*}\n",
       "\\item 400\n",
       "\\item 800\n",
       "\\item 1200\n",
       "\\item 1600\n",
       "\\item 2000\n",
       "\\end{enumerate*}\n"
      ],
      "text/markdown": [
       "1. 400\n",
       "2. 800\n",
       "3. 1200\n",
       "4. 1600\n",
       "5. 2000\n",
       "\n",
       "\n"
      ],
      "text/plain": [
       "[1]  400  800 1200 1600 2000"
      ]
     },
     "metadata": {},
     "output_type": "display_data"
    },
    {
     "data": {
      "text/html": [
       "<style>\n",
       ".list-inline {list-style: none; margin:0; padding: 0}\n",
       ".list-inline>li {display: inline-block}\n",
       ".list-inline>li:not(:last-child)::after {content: \"\\00b7\"; padding: 0 .5ex}\n",
       "</style>\n",
       "<ol class=list-inline><li>10</li><li>50</li><li>100</li><li>250</li><li>500</li></ol>\n"
      ],
      "text/latex": [
       "\\begin{enumerate*}\n",
       "\\item 10\n",
       "\\item 50\n",
       "\\item 100\n",
       "\\item 250\n",
       "\\item 500\n",
       "\\end{enumerate*}\n"
      ],
      "text/markdown": [
       "1. 10\n",
       "2. 50\n",
       "3. 100\n",
       "4. 250\n",
       "5. 500\n",
       "\n",
       "\n"
      ],
      "text/plain": [
       "[1]  10  50 100 250 500"
      ]
     },
     "metadata": {},
     "output_type": "display_data"
    },
    {
     "data": {
      "text/html": [
       "<style>\n",
       ".list-inline {list-style: none; margin:0; padding: 0}\n",
       ".list-inline>li {display: inline-block}\n",
       ".list-inline>li:not(:last-child)::after {content: \"\\00b7\"; padding: 0 .5ex}\n",
       "</style>\n",
       "<ol class=list-inline><li>4</li><li>6</li><li>8</li><li>10</li><li>12</li></ol>\n"
      ],
      "text/latex": [
       "\\begin{enumerate*}\n",
       "\\item 4\n",
       "\\item 6\n",
       "\\item 8\n",
       "\\item 10\n",
       "\\item 12\n",
       "\\end{enumerate*}\n"
      ],
      "text/markdown": [
       "1. 4\n",
       "2. 6\n",
       "3. 8\n",
       "4. 10\n",
       "5. 12\n",
       "\n",
       "\n"
      ],
      "text/plain": [
       "[1]  4  6  8 10 12"
      ]
     },
     "metadata": {},
     "output_type": "display_data"
    }
   ],
   "source": [
    "par_cp=         seq(-1, 0, by = 0.25)     #complejidad minima\n",
    "par_minsplit=   seq(400,2000, by = 400)               #minima cantidad de registros en un nodo para hacer el split\n",
    "par_minbucket=  c(10,50,100,250,500)                #minima cantidad de registros en una hoja\n",
    "par_maxdepth=   c(4,6,8,10,12)                 #profundidad máxima del arbol"
   ]
  },
  {
   "cell_type": "code",
   "execution_count": 88,
   "metadata": {
    "vscode": {
     "languageId": "r"
    }
   },
   "outputs": [
    {
     "data": {
      "text/html": [
       "<table class=\"dataframe\">\n",
       "<caption>A data.table: 6 × 4</caption>\n",
       "<thead>\n",
       "\t<tr><th scope=col>Cp</th><th scope=col>Ms</th><th scope=col>Mb</th><th scope=col>Md</th></tr>\n",
       "\t<tr><th scope=col>&lt;list&gt;</th><th scope=col>&lt;list&gt;</th><th scope=col>&lt;list&gt;</th><th scope=col>&lt;list&gt;</th></tr>\n",
       "</thead>\n",
       "<tbody>\n",
       "\t<tr><td>-1</td><td>400</td><td>10</td><td>4</td></tr>\n",
       "\t<tr><td>-1</td><td>400</td><td>10</td><td>6</td></tr>\n",
       "\t<tr><td>-1</td><td>400</td><td>10</td><td>8</td></tr>\n",
       "\t<tr><td>-1</td><td>400</td><td>10</td><td>10</td></tr>\n",
       "\t<tr><td>-1</td><td>400</td><td>10</td><td>12</td></tr>\n",
       "\t<tr><td>-1</td><td>400</td><td>50</td><td>4</td></tr>\n",
       "</tbody>\n",
       "</table>\n"
      ],
      "text/latex": [
       "A data.table: 6 × 4\n",
       "\\begin{tabular}{llll}\n",
       " Cp & Ms & Mb & Md\\\\\n",
       " <list> & <list> & <list> & <list>\\\\\n",
       "\\hline\n",
       "\t -1 & 400 & 10 & 4\\\\\n",
       "\t -1 & 400 & 10 & 6\\\\\n",
       "\t -1 & 400 & 10 & 8\\\\\n",
       "\t -1 & 400 & 10 & 10\\\\\n",
       "\t -1 & 400 & 10 & 12\\\\\n",
       "\t -1 & 400 & 50 & 4\\\\\n",
       "\\end{tabular}\n"
      ],
      "text/markdown": [
       "\n",
       "A data.table: 6 × 4\n",
       "\n",
       "| Cp &lt;list&gt; | Ms &lt;list&gt; | Mb &lt;list&gt; | Md &lt;list&gt; |\n",
       "|---|---|---|---|\n",
       "| -1 | 400 | 10 | 4 |\n",
       "| -1 | 400 | 10 | 6 |\n",
       "| -1 | 400 | 10 | 8 |\n",
       "| -1 | 400 | 10 | 10 |\n",
       "| -1 | 400 | 10 | 12 |\n",
       "| -1 | 400 | 50 | 4 |\n",
       "\n"
      ],
      "text/plain": [
       "  Cp Ms  Mb Md\n",
       "1 -1 400 10 4 \n",
       "2 -1 400 10 6 \n",
       "3 -1 400 10 8 \n",
       "4 -1 400 10 10\n",
       "5 -1 400 10 12\n",
       "6 -1 400 50 4 "
      ]
     },
     "metadata": {},
     "output_type": "display_data"
    }
   ],
   "source": [
    "colCp = list()\n",
    "colMs = list()\n",
    "colMb = list()\n",
    "colMd = list()\n",
    "\n",
    "for (i in 1:5){\n",
    "    for (j in 1:5){\n",
    "        for (k in 1:5){\n",
    "            for (l in 1:5){\n",
    "                colCp = c(colCp,par_cp[i])\n",
    "                colMs = c(colMs,par_minsplit[j])\n",
    "                colMb = c(colMb,par_minbucket[k])\n",
    "                colMd = c(colMd,par_maxdepth[l])\n",
    "                #print(paste(par_cp[i], par_minsplit[j], par_minsplit[k], par_minsplit[l]))\n",
    "            }\n",
    "        }\n",
    "    }\n",
    "}\n",
    "configs = data.table(\"Cp\" = colCp, \"Ms\" = colMs, \"Mb\" = colMb, \"Md\" = colMd)\n",
    "head(configs)"
   ]
  },
  {
   "cell_type": "code",
   "execution_count": 82,
   "metadata": {
    "vscode": {
     "languageId": "r"
    }
   },
   "outputs": [],
   "source": [
    "fin_TestingTotal = list()\n",
    "fin_TestingBaja2 = list()\n",
    "fin_Estimulos = list()\n",
    "fin_Aciertos = list()\n",
    "fin_Ganancia = list()\n",
    "\n",
    "for (testConfig in 1:nrow(configs)){\n",
    "    param_basicos  <- list( \"cp\"=           configs$Cp[testConfig],  #complejidad minima\n",
    "                            \"minsplit\"=     configs$Ms[testConfig],  #minima cantidad de registros en un nodo para hacer el split\n",
    "                            \"minbucket\"=    configs$Mb[testConfig],  #minima cantidad de registros en una hoja\n",
    "                            \"maxdepth\"=     configs$Md[testConfig] ) #profundidad máxima del arbol\n",
    "    #genero el modelo\n",
    "    modelo  <- rpart(\"clase_ternaria ~ .\",     #quiero predecir clase_ternaria a partir del resto\n",
    "                    data= dataset[ fold==1],  #fold==1  es training,  el 70% de los datos\n",
    "                    xval= 0,\n",
    "                    control=  param_basicos )  #aqui van los parametros\n",
    "\n",
    "    #aplico el modelo a los datos de testing\n",
    "    prediccion  <- predict( modelo,   #el modelo que genere recien\n",
    "                            dataset[ fold==2],  #fold==2  es testing, el 30% de los datos\n",
    "                            type= \"prob\") #type= \"prob\"  es que devuelva la probabilidad\n",
    "\n",
    "    #prediccion es una matriz con TRES columnas, llamadas \"BAJA+1\", \"BAJA+2\"  y \"CONTINUA\"\n",
    "    #cada columna es el vector de probabilidades \n",
    "\n",
    "    #agrego una columna que es la de las ganancias\n",
    "    dataset[  , ganancia :=  ifelse( clase_ternaria==\"BAJA+2\", 117000, -3000 ) ]\n",
    "    #para testing agrego la probabilidad\n",
    "    dataset[ fold==2 , prob_baja2 := prediccion[, \"BAJA+2\"] ]\n",
    "    #calculo la ganancia en testing  qu es fold==2\n",
    "    ganancia_test  <- dataset[ fold==2 & prob_baja2 >  0.025, sum(ganancia) ]\n",
    "    #escalo la ganancia como si fuera todo el dataset\n",
    "    ganancia_test_normalizada  <-  ganancia_test / 0.3\n",
    "    estimulos  <- dataset[ fold==2 & prob_baja2 > 0.025 , .N ]\n",
    "    aciertos   <- dataset[ fold==2 & prob_baja2 > 0.025 & clase_ternaria ==\"BAJA+2\", .N ]\n",
    "    \n",
    "    fin_TestingTotal = c(fin_TestingTotal,dataset[fold==2, .N])\n",
    "    fin_TestingBaja2 = c(fin_TestingBaja2,dataset[ fold==2 & clase_ternaria ==\"BAJA+2\", .N ]) \n",
    "    fin_Estimulos = c(fin_Estimulos,estimulos)\n",
    "    fin_Aciertos = c(fin_Aciertos,aciertos)\n",
    "    fin_Ganancia = c(fin_Ganancia,ganancia_test_normalizada)\n",
    "}\n"
   ]
  },
  {
   "cell_type": "code",
   "execution_count": 83,
   "metadata": {
    "vscode": {
     "languageId": "r"
    }
   },
   "outputs": [],
   "source": [
    "finalResults = data.table(\n",
    "    \"ComplejidadMinima\" = colCp\n",
    "    , \"MinSplit\" = colMs\n",
    "    , \"MinBucket\" = colMb\n",
    "    , \"MaxDepth\" = colMd\n",
    "    , \"TestingTotal\" = fin_TestingTotal\n",
    "    , \"TesingBaja2\" = fin_TestingBaja2\n",
    "    , \"Estimulos\" = fin_Estimulos\n",
    "    , \"Aciertos\" = fin_Aciertos\n",
    "    , \"Ganancia\" = fin_Ganancia)"
   ]
  },
  {
   "cell_type": "code",
   "execution_count": 85,
   "metadata": {
    "vscode": {
     "languageId": "r"
    }
   },
   "outputs": [
    {
     "name": "stderr",
     "output_type": "stream",
     "text": [
      "Warning message in dir.create(\"./exp/\"):\n",
      "\"'.\\exp' already exists\"\n"
     ]
    }
   ],
   "source": [
    "dir.create( \"./exp/\" )\n",
    "\n",
    "#fwrite( dapply[ , list(numero_de_cliente, Predicted) ], #solo los campos para Kaggle\n",
    "fwrite( finalResults, #solo los campos para Kaggle\n",
    "        file= \"./exp/treeResults.csv\",\n",
    "        sep=  \",\" )\n"
   ]
  }
 ],
 "metadata": {
  "kernelspec": {
   "display_name": "R",
   "language": "R",
   "name": "ir"
  },
  "language_info": {
   "codemirror_mode": "r",
   "file_extension": ".r",
   "mimetype": "text/x-r-source",
   "name": "R",
   "pygments_lexer": "r",
   "version": "4.2.2"
  },
  "orig_nbformat": 4
 },
 "nbformat": 4,
 "nbformat_minor": 2
}
