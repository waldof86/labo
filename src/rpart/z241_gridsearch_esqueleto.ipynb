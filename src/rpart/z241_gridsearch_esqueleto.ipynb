{
 "cells": [
  {
   "cell_type": "code",
   "execution_count": 16,
   "metadata": {
    "vscode": {
     "languageId": "r"
    }
   },
   "outputs": [
    {
     "data": {
      "text/html": [
       "<table class=\"dataframe\">\n",
       "<caption>A matrix: 2 × 6 of type dbl</caption>\n",
       "<thead>\n",
       "\t<tr><th></th><th scope=col>used</th><th scope=col>(Mb)</th><th scope=col>gc trigger</th><th scope=col>(Mb)</th><th scope=col>max used</th><th scope=col>(Mb)</th></tr>\n",
       "</thead>\n",
       "<tbody>\n",
       "\t<tr><th scope=row>Ncells</th><td> 705650</td><td>37.7</td><td> 1321401</td><td> 70.6</td><td>  1321401</td><td> 70.6</td></tr>\n",
       "\t<tr><th scope=row>Vcells</th><td>1308393</td><td>10.0</td><td>84753167</td><td>646.7</td><td>119479098</td><td>911.6</td></tr>\n",
       "</tbody>\n",
       "</table>\n"
      ],
      "text/latex": [
       "A matrix: 2 × 6 of type dbl\n",
       "\\begin{tabular}{r|llllll}\n",
       "  & used & (Mb) & gc trigger & (Mb) & max used & (Mb)\\\\\n",
       "\\hline\n",
       "\tNcells &  705650 & 37.7 &  1321401 &  70.6 &   1321401 &  70.6\\\\\n",
       "\tVcells & 1308393 & 10.0 & 84753167 & 646.7 & 119479098 & 911.6\\\\\n",
       "\\end{tabular}\n"
      ],
      "text/markdown": [
       "\n",
       "A matrix: 2 × 6 of type dbl\n",
       "\n",
       "| <!--/--> | used | (Mb) | gc trigger | (Mb) | max used | (Mb) |\n",
       "|---|---|---|---|---|---|---|\n",
       "| Ncells |  705650 | 37.7 |  1321401 |  70.6 |   1321401 |  70.6 |\n",
       "| Vcells | 1308393 | 10.0 | 84753167 | 646.7 | 119479098 | 911.6 |\n",
       "\n"
      ],
      "text/plain": [
       "       used    (Mb) gc trigger (Mb)  max used  (Mb) \n",
       "Ncells  705650 37.7  1321401    70.6   1321401  70.6\n",
       "Vcells 1308393 10.0 84753167   646.7 119479098 911.6"
      ]
     },
     "metadata": {},
     "output_type": "display_data"
    }
   ],
   "source": [
    "#esqueleto de grid search\n",
    "#se espera que los alumnos completen lo que falta para recorrer TODOS cuatro los hiperparametros \n",
    "\n",
    "rm( list=ls() )  #Borro todos los objetos\n",
    "gc()   #Garbage Collection\n",
    "\n",
    "library(\"data.table\")\n",
    "library(\"rpart\")\n",
    "library(\"parallel\")"
   ]
  },
  {
   "cell_type": "code",
   "execution_count": 17,
   "metadata": {
    "vscode": {
     "languageId": "r"
    }
   },
   "outputs": [],
   "source": [
    "ksemillas  <- c(262139, 394943, 638819, 819031, 902761) #reemplazar por las propias semillas\n"
   ]
  },
  {
   "cell_type": "code",
   "execution_count": 18,
   "metadata": {
    "vscode": {
     "languageId": "r"
    }
   },
   "outputs": [],
   "source": [
    "# particionar agrega una columna llamada fold a un dataset que consiste en una particion estratificada segun agrupa\n",
    "# particionar( data=dataset, division=c(70,30), agrupa=clase_ternaria, seed=semilla)   crea una particion 70, 30 \n",
    "\n",
    "particionar  <- function( data,  division, agrupa=\"\",  campo=\"fold\", start=1, seed=NA )\n",
    "{\n",
    "  if( !is.na(seed) )   set.seed( seed )\n",
    "\n",
    "  bloque  <- unlist( mapply(  function(x,y) { rep( y, x )} ,   division,  seq( from=start, length.out=length(division) )  ) )  \n",
    "\n",
    "  data[ , (campo) :=  sample( rep( bloque, ceiling(.N/length(bloque))) )[1:.N],\n",
    "          by= agrupa ]\n",
    "}"
   ]
  },
  {
   "cell_type": "code",
   "execution_count": 19,
   "metadata": {
    "vscode": {
     "languageId": "r"
    }
   },
   "outputs": [],
   "source": [
    "ArbolEstimarGanancia  <- function( semilla, param_basicos )\n",
    "{\n",
    "  #particiono estratificadamente el dataset\n",
    "  particionar( dataset, division=c(7,3), agrupa=\"clase_ternaria\", seed= semilla )  #Cambiar por la primer semilla de cada uno !\n",
    "\n",
    "  #genero el modelo\n",
    "  modelo  <- rpart(\"clase_ternaria ~ .\",     #quiero predecir clase_ternaria a partir del resto\n",
    "                   data= dataset[ fold==1],  #fold==1  es training,  el 70% de los datos\n",
    "                   xval= 0,\n",
    "                   control= param_basicos )  #aqui van los parametros del arbol\n",
    "\n",
    "  #aplico el modelo a los datos de testing\n",
    "  prediccion  <- predict( modelo,   #el modelo que genere recien\n",
    "                          dataset[ fold==2],  #fold==2  es testing, el 30% de los datos\n",
    "                          type= \"prob\") #type= \"prob\"  es que devuelva la probabilidad\n",
    "\n",
    "  #prediccion es una matriz con TRES columnas, llamadas \"BAJA+1\", \"BAJA+2\"  y \"CONTINUA\"\n",
    "  #cada columna es el vector de probabilidades \n",
    "\n",
    "  #calculo la ganancia en testing  qu es fold==2\n",
    "  ganancia_test  <- dataset[ fold==2, \n",
    "                             sum( ifelse( prediccion[, \"BAJA+2\"]  >  0.025,\n",
    "                                         ifelse( clase_ternaria==\"BAJA+2\", 117000, -3000 ),\n",
    "                                         0 ) )]\n",
    "\n",
    "  #escalo la ganancia como si fuera todo el dataset\n",
    "  ganancia_test_normalizada  <-  ganancia_test / 0.3\n",
    "\n",
    "  return(ganancia_test_normalizada)\n",
    "}"
   ]
  },
  {
   "cell_type": "code",
   "execution_count": 20,
   "metadata": {
    "vscode": {
     "languageId": "r"
    }
   },
   "outputs": [],
   "source": [
    "ArbolesMontecarlo  <- function( semillas, param_basicos )\n",
    "{\n",
    "  #la funcion mcmapply  llama a la funcion ArbolEstimarGanancia  tantas veces como valores tenga el vector  ksemillas\n",
    "  ganancias  <- mcmapply( ArbolEstimarGanancia, \n",
    "                          semillas,   #paso el vector de semillas, que debe ser el primer parametro de la funcion ArbolEstimarGanancia\n",
    "                          MoreArgs= list( param_basicos),  #aqui paso el segundo parametro\n",
    "                          SIMPLIFY= FALSE,\n",
    "                          mc.cores= 1 )  #se puede subir a 5 si posee Linux o Mac OS\n",
    "\n",
    "  ganancia_promedio  <- mean( unlist(ganancias) )\n",
    "\n",
    "  return( ganancia_promedio )\n",
    "}"
   ]
  },
  {
   "cell_type": "code",
   "execution_count": 21,
   "metadata": {
    "vscode": {
     "languageId": "r"
    }
   },
   "outputs": [
    {
     "data": {
      "text/html": [
       "'d:/Onedrive/Austral/Cursos/08 - Laboratorio de Implementacion 1/labo2023v/src/rpart'"
      ],
      "text/latex": [
       "'d:/Onedrive/Austral/Cursos/08 - Laboratorio de Implementacion 1/labo2023v/src/rpart'"
      ],
      "text/markdown": [
       "'d:/Onedrive/Austral/Cursos/08 - Laboratorio de Implementacion 1/labo2023v/src/rpart'"
      ],
      "text/plain": [
       "[1] \"d:/Onedrive/Austral/Cursos/08 - Laboratorio de Implementacion 1/labo2023v/src/rpart\""
      ]
     },
     "metadata": {},
     "output_type": "display_data"
    }
   ],
   "source": [
    "#apunto el working directory al directorio donde esta ubicado el script\n",
    "setwd(\".\\\\\") \n",
    "getwd() #solo para validar"
   ]
  },
  {
   "cell_type": "code",
   "execution_count": 22,
   "metadata": {
    "vscode": {
     "languageId": "r"
    }
   },
   "outputs": [],
   "source": [
    "#cargo los datos\n",
    "dataset  <- fread(\"./datasets/dataset_pequeno.csv\")\n",
    "\n",
    "#trabajo solo con los datos con clase, es decir 202107\n",
    "dataset  <- dataset[ clase_ternaria!= \"\" ]\n"
   ]
  },
  {
   "cell_type": "code",
   "execution_count": 23,
   "metadata": {
    "vscode": {
     "languageId": "r"
    }
   },
   "outputs": [],
   "source": [
    "#genero el archivo para Kaggle\n",
    "#creo la carpeta donde va el experimento\n",
    "# HT  representa  Hiperparameter Tuning\n",
    "\n",
    "dir.create( \"./exp/\",  showWarnings = FALSE ) \n",
    "dir.create( \"./exp/HT2020/\", showWarnings = FALSE )\n",
    "archivo_salida  <- \"./exp/HT2020/gridsearch.csv\"\n"
   ]
  },
  {
   "cell_type": "code",
   "execution_count": 24,
   "metadata": {
    "vscode": {
     "languageId": "r"
    }
   },
   "outputs": [],
   "source": [
    "# Escribo los titulos al archivo donde van a quedar los resultados\n",
    "# atencion que si ya existe el archivo, esta instruccion LO SOBREESCRIBE, y lo que estaba antes se pierde\n",
    "# la forma que no suceda lo anterior es con append=TRUE\n",
    "\n",
    "cat( file=archivo_salida,\n",
    "     sep= \"\",\n",
    "     \"max_depth\", \"\\t\",\n",
    "     \"min_split\", \"\\t\",\n",
    "     \"ganancia_promedio\", \"\\n\")"
   ]
  },
  {
   "cell_type": "code",
   "execution_count": 25,
   "metadata": {
    "vscode": {
     "languageId": "r"
    }
   },
   "outputs": [],
   "source": [
    "#itero por los loops anidados para cada hiperparametro\n",
    "\n",
    "# for( vmax_depth  in  c( 4, 6, 8, 10, 12, 14 ) )\n",
    "# {\n",
    "#   for( vmin_split  in  c( 1000, 800, 600, 400, 200, 100, 50, 20, 10 )  )\n",
    "#   {\n",
    "#     #notar como se agrega\n",
    "#     param_basicos  <- list( \"cp\"=         -0.5,       #complejidad minima\n",
    "#                             \"minsplit\"=  vmin_split,  #minima cantidad de registros en un nodo para hacer el split\n",
    "#                             \"minbucket\"=  5,          #minima cantidad de registros en una hoja\n",
    "#                             \"maxdepth\"=  vmax_depth ) #profundidad máxima del arbol\n",
    "\n",
    "#     #Un solo llamado, con la semilla 17\n",
    "#     ganancia_promedio  <- ArbolesMontecarlo( ksemillas,  param_basicos )\n",
    "\n",
    "#     #escribo los resultados al archivo de salida\n",
    "#     cat(  file=archivo_salida,\n",
    "#           append= TRUE,\n",
    "#           sep= \"\",\n",
    "#           vmax_depth, \"\\t\",\n",
    "#           vmin_split, \"\\t\",\n",
    "#           ganancia_promedio, \"\\n\"  )\n",
    "\n",
    "#   }\n",
    "# }"
   ]
  },
  {
   "cell_type": "code",
   "execution_count": 26,
   "metadata": {
    "vscode": {
     "languageId": "r"
    }
   },
   "outputs": [],
   "source": [
    "#genero el archivo para Kaggle\n",
    "#creo la carpeta donde va el experimento\n",
    "# HT  representa  Hiperparameter Tuning\n",
    "\n",
    "dir.create( \"./exp/\",  showWarnings = FALSE ) \n",
    "dir.create( \"./exp/HT2020/\", showWarnings = FALSE )\n",
    "archivo_salida  <- \"./exp/HT2020/gridsearch.csv\"\n"
   ]
  },
  {
   "cell_type": "code",
   "execution_count": 27,
   "metadata": {
    "vscode": {
     "languageId": "r"
    }
   },
   "outputs": [],
   "source": [
    "# Escribo los titulos al archivo donde van a quedar los resultados\n",
    "# atencion que si ya existe el archivo, esta instruccion LO SOBREESCRIBE, y lo que estaba antes se pierde\n",
    "# la forma que no suceda lo anterior es con append=TRUE\n",
    "\n",
    "cat( file=archivo_salida,\n",
    "     sep= \"\",\n",
    "     \"cp\", \"\\t\",\n",
    "     \"minsplit\", \"\\t\",\n",
    "     \"minbucket\", \"\\t\",\n",
    "     \"maxdepth\", \"\\t\",\n",
    "     \"ganancia_promedio\", \"\\n\")"
   ]
  },
  {
   "cell_type": "code",
   "execution_count": 28,
   "metadata": {
    "vscode": {
     "languageId": "r"
    }
   },
   "outputs": [
    {
     "ename": "ERROR",
     "evalue": "Error in mcmapply(ArbolEstimarGanancia, semillas, MoreArgs = list(param_basicos), : 'mc.cores' > 1 is not supported on Windows\n",
     "output_type": "error",
     "traceback": [
      "Error in mcmapply(ArbolEstimarGanancia, semillas, MoreArgs = list(param_basicos), : 'mc.cores' > 1 is not supported on Windows\nTraceback:\n",
      "1. ArbolesMontecarlo(ksemillas, param_basicos)",
      "2. mcmapply(ArbolEstimarGanancia, semillas, MoreArgs = list(param_basicos), \n .     SIMPLIFY = FALSE, mc.cores = 5)   # at line 4-8 of file <text>",
      "3. stop(\"'mc.cores' > 1 is not supported on Windows\")"
     ]
    }
   ],
   "source": [
    "#itero por los loops anidados para cada hiperparametro\n",
    "\n",
    "for( vmax_depth  in  c(6) )\n",
    "{\n",
    "  for( vmin_split  in  c(100,200,300,400,500)  )\n",
    "  {\n",
    "    for(vmin_bucket in c(128))\n",
    "    {  \n",
    "      for(vcp  in  c(-1))\n",
    "      {\n",
    "\n",
    "        #notar como se agrega\n",
    "        param_basicos  <- list( \"cp\"=        vcp,         #complejidad minima\n",
    "                                \"minsplit\"=  vmin_split,  #minima cantidad de registros en un nodo para hacer el split\n",
    "                                \"minbucket\"= vmin_split / 2, #vmin_bucket, #minima cantidad de registros en una hoja\n",
    "                                \"maxdepth\"=  vmax_depth ) #profundidad máxima del arbol\n",
    "\n",
    "        ganancia_promedio  <- ArbolesMontecarlo( ksemillas,  param_basicos )\n",
    "\n",
    "        #escribo los resultados al archivo de salida\n",
    "        cat(  file=archivo_salida,\n",
    "              append= TRUE,\n",
    "              sep= \"\",\n",
    "              vcp, \"\\t\",\n",
    "              vmin_split, \"\\t\",\n",
    "              vmin_bucket, \"\\t\",\n",
    "              vmax_depth, \"\\t\",\n",
    "              ganancia_promedio, \"\\n\"  )\n",
    "      }\n",
    "    }\n",
    "  }\n",
    "}"
   ]
  }
 ],
 "metadata": {
  "kernelspec": {
   "display_name": "R",
   "language": "R",
   "name": "ir"
  },
  "language_info": {
   "codemirror_mode": "r",
   "file_extension": ".r",
   "mimetype": "text/x-r-source",
   "name": "R",
   "pygments_lexer": "r",
   "version": "4.2.2"
  },
  "orig_nbformat": 4
 },
 "nbformat": 4,
 "nbformat_minor": 2
}
