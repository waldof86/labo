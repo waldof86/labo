{
 "cells": [
  {
   "cell_type": "code",
   "execution_count": 63,
   "metadata": {
    "vscode": {
     "languageId": "r"
    }
   },
   "outputs": [
    {
     "data": {
      "text/html": [
       "<table class=\"dataframe\">\n",
       "<caption>A matrix: 2 × 6 of type dbl</caption>\n",
       "<thead>\n",
       "\t<tr><th></th><th scope=col>used</th><th scope=col>(Mb)</th><th scope=col>gc trigger</th><th scope=col>(Mb)</th><th scope=col>max used</th><th scope=col>(Mb)</th></tr>\n",
       "</thead>\n",
       "<tbody>\n",
       "\t<tr><th scope=row>Ncells</th><td> 704428</td><td>37.7</td><td> 1321401</td><td> 70.6</td><td>  1321401</td><td> 70.6</td></tr>\n",
       "\t<tr><th scope=row>Vcells</th><td>1317855</td><td>10.1</td><td>83075154</td><td>633.9</td><td>103058080</td><td>786.3</td></tr>\n",
       "</tbody>\n",
       "</table>\n"
      ],
      "text/latex": [
       "A matrix: 2 × 6 of type dbl\n",
       "\\begin{tabular}{r|llllll}\n",
       "  & used & (Mb) & gc trigger & (Mb) & max used & (Mb)\\\\\n",
       "\\hline\n",
       "\tNcells &  704428 & 37.7 &  1321401 &  70.6 &   1321401 &  70.6\\\\\n",
       "\tVcells & 1317855 & 10.1 & 83075154 & 633.9 & 103058080 & 786.3\\\\\n",
       "\\end{tabular}\n"
      ],
      "text/markdown": [
       "\n",
       "A matrix: 2 × 6 of type dbl\n",
       "\n",
       "| <!--/--> | used | (Mb) | gc trigger | (Mb) | max used | (Mb) |\n",
       "|---|---|---|---|---|---|---|\n",
       "| Ncells |  704428 | 37.7 |  1321401 |  70.6 |   1321401 |  70.6 |\n",
       "| Vcells | 1317855 | 10.1 | 83075154 | 633.9 | 103058080 | 786.3 |\n",
       "\n"
      ],
      "text/plain": [
       "       used    (Mb) gc trigger (Mb)  max used  (Mb) \n",
       "Ncells  704428 37.7  1321401    70.6   1321401  70.6\n",
       "Vcells 1317855 10.1 83075154   633.9 103058080 786.3"
      ]
     },
     "metadata": {},
     "output_type": "display_data"
    }
   ],
   "source": [
    "rm( list=ls() )  #Borro todos los objetos\n",
    "gc()   #Garbage Collection\n",
    "\n",
    "library(\"data.table\")\n",
    "library(\"rpart\")"
   ]
  },
  {
   "cell_type": "code",
   "execution_count": 64,
   "metadata": {
    "vscode": {
     "languageId": "r"
    }
   },
   "outputs": [],
   "source": [
    "# particionar agrega una columna llamada fold (por defecto) a un dataset\n",
    "# que consiste en una particion estratificada segun agrupa\n",
    "# particionar(  data=dataset\n",
    "              #,division=c(70,30)\n",
    "              #, agrupa=clase_ternaria\n",
    "              #, seed=semilla) crea una particion 70, 30 \n",
    "\n",
    "particionar  <- function(\n",
    "  data #el dataset sobre el que se trabaja, va a tener una nueva columna\n",
    "  ,division #este parametro determina las proporciones, vector de N cantidad\n",
    "  ,agrupa=\"\" #aca va el criterio de agrupacion\n",
    "  ,campo=\"fold\" #el nombre del nuevo campo, default \"fold\"\n",
    "  ,start=1 #los numeros asignados parten de 1 por defecto\n",
    "  ,seed=NA) #seed default NA\n",
    "{\n",
    "  if(!is.na(seed)) set.seed(seed)\n",
    "\n",
    "  bloque <- unlist(\n",
    "    mapply(\n",
    "      function(x, y) {rep(y, x)}\n",
    "      ,division\n",
    "      ,seq(from = start\n",
    "        ,length.out = length(division)\n",
    "      )\n",
    "    )\n",
    "  )\n",
    "  #esto ayuda a visualizar lo que hace la funcion\n",
    "\n",
    "  #modelo de como es un bloque\n",
    "  walA = bloque \n",
    "  #el modelo repetido segun la cantidad de rows\n",
    "  walB = rep( bloque, ceiling(nrow(data)/length(bloque))) \n",
    "  #la muestra de ese modelo que ahora lleva otro orden\n",
    "  walC = sample( walB)\n",
    "  #preparo el retorno\n",
    "  listReturn <- list(walA,walB,walC)\n",
    "  data[ , (campo) :=  sample( rep( bloque, ceiling(.N/length(bloque))))[1:.N], by= agrupa ]\n",
    "  \n",
    "  return(listReturn)\n",
    "}"
   ]
  },
  {
   "cell_type": "code",
   "execution_count": 65,
   "metadata": {
    "vscode": {
     "languageId": "r"
    }
   },
   "outputs": [
    {
     "data": {
      "text/html": [
       "'d:/Onedrive/Austral/Cursos/08 - Laboratorio de Implementacion 1/labo2023v/src/rpart'"
      ],
      "text/latex": [
       "'d:/Onedrive/Austral/Cursos/08 - Laboratorio de Implementacion 1/labo2023v/src/rpart'"
      ],
      "text/markdown": [
       "'d:/Onedrive/Austral/Cursos/08 - Laboratorio de Implementacion 1/labo2023v/src/rpart'"
      ],
      "text/plain": [
       "[1] \"d:/Onedrive/Austral/Cursos/08 - Laboratorio de Implementacion 1/labo2023v/src/rpart\""
      ]
     },
     "metadata": {},
     "output_type": "display_data"
    }
   ],
   "source": [
    "#apunto el working directory al directorio donde esta ubicado el script\n",
    "setwd(\".\\\\\") \n",
    "getwd() #solo para validar"
   ]
  },
  {
   "cell_type": "code",
   "execution_count": 66,
   "metadata": {
    "vscode": {
     "languageId": "r"
    }
   },
   "outputs": [
    {
     "name": "stdout",
     "output_type": "stream",
     "text": [
      "Lineas en el archivo original:  329919 \n",
      "Lineas con clase:  164682 \n"
     ]
    }
   ],
   "source": [
    "#cargo los datos\n",
    "dataset  <- fread(\"./datasets/dataset_pequeno.csv\")\n",
    "cat(\"Lineas en el archivo original: \", nrow(dataset), \"\\n\")\n",
    "\n",
    "#trabajo solo con los datos con clase, es decir 202107\n",
    "dataset  <- dataset[ clase_ternaria!= \"\" ]\n",
    "cat(\"Lineas con clase: \", nrow(dataset), \"\\n\")"
   ]
  },
  {
   "cell_type": "code",
   "execution_count": 67,
   "metadata": {
    "vscode": {
     "languageId": "r"
    }
   },
   "outputs": [],
   "source": [
    "#particiono estratificadamente el dataset\n",
    "#Cambiar por la primer semilla de cada uno!\n",
    "a = particionar( data=dataset, division=c(7,3), agrupa=\"clase_ternaria\", seed= 262139 )  #Cambiar por la primer semilla de cada uno !"
   ]
  },
  {
   "cell_type": "code",
   "execution_count": 68,
   "metadata": {
    "vscode": {
     "languageId": "r"
    }
   },
   "outputs": [
    {
     "name": "stdout",
     "output_type": "stream",
     "text": [
      "Modelo Bloque:  1 1 1 1 1 1 1 2 2 2 \n",
      "Bloque Repetido:  1 1 1 1 1 1 1 2 2 2 1 1 1 1 1 1 1 2 2 2 1 1 1 1 1 1 1 2 2 2 1 1 1 1 1 1 1 2 2 2 ...\n",
      "Bloque Repetido:  1 1 1 1 1 1 1 1 1 1 1 1 1 1 1 1 1 1 1 2 2 1 2 2 1 1 2 1 2 1 1 1 2 1 1 1 1 1 2 1 ...\n"
     ]
    }
   ],
   "source": [
    "cat(\"Modelo Bloque: \", unlist(a[1]), \"\\n\")\n",
    "cat(\"Bloque Repetido: \", unlist(unlist(a[2])[1:40]), \"...\\n\")\n",
    "cat(\"Bloque Repetido: \", unlist(unlist(a[3])[1:40]), \"...\\n\")"
   ]
  },
  {
   "cell_type": "code",
   "execution_count": 69,
   "metadata": {
    "vscode": {
     "languageId": "r"
    }
   },
   "outputs": [],
   "source": [
    "param_basicos  <- list( \"cp\"=         -1,  #complejidad minima\n",
    "                        \"minsplit\"=  400,  #minima cantidad de registros en un nodo para hacer el split\n",
    "                        \"minbucket\"=  10,  #minima cantidad de registros en una hoja\n",
    "                        \"maxdepth\"=    8 ) #profundidad máxima del arbol"
   ]
  },
  {
   "cell_type": "code",
   "execution_count": 70,
   "metadata": {
    "vscode": {
     "languageId": "r"
    }
   },
   "outputs": [],
   "source": [
    "#genero el modelo\n",
    "modelo  <- rpart(\"clase_ternaria ~ .\",     #quiero predecir clase_ternaria a partir del resto\n",
    "                 data= dataset[ fold==1],  #fold==1  es training,  el 70% de los datos\n",
    "                 xval= 0,\n",
    "                 control=  param_basicos )  #aqui van los parametros"
   ]
  },
  {
   "cell_type": "code",
   "execution_count": 71,
   "metadata": {
    "vscode": {
     "languageId": "r"
    }
   },
   "outputs": [],
   "source": [
    "#aplico el modelo a los datos de testing\n",
    "prediccion  <- predict( modelo,   #el modelo que genere recien\n",
    "                        dataset[ fold==2],  #fold==2  es testing, el 30% de los datos\n",
    "                        type= \"prob\") #type= \"prob\"  es que devuelva la probabilidad\n",
    "\n",
    "#prediccion es una matriz con TRES columnas, llamadas \"BAJA+1\", \"BAJA+2\"  y \"CONTINUA\"\n",
    "#cada columna es el vector de probabilidades "
   ]
  },
  {
   "cell_type": "code",
   "execution_count": 72,
   "metadata": {
    "vscode": {
     "languageId": "r"
    }
   },
   "outputs": [],
   "source": [
    "#agrego una columna que es la de las ganancias\n",
    "dataset[  , ganancia :=  ifelse( clase_ternaria==\"BAJA+2\", 117000, -3000 ) ]"
   ]
  },
  {
   "cell_type": "code",
   "execution_count": 73,
   "metadata": {
    "vscode": {
     "languageId": "r"
    }
   },
   "outputs": [],
   "source": [
    "#para testing agrego la probabilidad\n",
    "dataset[ fold==2 , prob_baja2 := prediccion[, \"BAJA+2\"] ]"
   ]
  },
  {
   "cell_type": "code",
   "execution_count": 74,
   "metadata": {
    "vscode": {
     "languageId": "r"
    }
   },
   "outputs": [],
   "source": [
    "#calculo la ganancia en testing  qu es fold==2\n",
    "ganancia_test  <- dataset[ fold==2 & prob_baja2 >  0.025, sum(ganancia) ]"
   ]
  },
  {
   "cell_type": "code",
   "execution_count": 75,
   "metadata": {
    "vscode": {
     "languageId": "r"
    }
   },
   "outputs": [],
   "source": [
    "#escalo la ganancia como si fuera todo el dataset\n",
    "ganancia_test_normalizada  <-  ganancia_test / 0.3\n",
    "\n",
    "estimulos  <- dataset[ fold==2 & prob_baja2 > 0.025 , .N ]\n",
    "aciertos   <- dataset[ fold==2 & prob_baja2 > 0.025 & clase_ternaria ==\"BAJA+2\", .N ]"
   ]
  },
  {
   "cell_type": "code",
   "execution_count": null,
   "metadata": {
    "vscode": {
     "languageId": "r"
    }
   },
   "outputs": [],
   "source": [
    "cat( \"Testing total: \",  dataset[ fold==2, .N ], \"\\n\" )\n",
    "cat( \"Testing BAJA+2: \", dataset[ fold==2 & clase_ternaria ==\"BAJA+2\", .N ], \"\\n\" )\n",
    "\n",
    "cat( \"Estimulos: \", estimulos, \"\\n\" )\n",
    "cat( \"Aciertos (BAJA+2): \",  aciertos,  \"\\n\" )\n",
    "\n",
    "cat( \"Ganancia en testing (normalizada): \", ganancia_test_normalizada, \"\\n\" )"
   ]
  }
 ],
 "metadata": {
  "kernelspec": {
   "display_name": "R",
   "language": "R",
   "name": "ir"
  },
  "language_info": {
   "codemirror_mode": "r",
   "file_extension": ".r",
   "mimetype": "text/x-r-source",
   "name": "R",
   "pygments_lexer": "r",
   "version": "4.2.2"
  },
  "orig_nbformat": 4
 },
 "nbformat": 4,
 "nbformat_minor": 2
}
