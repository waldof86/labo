{
 "cells": [
  {
   "cell_type": "code",
   "execution_count": 1,
   "metadata": {
    "vscode": {
     "languageId": "r"
    }
   },
   "outputs": [
    {
     "data": {
      "text/html": [
       "<table class=\"dataframe\">\n",
       "<caption>A matrix: 2 × 6 of type dbl</caption>\n",
       "<thead>\n",
       "\t<tr><th></th><th scope=col>used</th><th scope=col>(Mb)</th><th scope=col>gc trigger</th><th scope=col>(Mb)</th><th scope=col>max used</th><th scope=col>(Mb)</th></tr>\n",
       "</thead>\n",
       "<tbody>\n",
       "\t<tr><th scope=row>Ncells</th><td> 614757</td><td>32.9</td><td>1321401</td><td>70.6</td><td>1321401</td><td>70.6</td></tr>\n",
       "\t<tr><th scope=row>Vcells</th><td>1093689</td><td> 8.4</td><td>8388608</td><td>64.0</td><td>1632451</td><td>12.5</td></tr>\n",
       "</tbody>\n",
       "</table>\n"
      ],
      "text/latex": [
       "A matrix: 2 × 6 of type dbl\n",
       "\\begin{tabular}{r|llllll}\n",
       "  & used & (Mb) & gc trigger & (Mb) & max used & (Mb)\\\\\n",
       "\\hline\n",
       "\tNcells &  614757 & 32.9 & 1321401 & 70.6 & 1321401 & 70.6\\\\\n",
       "\tVcells & 1093689 &  8.4 & 8388608 & 64.0 & 1632451 & 12.5\\\\\n",
       "\\end{tabular}\n"
      ],
      "text/markdown": [
       "\n",
       "A matrix: 2 × 6 of type dbl\n",
       "\n",
       "| <!--/--> | used | (Mb) | gc trigger | (Mb) | max used | (Mb) |\n",
       "|---|---|---|---|---|---|---|\n",
       "| Ncells |  614757 | 32.9 | 1321401 | 70.6 | 1321401 | 70.6 |\n",
       "| Vcells | 1093689 |  8.4 | 8388608 | 64.0 | 1632451 | 12.5 |\n",
       "\n"
      ],
      "text/plain": [
       "       used    (Mb) gc trigger (Mb) max used (Mb)\n",
       "Ncells  614757 32.9 1321401    70.6 1321401  70.6\n",
       "Vcells 1093689  8.4 8388608    64.0 1632451  12.5"
      ]
     },
     "metadata": {},
     "output_type": "display_data"
    },
    {
     "name": "stderr",
     "output_type": "stream",
     "text": [
      "Warning message:\n",
      "\"package 'data.table' was built under R version 4.2.3\"\n",
      "Warning message:\n",
      "\"package 'rlist' was built under R version 4.2.3\"\n",
      "Warning message:\n",
      "\"package 'rpart' was built under R version 4.2.3\"\n",
      "Warning message:\n",
      "\"package 'DiceKriging' was built under R version 4.2.3\"\n",
      "Warning message:\n",
      "\"package 'mlrMBO' was built under R version 4.2.3\"\n",
      "Loading required package: mlr\n",
      "\n",
      "Warning message:\n",
      "\"package 'mlr' was built under R version 4.2.3\"\n",
      "Loading required package: ParamHelpers\n",
      "\n",
      "Warning message:\n",
      "\"package 'ParamHelpers' was built under R version 4.2.3\"\n",
      "Warning message: 'mlr' is in 'maintenance-only' mode since July 2019.\n",
      "Future development will only happen in 'mlr3'\n",
      "(<https://mlr3.mlr-org.com>). Due to the focus on 'mlr3' there might be\n",
      "uncaught bugs meanwhile in {mlr} - please consider switching.\n",
      "\n",
      "Loading required package: smoof\n",
      "\n",
      "Warning message:\n",
      "\"package 'smoof' was built under R version 4.2.3\"\n",
      "Loading required package: checkmate\n",
      "\n",
      "Warning message:\n",
      "\"package 'checkmate' was built under R version 4.2.3\"\n",
      "\n",
      "Attaching package: 'checkmate'\n",
      "\n",
      "\n",
      "The following object is masked from 'package:DiceKriging':\n",
      "\n",
      "    checkNames\n",
      "\n",
      "\n"
     ]
    }
   ],
   "source": [
    "#Optimizacion Bayesiana de hiperparametros de  rpart\n",
    "\n",
    "#limpio la memoria\n",
    "rm( list=ls() )  #remove all objects\n",
    "gc()             #garbage collection\n",
    "\n",
    "library(\"data.table\")\n",
    "library(\"rlist\")\n",
    "\n",
    "library(\"rpart\")\n",
    "library(\"parallel\")\n",
    "\n",
    "#paquetes necesarios para la Bayesian Optimization\n",
    "library(\"DiceKriging\")\n",
    "library(\"mlrMBO\")"
   ]
  },
  {
   "cell_type": "code",
   "execution_count": 2,
   "metadata": {
    "vscode": {
     "languageId": "r"
    }
   },
   "outputs": [],
   "source": [
    "#Defino la  Optimizacion Bayesiana\n",
    "\n",
    "kBO_iter  <- 100   #cantidad de iteraciones de la Optimizacion Bayesiana\n",
    "\n",
    "hs  <- makeParamSet(\n",
    "          makeNumericParam(\"cp\"       , lower= -1   , upper=    0.1),\n",
    "          makeIntegerParam(\"minsplit\" , lower=  1L  , upper= 8000L),  #la letra L al final significa ENTERO\n",
    "          makeIntegerParam(\"minbucket\", lower=  1L  , upper= 4000L),\n",
    "          makeIntegerParam(\"maxdepth\" , lower=  3L  , upper=   20L),\n",
    "          forbidden = quote( minbucket > 0.5*minsplit ) )             # minbuket NO PUEDE ser mayor que la mitad de minsplit\n",
    "\n",
    "ksemilla_azar  <- 262139   #cambiar por la primer semilla"
   ]
  },
  {
   "cell_type": "code",
   "execution_count": 3,
   "metadata": {
    "vscode": {
     "languageId": "r"
    }
   },
   "outputs": [],
   "source": [
    "#graba a un archivo los componentes de lista\n",
    "#para el primer registro, escribe antes los titulos\n",
    "\n",
    "loguear  <- function( reg, arch=NA, folder=\"./work/\", ext=\".txt\", verbose=TRUE )\n",
    "{\n",
    "  archivo  <- arch\n",
    "  if( is.na(arch) )  archivo  <- paste0( folder, substitute( reg), ext )\n",
    "\n",
    "  if( !file.exists( archivo ) )  #Escribo los titulos\n",
    "  {\n",
    "    linea  <- paste0( \"fecha\\t\", \n",
    "                      paste( list.names(reg), collapse=\"\\t\" ), \"\\n\" )\n",
    "\n",
    "    cat( linea, file=archivo )\n",
    "  }\n",
    "\n",
    "  linea  <- paste0( format(Sys.time(), \"%Y%m%d %H%M%S\"),  \"\\t\",     #la fecha y hora\n",
    "                    gsub( \", \", \"\\t\", toString( reg ) ),  \"\\n\" )\n",
    "\n",
    "  cat( linea, file=archivo, append=TRUE )  #grabo al archivo\n",
    "\n",
    "  if( verbose )  cat( linea )   #imprimo por pantalla\n",
    "}"
   ]
  },
  {
   "cell_type": "code",
   "execution_count": 4,
   "metadata": {
    "vscode": {
     "languageId": "r"
    }
   },
   "outputs": [],
   "source": [
    "#particionar agrega una columna llamada fold a un dataset que consiste en una particion estratificada segun agrupa\n",
    "# particionar( data=dataset, division=c(70,30), agrupa=clase_ternaria, seed=semilla)   crea una particion 70, 30 \n",
    "# particionar( data=dataset, division=c(1,1,1,1,1), agrupa=clase_ternaria, seed=semilla)   divide el dataset en 5 particiones\n",
    "\n",
    "particionar  <- function( data, division, agrupa=\"\", campo=\"fold\", start=1, seed=NA )\n",
    "{\n",
    "  if( !is.na( seed)  )   set.seed( seed )\n",
    "\n",
    "  bloque  <- unlist( mapply(  function(x,y) { rep( y, x ) }, division, seq( from=start, length.out=length(division) )  ) )\n",
    "\n",
    "  data[ , (campo) :=  sample( rep( bloque, ceiling(.N/length(bloque))) )[1:.N],\n",
    "           by= agrupa ]\n",
    "}"
   ]
  },
  {
   "cell_type": "code",
   "execution_count": 5,
   "metadata": {
    "vscode": {
     "languageId": "r"
    }
   },
   "outputs": [],
   "source": [
    "#fold_test  tiene el numero de fold que voy a usar para testear, entreno en el resto de los folds\n",
    "#param tiene los hiperparametros del arbol\n",
    "\n",
    "ArbolSimple  <- function( fold_test, data, param )\n",
    "{\n",
    "  #genero el modelo\n",
    "  modelo  <- rpart(\"clase_ternaria ~ .\", \n",
    "                   data= data[ fold != fold_test, ],  #entreno en todo MENOS el fold_test que uso para testing\n",
    "                   xval= 0,\n",
    "                   control= param )\n",
    "\n",
    "  #aplico el modelo a los datos de testing\n",
    "  prediccion  <- predict( modelo, \n",
    "                          data[ fold==fold_test, ],  #aplico el modelo sobre los datos de testing\n",
    "                          type= \"prob\")   #quiero que me devuelva probabilidades\n",
    "\n",
    "  prob_baja2  <- prediccion[, \"BAJA+2\"]  #esta es la probabilidad de baja\n",
    "\n",
    "  #calculo la ganancia\n",
    "  ganancia_testing  <- data[ fold==fold_test ][ prob_baja2 > 1/40,  \n",
    "                                                sum( ifelse( clase_ternaria==\"BAJA+2\", 117000, -3000 ) )] \n",
    "\n",
    "  return( ganancia_testing )  #esta es la ganancia sobre el fold de testing, NO esta normalizada\n",
    "}"
   ]
  },
  {
   "cell_type": "code",
   "execution_count": 6,
   "metadata": {
    "vscode": {
     "languageId": "r"
    }
   },
   "outputs": [],
   "source": [
    "ArbolesCrossValidation  <- function( data, param, qfolds, pagrupa, semilla )\n",
    "{\n",
    "  divi  <- rep( 1, qfolds )  # generalmente  c(1, 1, 1, 1, 1 )  cinco unos\n",
    "\n",
    "  particionar( data, divi, seed=semilla, agrupa=pagrupa )  #particiono en dataset en folds\n",
    "\n",
    "  ganancias  <- mcmapply( ArbolSimple, \n",
    "                          seq(qfolds), # 1 2 3 4 5\n",
    "                          MoreArgs= list( data, param), \n",
    "                          SIMPLIFY= FALSE,\n",
    "                          mc.cores= 1 )   #se puede subir a qfolds si posee Linux o Mac OS\n",
    "\n",
    "  data[ , fold := NULL ]\n",
    "\n",
    "  #devuelvo la primer ganancia y el promedio\n",
    "  ganancia_promedio  <- mean( unlist( ganancias ) )   #promedio las ganancias\n",
    "  ganancia_promedio_normalizada  <- ganancia_promedio * qfolds  #aqui normalizo la ganancia\n",
    "  \n",
    "  return( ganancia_promedio_normalizada )\n",
    "}"
   ]
  },
  {
   "cell_type": "code",
   "execution_count": 7,
   "metadata": {
    "vscode": {
     "languageId": "r"
    }
   },
   "outputs": [],
   "source": [
    "#esta funcion solo puede recibir los parametros que se estan optimizando\n",
    "#el resto de los parametros, lamentablemente se pasan como variables globales\n",
    "\n",
    "EstimarGanancia  <- function( x )\n",
    "{\n",
    "   GLOBAL_iteracion  <<-  GLOBAL_iteracion + 1\n",
    "\n",
    "   xval_folds  <- 5\n",
    "   ganancia  <- ArbolesCrossValidation( dataset,\n",
    "                                        param= x, #los hiperparametros del arbol\n",
    "                                        qfolds= xval_folds,  #la cantidad de folds\n",
    "                                        pagrupa= \"clase_ternaria\",\n",
    "                                        semilla= ksemilla_azar )\n",
    "\n",
    "   #logueo \n",
    "   xx  <- x\n",
    "   xx$xval_folds  <-  xval_folds\n",
    "   xx$ganancia  <- ganancia\n",
    "   xx$iteracion <- GLOBAL_iteracion\n",
    "   loguear( xx,  arch= archivo_log )\n",
    "\n",
    "   return( ganancia )\n",
    "}"
   ]
  },
  {
   "cell_type": "code",
   "execution_count": 8,
   "metadata": {
    "vscode": {
     "languageId": "r"
    }
   },
   "outputs": [],
   "source": [
    "#Aqui empieza el programa\n",
    "\n",
    "setwd(\".\\\\\")   #Establezco el Working Directory\n",
    "\n",
    "#cargo los datos\n",
    "dataset  <- fread(\"./datasets/dataset_pequeno.csv\")\n",
    "#trabajo solo con los datos con clase, es decir 202107\n",
    "dataset  <- dataset[ clase_ternaria!= \"\" ]"
   ]
  },
  {
   "cell_type": "code",
   "execution_count": 9,
   "metadata": {
    "vscode": {
     "languageId": "r"
    }
   },
   "outputs": [],
   "source": [
    "#creo la carpeta donde va el experimento\n",
    "# HT  representa  Hiperparameter Tuning\n",
    "dir.create( \"./exp/\",  showWarnings = FALSE ) \n",
    "dir.create( \"./exp/HT3210/\", showWarnings = FALSE )\n",
    "setwd(\"./exp/HT3210/\")   #Establezco el Working Directory DEL EXPERIMENTO\n",
    "\n",
    "archivo_log  <- \"HT321.txt\"\n",
    "archivo_BO   <- \"HT321.RDATA\""
   ]
  },
  {
   "cell_type": "code",
   "execution_count": 10,
   "metadata": {
    "vscode": {
     "languageId": "r"
    }
   },
   "outputs": [],
   "source": [
    "#leo si ya existe el log, para retomar en caso que se se corte el programa\n",
    "GLOBAL_iteracion  <- 0\n",
    "\n",
    "if( file.exists(archivo_log) )\n",
    "{\n",
    " tabla_log  <- fread( archivo_log )\n",
    " GLOBAL_iteracion  <- nrow( tabla_log )\n",
    "}"
   ]
  },
  {
   "cell_type": "code",
   "execution_count": 11,
   "metadata": {
    "vscode": {
     "languageId": "r"
    }
   },
   "outputs": [],
   "source": [
    "#Aqui comienza la configuracion de la Bayesian Optimization\n",
    "\n",
    "funcion_optimizar  <- EstimarGanancia\n",
    "\n",
    "configureMlr( show.learner.output= FALSE)\n",
    "\n"
   ]
  },
  {
   "cell_type": "code",
   "execution_count": 12,
   "metadata": {
    "vscode": {
     "languageId": "r"
    }
   },
   "outputs": [],
   "source": [
    "#configuro la busqueda bayesiana,  los hiperparametros que se van a optimizar\n",
    "#por favor, no desesperarse por lo complejo\n",
    "obj.fun  <- makeSingleObjectiveFunction(\n",
    "              fn=       funcion_optimizar,\n",
    "              minimize= FALSE,   #estoy Maximizando la ganancia\n",
    "              noisy=    TRUE,\n",
    "              par.set=  hs,\n",
    "              has.simple.signature = FALSE\n",
    "             )\n",
    "\n",
    "ctrl  <- makeMBOControl( save.on.disk.at.time= 600,  save.file.path= archivo_BO)\n",
    "ctrl  <- setMBOControlTermination(ctrl, iters= kBO_iter )\n",
    "ctrl  <- setMBOControlInfill(ctrl, crit= makeMBOInfillCritEI())\n",
    "\n",
    "surr.km  <- makeLearner(\"regr.km\", predict.type= \"se\", covtype= \"matern3_2\", control= list(trace= TRUE))\n",
    "\n"
   ]
  },
  {
   "cell_type": "code",
   "execution_count": 13,
   "metadata": {
    "vscode": {
     "languageId": "r"
    }
   },
   "outputs": [
    {
     "name": "stderr",
     "output_type": "stream",
     "text": [
      "Computing y column(s) for design. Not provided.\n",
      "\n"
     ]
    },
    {
     "name": "stdout",
     "output_type": "stream",
     "text": [
      "20230413 032846\t-0.769594018842326\t4039\t889\t14\t5\t52770000\t1\n",
      "20230413 032919\t-0.110603534347319\t3053\t65\t8\t5\t51924000\t2\n",
      "20230413 032950\t-0.0282520969645701\t7282\t3244\t11\t5\t49659000\t3\n",
      "20230413 033012\t-0.447911744035082\t7872\t3575\t5\t5\t49452000\t4\n",
      "20230413 033050\t-0.219489627087023\t4808\t2119\t20\t5\t53094000\t5\n",
      "20230413 033110\t-0.855873545749637\t3613\t1101\t3\t5\t50340000\t6\n",
      "20230413 033153\t-0.908433662202151\t5959\t733\t17\t5\t50640000\t7\n",
      "20230413 033239\t-0.584481969926856\t1559\t331\t13\t5\t50466000\t8\n",
      "20230413 033302\t-0.062879240750044\t6968\t1377\t5\t5\t50328000\t9\n",
      "20230413 033356\t-0.39795836668262\t814\t72\t15\t5\t50505000\t10\n",
      "20230413 033435\t-0.973762301259142\t3801\t573\t12\t5\t52137000\t11\n",
      "20230413 033451\t-0.645764183163244\t7560\t1149\t3\t5\t50340000\t12\n",
      "20230413 033509\t0.0816108253119248\t5992\t2606\t8\t5\t0\t13\n",
      "20230413 033544\t-0.952528139863474\t5585\t2598\t11\t5\t51165000\t14\n",
      "20230413 033608\t-0.0411513211904093\t2054\t10\t5\t5\t53163000\t15\n",
      "20230413 033653\t-0.625215984112583\t6462\t341\t18\t5\t49995000\t16\n"
     ]
    },
    {
     "name": "stderr",
     "output_type": "stream",
     "text": [
      "[mbo] 0: cp=-0.77; minsplit=4039; minbucket=889; maxdepth=14 : y = 5.28e+07 : 42.2 secs : initdesign\n",
      "\n",
      "[mbo] 0: cp=-0.111; minsplit=3053; minbucket=65; maxdepth=8 : y = 5.19e+07 : 32.6 secs : initdesign\n",
      "\n",
      "[mbo] 0: cp=-0.0283; minsplit=7282; minbucket=3244; maxdepth=11 : y = 4.97e+07 : 31.1 secs : initdesign\n",
      "\n",
      "[mbo] 0: cp=-0.448; minsplit=7872; minbucket=3575; maxdepth=5 : y = 4.95e+07 : 22.4 secs : initdesign\n",
      "\n",
      "[mbo] 0: cp=-0.219; minsplit=4808; minbucket=2119; maxdepth=20 : y = 5.31e+07 : 37.9 secs : initdesign\n",
      "\n",
      "[mbo] 0: cp=-0.856; minsplit=3613; minbucket=1101; maxdepth=3 : y = 5.03e+07 : 20.0 secs : initdesign\n",
      "\n",
      "[mbo] 0: cp=-0.908; minsplit=5959; minbucket=733; maxdepth=17 : y = 5.06e+07 : 42.8 secs : initdesign\n",
      "\n",
      "[mbo] 0: cp=-0.584; minsplit=1559; minbucket=331; maxdepth=13 : y = 5.05e+07 : 45.9 secs : initdesign\n",
      "\n",
      "[mbo] 0: cp=-0.0629; minsplit=6968; minbucket=1377; maxdepth=5 : y = 5.03e+07 : 23.0 secs : initdesign\n",
      "\n",
      "[mbo] 0: cp=-0.398; minsplit=814; minbucket=72; maxdepth=15 : y = 5.05e+07 : 53.7 secs : initdesign\n",
      "\n",
      "[mbo] 0: cp=-0.974; minsplit=3801; minbucket=573; maxdepth=12 : y = 5.21e+07 : 38.9 secs : initdesign\n",
      "\n",
      "[mbo] 0: cp=-0.646; minsplit=7560; minbucket=1149; maxdepth=3 : y = 5.03e+07 : 16.0 secs : initdesign\n",
      "\n",
      "[mbo] 0: cp=0.0816; minsplit=5992; minbucket=2606; maxdepth=8 : y = 0 : 18.6 secs : initdesign\n",
      "\n",
      "[mbo] 0: cp=-0.953; minsplit=5585; minbucket=2598; maxdepth=11 : y = 5.12e+07 : 34.7 secs : initdesign\n",
      "\n",
      "[mbo] 0: cp=-0.0412; minsplit=2054; minbucket=10; maxdepth=5 : y = 5.32e+07 : 23.9 secs : initdesign\n",
      "\n",
      "[mbo] 0: cp=-0.625; minsplit=6462; minbucket=341; maxdepth=18 : y = 5e+07 : 44.8 secs : initdesign\n",
      "\n"
     ]
    },
    {
     "name": "stdout",
     "output_type": "stream",
     "text": [
      "20230413 033729\t-0.751181858466254\t4472\t2069\t20\t5\t52833000\t17\n"
     ]
    },
    {
     "name": "stderr",
     "output_type": "stream",
     "text": [
      "[mbo] 1: cp=-0.751; minsplit=4472; minbucket=2069; maxdepth=20 : y = 5.28e+07 : 34.8 secs : infill_ei\n",
      "\n"
     ]
    },
    {
     "name": "stdout",
     "output_type": "stream",
     "text": [
      "20230413 033758\t-0.149693194254149\t7622\t3801\t20\t5\t49452000\t18\n"
     ]
    },
    {
     "name": "stderr",
     "output_type": "stream",
     "text": [
      "[mbo] 2: cp=-0.15; minsplit=7622; minbucket=3801; maxdepth=20 : y = 4.95e+07 : 26.8 secs : infill_ei\n",
      "\n"
     ]
    },
    {
     "name": "stdout",
     "output_type": "stream",
     "text": [
      "20230413 033908\t-0.0652184529854512\t25\t11\t20\t5\t30042000\t19\n"
     ]
    },
    {
     "name": "stderr",
     "output_type": "stream",
     "text": [
      "[mbo] 3: cp=-0.0652; minsplit=25; minbucket=11; maxdepth=20 : y = 3e+07 : 68.0 secs : infill_ei\n",
      "\n",
      "Saved the current state after iteration 4 in the file HT321.RDATA.\n",
      "\n"
     ]
    },
    {
     "name": "stdout",
     "output_type": "stream",
     "text": [
      "20230413 033930\t-0.180142589092251\t4053\t963\t4\t5\t50328000\t20\n"
     ]
    },
    {
     "name": "stderr",
     "output_type": "stream",
     "text": [
      "[mbo] 4: cp=-0.18; minsplit=4053; minbucket=963; maxdepth=4 : y = 5.03e+07 : 20.1 secs : infill_ei\n",
      "\n"
     ]
    },
    {
     "name": "stdout",
     "output_type": "stream",
     "text": [
      "20230413 034005\t-0.698435473228725\t2435\t1074\t11\t5\t53046000\t21\n"
     ]
    },
    {
     "name": "stderr",
     "output_type": "stream",
     "text": [
      "[mbo] 5: cp=-0.698; minsplit=2435; minbucket=1074; maxdepth=11 : y = 5.3e+07 : 33.9 secs : infill_ei\n",
      "\n"
     ]
    },
    {
     "name": "stdout",
     "output_type": "stream",
     "text": [
      "20230413 034041\t-0.295199592613377\t5057\t2375\t15\t5\t51444000\t22\n"
     ]
    },
    {
     "name": "stderr",
     "output_type": "stream",
     "text": [
      "[mbo] 6: cp=-0.295; minsplit=5057; minbucket=2375; maxdepth=15 : y = 5.14e+07 : 33.8 secs : infill_ei\n",
      "\n"
     ]
    },
    {
     "name": "stdout",
     "output_type": "stream",
     "text": [
      "20230413 034056\t-0.733612702212142\t5584\t2771\t3\t5\t50340000\t23\n"
     ]
    },
    {
     "name": "stderr",
     "output_type": "stream",
     "text": [
      "[mbo] 7: cp=-0.734; minsplit=5584; minbucket=2771; maxdepth=3 : y = 5.03e+07 : 14.2 secs : infill_ei\n",
      "\n"
     ]
    },
    {
     "name": "stdout",
     "output_type": "stream",
     "text": [
      "20230413 034138\t-0.244058450018852\t8000\t12\t16\t5\t49815000\t24\n"
     ]
    },
    {
     "name": "stderr",
     "output_type": "stream",
     "text": [
      "[mbo] 8: cp=-0.244; minsplit=8000; minbucket=12; maxdepth=16 : y = 4.98e+07 : 40.2 secs : infill_ei\n",
      "\n"
     ]
    },
    {
     "name": "stdout",
     "output_type": "stream",
     "text": [
      "20230413 034249\t-0.737949275722496\t26\t1\t20\t5\t35196000\t25\n"
     ]
    },
    {
     "name": "stderr",
     "output_type": "stream",
     "text": [
      "[mbo] 9: cp=-0.738; minsplit=26; minbucket=1; maxdepth=20 : y = 3.52e+07 : 69.8 secs : infill_ei\n",
      "\n"
     ]
    },
    {
     "name": "stdout",
     "output_type": "stream",
     "text": [
      "20230413 034324\t-0.655192364025567\t3673\t1420\t12\t5\t52920000\t26\n"
     ]
    },
    {
     "name": "stderr",
     "output_type": "stream",
     "text": [
      "[mbo] 10: cp=-0.655; minsplit=3673; minbucket=1420; maxdepth=12 : y = 5.29e+07 : 33.5 secs : infill_ei\n",
      "\n"
     ]
    },
    {
     "name": "stdout",
     "output_type": "stream",
     "text": [
      "20230413 034356\t-0.360460406209095\t339\t1\t8\t5\t51996000\t27\n"
     ]
    },
    {
     "name": "stderr",
     "output_type": "stream",
     "text": [
      "[mbo] 11: cp=-0.36; minsplit=339; minbucket=1; maxdepth=8 : y = 5.2e+07 : 29.8 secs : infill_ei\n",
      "\n"
     ]
    },
    {
     "name": "stdout",
     "output_type": "stream",
     "text": [
      "20230413 034422\t-0.973200731802106\t2253\t1\t7\t5\t51609000\t28\n"
     ]
    },
    {
     "name": "stderr",
     "output_type": "stream",
     "text": [
      "[mbo] 12: cp=-0.973; minsplit=2253; minbucket=1; maxdepth=7 : y = 5.16e+07 : 25.2 secs : infill_ei\n",
      "\n"
     ]
    },
    {
     "name": "stdout",
     "output_type": "stream",
     "text": [
      "20230413 034451\t-0.852758472114521\t7381\t3178\t13\t5\t49710000\t29\n"
     ]
    },
    {
     "name": "stderr",
     "output_type": "stream",
     "text": [
      "[mbo] 13: cp=-0.853; minsplit=7381; minbucket=3178; maxdepth=13 : y = 4.97e+07 : 27.2 secs : infill_ei\n",
      "\n"
     ]
    },
    {
     "name": "stdout",
     "output_type": "stream",
     "text": [
      "20230413 034525\t-0.129932696077489\t2560\t1\t10\t5\t51771000\t30\n"
     ]
    },
    {
     "name": "stderr",
     "output_type": "stream",
     "text": [
      "[mbo] 14: cp=-0.13; minsplit=2560; minbucket=1; maxdepth=10 : y = 5.18e+07 : 32.5 secs : infill_ei\n",
      "\n"
     ]
    },
    {
     "name": "stdout",
     "output_type": "stream",
     "text": [
      "20230413 034554\t-0.0841765262659919\t8000\t1761\t10\t5\t50328000\t31\n"
     ]
    },
    {
     "name": "stderr",
     "output_type": "stream",
     "text": [
      "[mbo] 15: cp=-0.0842; minsplit=8000; minbucket=1761; maxdepth=10 : y = 5.03e+07 : 28.1 secs : infill_ei\n",
      "\n"
     ]
    },
    {
     "name": "stdout",
     "output_type": "stream",
     "text": [
      "20230413 034628\t-0.699319426457196\t5164\t1205\t12\t5\t51288000\t32\n"
     ]
    },
    {
     "name": "stderr",
     "output_type": "stream",
     "text": [
      "[mbo] 16: cp=-0.699; minsplit=5164; minbucket=1205; maxdepth=12 : y = 5.13e+07 : 32.6 secs : infill_ei\n",
      "\n"
     ]
    },
    {
     "name": "stdout",
     "output_type": "stream",
     "text": [
      "20230413 034705\t-0.256788969088694\t2226\t2\t11\t5\t54162000\t33\n"
     ]
    },
    {
     "name": "stderr",
     "output_type": "stream",
     "text": [
      "[mbo] 17: cp=-0.257; minsplit=2226; minbucket=2; maxdepth=11 : y = 5.42e+07 : 35.9 secs : infill_ei\n",
      "\n"
     ]
    },
    {
     "name": "stdout",
     "output_type": "stream",
     "text": [
      "20230413 034721\t-0.506774093754512\t3013\t1487\t3\t5\t50340000\t34\n"
     ]
    },
    {
     "name": "stderr",
     "output_type": "stream",
     "text": [
      "[mbo] 18: cp=-0.507; minsplit=3013; minbucket=1487; maxdepth=3 : y = 5.03e+07 : 14.1 secs : infill_ei\n",
      "\n"
     ]
    },
    {
     "name": "stdout",
     "output_type": "stream",
     "text": [
      "20230413 034753\t-0.996985738125184\t8000\t956\t11\t5\t50328000\t35\n"
     ]
    },
    {
     "name": "stderr",
     "output_type": "stream",
     "text": [
      "[mbo] 19: cp=-0.997; minsplit=8000; minbucket=956; maxdepth=11 : y = 5.03e+07 : 30.1 secs : infill_ei\n",
      "\n"
     ]
    },
    {
     "name": "stdout",
     "output_type": "stream",
     "text": [
      "20230413 034826\t-0.551351699265995\t5340\t2663\t19\t5\t51147000\t36\n"
     ]
    },
    {
     "name": "stderr",
     "output_type": "stream",
     "text": [
      "[mbo] 20: cp=-0.551; minsplit=5340; minbucket=2663; maxdepth=19 : y = 5.11e+07 : 30.7 secs : infill_ei\n",
      "\n"
     ]
    },
    {
     "name": "stdout",
     "output_type": "stream",
     "text": [
      "20230413 034844\t0.0977386396036028\t3706\t1\t11\t5\t0\t37\n"
     ]
    },
    {
     "name": "stderr",
     "output_type": "stream",
     "text": [
      "[mbo] 21: cp=0.0977; minsplit=3706; minbucket=1; maxdepth=11 : y = 0 : 16.8 secs : infill_ei\n",
      "\n"
     ]
    },
    {
     "name": "stdout",
     "output_type": "stream",
     "text": [
      "20230413 034914\t-0.37005078681209\t4488\t3\t9\t5\t51408000\t38\n"
     ]
    },
    {
     "name": "stderr",
     "output_type": "stream",
     "text": [
      "[mbo] 22: cp=-0.37; minsplit=4488; minbucket=3; maxdepth=9 : y = 5.14e+07 : 29.2 secs : infill_ei\n",
      "\n",
      "Saved the current state after iteration 23 in the file HT321.RDATA.\n",
      "\n"
     ]
    },
    {
     "name": "stdout",
     "output_type": "stream",
     "text": [
      "20230413 034930\t-0.0667355405820429\t2510\t1255\t3\t5\t50340000\t39\n"
     ]
    },
    {
     "name": "stderr",
     "output_type": "stream",
     "text": [
      "[mbo] 23: cp=-0.0667; minsplit=2510; minbucket=1255; maxdepth=3 : y = 5.03e+07 : 13.6 secs : infill_ei\n",
      "\n"
     ]
    },
    {
     "name": "stdout",
     "output_type": "stream",
     "text": [
      "20230413 034955\t-0.533720194508522\t7998\t9\t8\t5\t50199000\t40\n"
     ]
    },
    {
     "name": "stderr",
     "output_type": "stream",
     "text": [
      "[mbo] 24: cp=-0.534; minsplit=7998; minbucket=9; maxdepth=8 : y = 5.02e+07 : 24.4 secs : infill_ei\n",
      "\n"
     ]
    },
    {
     "name": "stdout",
     "output_type": "stream",
     "text": [
      "20230413 035054\t-0.318517146596286\t2607\t1\t20\t5\t51567000\t41\n"
     ]
    },
    {
     "name": "stderr",
     "output_type": "stream",
     "text": [
      "[mbo] 25: cp=-0.319; minsplit=2607; minbucket=1; maxdepth=20 : y = 5.16e+07 : 57.3 secs : infill_ei\n",
      "\n"
     ]
    },
    {
     "name": "stdout",
     "output_type": "stream",
     "text": [
      "20230413 035109\t-0.615673564081927\t2786\t1388\t3\t5\t50340000\t42\n"
     ]
    },
    {
     "name": "stderr",
     "output_type": "stream",
     "text": [
      "[mbo] 26: cp=-0.616; minsplit=2786; minbucket=1388; maxdepth=3 : y = 5.03e+07 : 13.4 secs : infill_ei\n",
      "\n"
     ]
    },
    {
     "name": "stdout",
     "output_type": "stream",
     "text": [
      "20230413 035142\t-0.797750417450651\t4211\t2098\t12\t5\t53139000\t43\n"
     ]
    },
    {
     "name": "stderr",
     "output_type": "stream",
     "text": [
      "[mbo] 27: cp=-0.798; minsplit=4211; minbucket=2098; maxdepth=12 : y = 5.31e+07 : 31.1 secs : infill_ei\n",
      "\n"
     ]
    },
    {
     "name": "stdout",
     "output_type": "stream",
     "text": [
      "20230413 035210\t-0.655032651041443\t8000\t3994\t20\t5\t49452000\t44\n"
     ]
    },
    {
     "name": "stderr",
     "output_type": "stream",
     "text": [
      "[mbo] 28: cp=-0.655; minsplit=8000; minbucket=3994; maxdepth=20 : y = 4.95e+07 : 26.3 secs : infill_ei\n",
      "\n"
     ]
    },
    {
     "name": "stdout",
     "output_type": "stream",
     "text": [
      "20230413 035225\t-0.221465311417202\t1932\t1\t3\t5\t49077000\t45\n"
     ]
    },
    {
     "name": "stderr",
     "output_type": "stream",
     "text": [
      "[mbo] 29: cp=-0.221; minsplit=1932; minbucket=1; maxdepth=3 : y = 4.91e+07 : 14.1 secs : infill_ei\n",
      "\n"
     ]
    },
    {
     "name": "stdout",
     "output_type": "stream",
     "text": [
      "20230413 035307\t-0.253068566021803\t4087\t5\t14\t5\t50757000\t46\n"
     ]
    },
    {
     "name": "stderr",
     "output_type": "stream",
     "text": [
      "[mbo] 30: cp=-0.253; minsplit=4087; minbucket=5; maxdepth=14 : y = 5.08e+07 : 40.3 secs : infill_ei\n",
      "\n"
     ]
    },
    {
     "name": "stdout",
     "output_type": "stream",
     "text": [
      "20230413 035342\t-0.281696295900332\t2081\t1040\t11\t5\t52764000\t47\n"
     ]
    },
    {
     "name": "stderr",
     "output_type": "stream",
     "text": [
      "[mbo] 31: cp=-0.282; minsplit=2081; minbucket=1040; maxdepth=11 : y = 5.28e+07 : 33.4 secs : infill_ei\n",
      "\n"
     ]
    },
    {
     "name": "stdout",
     "output_type": "stream",
     "text": [
      "20230413 035410\t-0.220810083596192\t7122\t3560\t11\t5\t49452000\t48\n"
     ]
    },
    {
     "name": "stderr",
     "output_type": "stream",
     "text": [
      "[mbo] 32: cp=-0.221; minsplit=7122; minbucket=3560; maxdepth=11 : y = 4.95e+07 : 26.3 secs : infill_ei\n",
      "\n"
     ]
    },
    {
     "name": "stdout",
     "output_type": "stream",
     "text": [
      "20230413 035442\t-0.366844428835608\t7999\t2362\t20\t5\t50673000\t49\n"
     ]
    },
    {
     "name": "stderr",
     "output_type": "stream",
     "text": [
      "[mbo] 33: cp=-0.367; minsplit=7999; minbucket=2362; maxdepth=20 : y = 5.07e+07 : 30.0 secs : infill_ei\n",
      "\n"
     ]
    },
    {
     "name": "stdout",
     "output_type": "stream",
     "text": [
      "20230413 035518\t-0.777803501828707\t7997\t1682\t20\t5\t50328000\t50\n"
     ]
    },
    {
     "name": "stderr",
     "output_type": "stream",
     "text": [
      "[mbo] 34: cp=-0.778; minsplit=7997; minbucket=1682; maxdepth=20 : y = 5.03e+07 : 35.2 secs : infill_ei\n",
      "\n"
     ]
    },
    {
     "name": "stdout",
     "output_type": "stream",
     "text": [
      "20230413 035557\t-0.465139904708354\t5964\t806\t20\t5\t50640000\t51\n"
     ]
    },
    {
     "name": "stderr",
     "output_type": "stream",
     "text": [
      "[mbo] 35: cp=-0.465; minsplit=5964; minbucket=806; maxdepth=20 : y = 5.06e+07 : 37.4 secs : infill_ei\n",
      "\n"
     ]
    },
    {
     "name": "stdout",
     "output_type": "stream",
     "text": [
      "20230413 035613\t-0.95905898290527\t6088\t1\t3\t5\t50340000\t52\n"
     ]
    },
    {
     "name": "stderr",
     "output_type": "stream",
     "text": [
      "[mbo] 36: cp=-0.959; minsplit=6088; minbucket=1; maxdepth=3 : y = 5.03e+07 : 14.7 secs : infill_ei\n",
      "\n"
     ]
    },
    {
     "name": "stdout",
     "output_type": "stream",
     "text": [
      "20230413 035655\t-0.252449323182762\t2036\t1012\t20\t5\t51114000\t53\n"
     ]
    },
    {
     "name": "stderr",
     "output_type": "stream",
     "text": [
      "[mbo] 37: cp=-0.252; minsplit=2036; minbucket=1012; maxdepth=20 : y = 5.11e+07 : 39.6 secs : infill_ei\n",
      "\n"
     ]
    },
    {
     "name": "stdout",
     "output_type": "stream",
     "text": [
      "20230413 035726\t-0.75059162951434\t3468\t1734\t9\t5\t52938000\t54\n"
     ]
    },
    {
     "name": "stderr",
     "output_type": "stream",
     "text": [
      "[mbo] 38: cp=-0.751; minsplit=3468; minbucket=1734; maxdepth=9 : y = 5.29e+07 : 29.3 secs : infill_ei\n",
      "\n"
     ]
    },
    {
     "name": "stdout",
     "output_type": "stream",
     "text": [
      "20230413 035743\t-0.99998648651913\t3374\t1687\t3\t5\t50340000\t55\n"
     ]
    },
    {
     "name": "stderr",
     "output_type": "stream",
     "text": [
      "[mbo] 39: cp=-1; minsplit=3374; minbucket=1687; maxdepth=3 : y = 5.03e+07 : 14.9 secs : infill_ei\n",
      "\n"
     ]
    },
    {
     "name": "stdout",
     "output_type": "stream",
     "text": [
      "20230413 035819\t-0.344159864536959\t2202\t5\t10\t5\t54771000\t56\n"
     ]
    },
    {
     "name": "stderr",
     "output_type": "stream",
     "text": [
      "[mbo] 40: cp=-0.344; minsplit=2202; minbucket=5; maxdepth=10 : y = 5.48e+07 : 34.6 secs : infill_ei\n",
      "\n"
     ]
    },
    {
     "name": "stdout",
     "output_type": "stream",
     "text": [
      "20230413 035853\t-0.446718587501901\t2384\t3\t9\t5\t53982000\t57\n"
     ]
    },
    {
     "name": "stderr",
     "output_type": "stream",
     "text": [
      "[mbo] 41: cp=-0.447; minsplit=2384; minbucket=3; maxdepth=9 : y = 5.4e+07 : 31.9 secs : infill_ei\n",
      "\n"
     ]
    },
    {
     "name": "stdout",
     "output_type": "stream",
     "text": [
      "20230413 035926\t-0.411627844530208\t2920\t1460\t10\t5\t52938000\t58\n"
     ]
    },
    {
     "name": "stderr",
     "output_type": "stream",
     "text": [
      "[mbo] 42: cp=-0.412; minsplit=2920; minbucket=1460; maxdepth=10 : y = 5.29e+07 : 31.2 secs : infill_ei\n",
      "\n",
      "Saved the current state after iteration 43 in the file HT321.RDATA.\n",
      "\n"
     ]
    },
    {
     "name": "stdout",
     "output_type": "stream",
     "text": [
      "20230413 035954\t-0.380195957779363\t2271\t5\t8\t5\t54495000\t59\n"
     ]
    },
    {
     "name": "stderr",
     "output_type": "stream",
     "text": [
      "[mbo] 43: cp=-0.38; minsplit=2271; minbucket=5; maxdepth=8 : y = 5.45e+07 : 26.6 secs : infill_ei\n",
      "\n"
     ]
    },
    {
     "name": "stdout",
     "output_type": "stream",
     "text": [
      "20230413 040009\t-0.0541515208243149\t7997\t3998\t3\t5\t50340000\t60\n"
     ]
    },
    {
     "name": "stderr",
     "output_type": "stream",
     "text": [
      "[mbo] 44: cp=-0.0542; minsplit=7997; minbucket=3998; maxdepth=3 : y = 5.03e+07 : 13.5 secs : infill_ei\n",
      "\n"
     ]
    },
    {
     "name": "stdout",
     "output_type": "stream",
     "text": [
      "20230413 040040\t-0.166197683576307\t5313\t2652\t12\t5\t51159000\t61\n"
     ]
    },
    {
     "name": "stderr",
     "output_type": "stream",
     "text": [
      "[mbo] 45: cp=-0.166; minsplit=5313; minbucket=2652; maxdepth=12 : y = 5.12e+07 : 28.6 secs : infill_ei\n",
      "\n"
     ]
    },
    {
     "name": "stdout",
     "output_type": "stream",
     "text": [
      "20230413 040107\t-0.9995906112746\t7629\t3811\t20\t5\t49452000\t62\n"
     ]
    },
    {
     "name": "stderr",
     "output_type": "stream",
     "text": [
      "[mbo] 46: cp=-1; minsplit=7629; minbucket=3811; maxdepth=20 : y = 4.95e+07 : 25.5 secs : infill_ei\n",
      "\n"
     ]
    },
    {
     "name": "stdout",
     "output_type": "stream",
     "text": [
      "20230413 040202\t-0.524275334524812\t2877\t2\t20\t5\t51069000\t63\n"
     ]
    },
    {
     "name": "stderr",
     "output_type": "stream",
     "text": [
      "[mbo] 47: cp=-0.524; minsplit=2877; minbucket=2; maxdepth=20 : y = 5.11e+07 : 53.9 secs : infill_ei\n",
      "\n"
     ]
    },
    {
     "name": "stdout",
     "output_type": "stream",
     "text": [
      "20230413 040238\t-0.93403266391272\t2872\t1434\t20\t5\t52434000\t64\n"
     ]
    },
    {
     "name": "stderr",
     "output_type": "stream",
     "text": [
      "[mbo] 48: cp=-0.934; minsplit=2872; minbucket=1434; maxdepth=20 : y = 5.24e+07 : 33.8 secs : infill_ei\n",
      "\n"
     ]
    },
    {
     "name": "stdout",
     "output_type": "stream",
     "text": [
      "20230413 040307\t-0.248568152157388\t7810\t2387\t20\t5\t50673000\t65\n"
     ]
    },
    {
     "name": "stderr",
     "output_type": "stream",
     "text": [
      "[mbo] 49: cp=-0.249; minsplit=7810; minbucket=2387; maxdepth=20 : y = 5.07e+07 : 27.4 secs : infill_ei\n",
      "\n"
     ]
    },
    {
     "name": "stdout",
     "output_type": "stream",
     "text": [
      "20230413 040325\t-0.0567244757066158\t7967\t8\t5\t5\t49992000\t66\n"
     ]
    },
    {
     "name": "stderr",
     "output_type": "stream",
     "text": [
      "[mbo] 50: cp=-0.0567; minsplit=7967; minbucket=8; maxdepth=5 : y = 5e+07 : 17.5 secs : infill_ei\n",
      "\n"
     ]
    },
    {
     "name": "stdout",
     "output_type": "stream",
     "text": [
      "20230413 040355\t-0.19262305447362\t2385\t325\t9\t5\t51426000\t67\n"
     ]
    },
    {
     "name": "stderr",
     "output_type": "stream",
     "text": [
      "[mbo] 51: cp=-0.193; minsplit=2385; minbucket=325; maxdepth=9 : y = 5.14e+07 : 28.6 secs : infill_ei\n",
      "\n"
     ]
    },
    {
     "name": "stdout",
     "output_type": "stream",
     "text": [
      "20230413 040424\t-0.783296679590146\t6162\t3078\t20\t5\t50283000\t68\n"
     ]
    },
    {
     "name": "stderr",
     "output_type": "stream",
     "text": [
      "[mbo] 52: cp=-0.783; minsplit=6162; minbucket=3078; maxdepth=20 : y = 5.03e+07 : 26.9 secs : infill_ei\n",
      "\n"
     ]
    },
    {
     "name": "stdout",
     "output_type": "stream",
     "text": [
      "20230413 040456\t-0.469173962747672\t3772\t1886\t20\t5\t52938000\t69\n"
     ]
    },
    {
     "name": "stderr",
     "output_type": "stream",
     "text": [
      "[mbo] 53: cp=-0.469; minsplit=3772; minbucket=1886; maxdepth=20 : y = 5.29e+07 : 30.9 secs : infill_ei\n",
      "\n"
     ]
    },
    {
     "name": "stdout",
     "output_type": "stream",
     "text": [
      "20230413 040529\t-0.999693205998323\t4294\t2136\t20\t5\t53166000\t70\n"
     ]
    },
    {
     "name": "stderr",
     "output_type": "stream",
     "text": [
      "[mbo] 54: cp=-1; minsplit=4294; minbucket=2136; maxdepth=20 : y = 5.32e+07 : 30.4 secs : infill_ei\n",
      "\n"
     ]
    },
    {
     "name": "stdout",
     "output_type": "stream",
     "text": [
      "20230413 040602\t-0.503180770017025\t2389\t769\t11\t5\t51816000\t71\n"
     ]
    },
    {
     "name": "stderr",
     "output_type": "stream",
     "text": [
      "[mbo] 55: cp=-0.503; minsplit=2389; minbucket=769; maxdepth=11 : y = 5.18e+07 : 31.6 secs : infill_ei\n",
      "\n"
     ]
    },
    {
     "name": "stdout",
     "output_type": "stream",
     "text": [
      "20230413 040635\t-0.306718182573395\t2238\t1\t9\t5\t51981000\t72\n"
     ]
    },
    {
     "name": "stderr",
     "output_type": "stream",
     "text": [
      "[mbo] 56: cp=-0.307; minsplit=2238; minbucket=1; maxdepth=9 : y = 5.2e+07 : 31.3 secs : infill_ei\n",
      "\n"
     ]
    },
    {
     "name": "stdout",
     "output_type": "stream",
     "text": [
      "20230413 040711\t-0.352349976020169\t3939\t1966\t20\t5\t52947000\t73\n"
     ]
    },
    {
     "name": "stderr",
     "output_type": "stream",
     "text": [
      "[mbo] 57: cp=-0.352; minsplit=3939; minbucket=1966; maxdepth=20 : y = 5.29e+07 : 34.5 secs : infill_ei\n",
      "\n"
     ]
    },
    {
     "name": "stdout",
     "output_type": "stream",
     "text": [
      "20230413 040751\t-0.362682038586445\t2111\t2\t11\t5\t54438000\t74\n"
     ]
    },
    {
     "name": "stderr",
     "output_type": "stream",
     "text": [
      "[mbo] 58: cp=-0.363; minsplit=2111; minbucket=2; maxdepth=11 : y = 5.44e+07 : 37.7 secs : infill_ei\n",
      "\n"
     ]
    },
    {
     "name": "stdout",
     "output_type": "stream",
     "text": [
      "20230413 040834\t-0.999980708482538\t1762\t865\t20\t5\t51252000\t75\n"
     ]
    },
    {
     "name": "stderr",
     "output_type": "stream",
     "text": [
      "[mbo] 59: cp=-1; minsplit=1762; minbucket=865; maxdepth=20 : y = 5.13e+07 : 40.4 secs : infill_ei\n",
      "\n"
     ]
    },
    {
     "name": "stdout",
     "output_type": "stream",
     "text": [
      "20230413 040850\t-0.809786799726302\t7993\t50\t3\t5\t50340000\t76\n"
     ]
    },
    {
     "name": "stderr",
     "output_type": "stream",
     "text": [
      "[mbo] 60: cp=-0.81; minsplit=7993; minbucket=50; maxdepth=3 : y = 5.03e+07 : 14.1 secs : infill_ei\n",
      "\n"
     ]
    },
    {
     "name": "stdout",
     "output_type": "stream",
     "text": [
      "20230413 040924\t-0.839759217523901\t3974\t1982\t20\t5\t52944000\t77\n"
     ]
    },
    {
     "name": "stderr",
     "output_type": "stream",
     "text": [
      "[mbo] 61: cp=-0.84; minsplit=3974; minbucket=1982; maxdepth=20 : y = 5.29e+07 : 32.2 secs : infill_ei\n",
      "\n"
     ]
    },
    {
     "name": "stdout",
     "output_type": "stream",
     "text": [
      "20230413 040952\t-0.497593115489606\t8000\t3996\t20\t5\t49452000\t78\n"
     ]
    },
    {
     "name": "stderr",
     "output_type": "stream",
     "text": [
      "[mbo] 62: cp=-0.498; minsplit=8000; minbucket=3996; maxdepth=20 : y = 4.95e+07 : 26.6 secs : infill_ei\n",
      "\n",
      "Saved the current state after iteration 63 in the file HT321.RDATA.\n",
      "\n"
     ]
    },
    {
     "name": "stdout",
     "output_type": "stream",
     "text": [
      "20230413 041029\t-0.683917670417808\t3443\t1720\t20\t5\t52938000\t79\n"
     ]
    },
    {
     "name": "stderr",
     "output_type": "stream",
     "text": [
      "[mbo] 63: cp=-0.684; minsplit=3443; minbucket=1720; maxdepth=20 : y = 5.29e+07 : 35.3 secs : infill_ei\n",
      "\n"
     ]
    },
    {
     "name": "stdout",
     "output_type": "stream",
     "text": [
      "20230413 041045\t-0.680425898384788\t3150\t5\t3\t5\t50340000\t80\n"
     ]
    },
    {
     "name": "stderr",
     "output_type": "stream",
     "text": [
      "[mbo] 64: cp=-0.68; minsplit=3150; minbucket=5; maxdepth=3 : y = 5.03e+07 : 13.9 secs : infill_ei\n",
      "\n"
     ]
    },
    {
     "name": "stdout",
     "output_type": "stream",
     "text": [
      "20230413 041100\t-0.421856397025619\t2281\t3\t3\t5\t50340000\t81\n"
     ]
    },
    {
     "name": "stderr",
     "output_type": "stream",
     "text": [
      "[mbo] 65: cp=-0.422; minsplit=2281; minbucket=3; maxdepth=3 : y = 5.03e+07 : 13.3 secs : infill_ei\n",
      "\n"
     ]
    },
    {
     "name": "stdout",
     "output_type": "stream",
     "text": [
      "20230413 041130\t-0.239529524216458\t3358\t1677\t10\t5\t52938000\t82\n"
     ]
    },
    {
     "name": "stderr",
     "output_type": "stream",
     "text": [
      "[mbo] 66: cp=-0.24; minsplit=3358; minbucket=1677; maxdepth=10 : y = 5.29e+07 : 28.5 secs : infill_ei\n",
      "\n"
     ]
    },
    {
     "name": "stdout",
     "output_type": "stream",
     "text": [
      "20230413 041203\t-0.889402888566813\t3938\t1969\t16\t5\t52947000\t83\n"
     ]
    },
    {
     "name": "stderr",
     "output_type": "stream",
     "text": [
      "[mbo] 67: cp=-0.889; minsplit=3938; minbucket=1969; maxdepth=16 : y = 5.29e+07 : 30.6 secs : infill_ei\n",
      "\n"
     ]
    },
    {
     "name": "stdout",
     "output_type": "stream",
     "text": [
      "20230413 041229\t-0.0587401990928545\t7987\t3988\t13\t5\t49452000\t84\n"
     ]
    },
    {
     "name": "stderr",
     "output_type": "stream",
     "text": [
      "[mbo] 68: cp=-0.0587; minsplit=7987; minbucket=3988; maxdepth=13 : y = 4.95e+07 : 24.8 secs : infill_ei\n",
      "\n"
     ]
    },
    {
     "name": "stdout",
     "output_type": "stream",
     "text": [
      "20230413 041248\t-0.133575139521284\t7999\t2001\t5\t5\t50337000\t85\n"
     ]
    },
    {
     "name": "stderr",
     "output_type": "stream",
     "text": [
      "[mbo] 69: cp=-0.134; minsplit=7999; minbucket=2001; maxdepth=5 : y = 5.03e+07 : 17.3 secs : infill_ei\n",
      "\n"
     ]
    },
    {
     "name": "stdout",
     "output_type": "stream",
     "text": [
      "20230413 041319\t-0.683226319846767\t4355\t2176\t15\t5\t53172000\t86\n"
     ]
    },
    {
     "name": "stderr",
     "output_type": "stream",
     "text": [
      "[mbo] 70: cp=-0.683; minsplit=4355; minbucket=2176; maxdepth=15 : y = 5.32e+07 : 29.6 secs : infill_ei\n",
      "\n"
     ]
    },
    {
     "name": "stdout",
     "output_type": "stream",
     "text": [
      "20230413 041345\t-0.345133902136145\t4448\t2216\t8\t5\t53025000\t87\n"
     ]
    },
    {
     "name": "stderr",
     "output_type": "stream",
     "text": [
      "[mbo] 71: cp=-0.345; minsplit=4448; minbucket=2216; maxdepth=8 : y = 5.3e+07 : 24.3 secs : infill_ei\n",
      "\n"
     ]
    },
    {
     "name": "stdout",
     "output_type": "stream",
     "text": [
      "20230413 041414\t-0.958498086901157\t8000\t2180\t20\t5\t50673000\t88\n"
     ]
    },
    {
     "name": "stderr",
     "output_type": "stream",
     "text": [
      "[mbo] 72: cp=-0.958; minsplit=8000; minbucket=2180; maxdepth=20 : y = 5.07e+07 : 27.5 secs : infill_ei\n",
      "\n"
     ]
    },
    {
     "name": "stdout",
     "output_type": "stream",
     "text": [
      "20230413 041443\t-0.438426191413288\t5801\t2897\t20\t5\t50442000\t89\n"
     ]
    },
    {
     "name": "stderr",
     "output_type": "stream",
     "text": [
      "[mbo] 73: cp=-0.438; minsplit=5801; minbucket=2897; maxdepth=20 : y = 5.04e+07 : 26.9 secs : infill_ei\n",
      "\n"
     ]
    },
    {
     "name": "stdout",
     "output_type": "stream",
     "text": [
      "20230413 041515\t-0.60709029930914\t3959\t1979\t20\t5\t52944000\t90\n"
     ]
    },
    {
     "name": "stderr",
     "output_type": "stream",
     "text": [
      "[mbo] 74: cp=-0.607; minsplit=3959; minbucket=1979; maxdepth=20 : y = 5.29e+07 : 30.4 secs : infill_ei\n",
      "\n"
     ]
    },
    {
     "name": "stdout",
     "output_type": "stream",
     "text": [
      "20230413 041530\t-0.588182557605732\t7999\t3997\t3\t5\t50340000\t91\n"
     ]
    },
    {
     "name": "stderr",
     "output_type": "stream",
     "text": [
      "[mbo] 75: cp=-0.588; minsplit=7999; minbucket=3997; maxdepth=3 : y = 5.03e+07 : 12.8 secs : infill_ei\n",
      "\n"
     ]
    },
    {
     "name": "stdout",
     "output_type": "stream",
     "text": [
      "20230413 041605\t-0.81843996176639\t3032\t1508\t15\t5\t52938000\t92\n"
     ]
    },
    {
     "name": "stderr",
     "output_type": "stream",
     "text": [
      "[mbo] 76: cp=-0.818; minsplit=3032; minbucket=1508; maxdepth=15 : y = 5.29e+07 : 32.8 secs : infill_ei\n",
      "\n"
     ]
    },
    {
     "name": "stdout",
     "output_type": "stream",
     "text": [
      "20230413 041619\t-0.91498825170233\t7998\t3999\t3\t5\t50340000\t93\n"
     ]
    },
    {
     "name": "stderr",
     "output_type": "stream",
     "text": [
      "[mbo] 77: cp=-0.915; minsplit=7998; minbucket=3999; maxdepth=3 : y = 5.03e+07 : 12.7 secs : infill_ei\n",
      "\n"
     ]
    },
    {
     "name": "stdout",
     "output_type": "stream",
     "text": [
      "20230413 041634\t-0.764541060499335\t7999\t3999\t3\t5\t50340000\t94\n"
     ]
    },
    {
     "name": "stderr",
     "output_type": "stream",
     "text": [
      "[mbo] 78: cp=-0.765; minsplit=7999; minbucket=3999; maxdepth=3 : y = 5.03e+07 : 12.5 secs : infill_ei\n",
      "\n"
     ]
    },
    {
     "name": "stdout",
     "output_type": "stream",
     "text": [
      "20230413 041703\t-0.577173243533033\t8000\t1922\t20\t5\t50328000\t95\n"
     ]
    },
    {
     "name": "stderr",
     "output_type": "stream",
     "text": [
      "[mbo] 79: cp=-0.577; minsplit=8000; minbucket=1922; maxdepth=20 : y = 5.03e+07 : 28.1 secs : infill_ei\n",
      "\n"
     ]
    },
    {
     "name": "stdout",
     "output_type": "stream",
     "text": [
      "20230413 041725\t-0.0860072536213359\t6442\t3221\t6\t5\t49683000\t96\n"
     ]
    },
    {
     "name": "stderr",
     "output_type": "stream",
     "text": [
      "[mbo] 80: cp=-0.086; minsplit=6442; minbucket=3221; maxdepth=6 : y = 4.97e+07 : 20.1 secs : infill_ei\n",
      "\n"
     ]
    },
    {
     "name": "stdout",
     "output_type": "stream",
     "text": [
      "20230413 041752\t-0.472479456931664\t4491\t2245\t8\t5\t53007000\t97\n"
     ]
    },
    {
     "name": "stderr",
     "output_type": "stream",
     "text": [
      "[mbo] 81: cp=-0.472; minsplit=4491; minbucket=2245; maxdepth=8 : y = 5.3e+07 : 24.5 secs : infill_ei\n",
      "\n"
     ]
    },
    {
     "name": "stdout",
     "output_type": "stream",
     "text": [
      "20230413 041823\t-0.347266617420588\t2302\t939\t10\t5\t52872000\t98\n"
     ]
    },
    {
     "name": "stderr",
     "output_type": "stream",
     "text": [
      "[mbo] 82: cp=-0.347; minsplit=2302; minbucket=939; maxdepth=10 : y = 5.29e+07 : 30.1 secs : infill_ei\n",
      "\n"
     ]
    },
    {
     "name": "stdout",
     "output_type": "stream",
     "text": [
      "20230413 041910\t-0.456104110097085\t7998\t2\t20\t5\t49842000\t99\n"
     ]
    },
    {
     "name": "stderr",
     "output_type": "stream",
     "text": [
      "[mbo] 83: cp=-0.456; minsplit=7998; minbucket=2; maxdepth=20 : y = 4.98e+07 : 45.0 secs : infill_ei\n",
      "\n"
     ]
    },
    {
     "name": "stdout",
     "output_type": "stream",
     "text": [
      "20230413 041924\t-0.0501153362632391\t2836\t3\t3\t5\t50340000\t100\n"
     ]
    },
    {
     "name": "stderr",
     "output_type": "stream",
     "text": [
      "[mbo] 84: cp=-0.0501; minsplit=2836; minbucket=3; maxdepth=3 : y = 5.03e+07 : 13.1 secs : infill_ei\n",
      "\n"
     ]
    },
    {
     "name": "stdout",
     "output_type": "stream",
     "text": [
      "20230413 041948\t-0.138966538661461\t1957\t971\t6\t5\t51549000\t101\n"
     ]
    },
    {
     "name": "stderr",
     "output_type": "stream",
     "text": [
      "[mbo] 85: cp=-0.139; minsplit=1957; minbucket=971; maxdepth=6 : y = 5.15e+07 : 21.8 secs : infill_ei\n",
      "\n"
     ]
    },
    {
     "name": "stdout",
     "output_type": "stream",
     "text": [
      "20230413 042015\t-0.643989016924191\t2896\t652\t8\t5\t51960000\t102\n"
     ]
    },
    {
     "name": "stderr",
     "output_type": "stream",
     "text": [
      "[mbo] 86: cp=-0.644; minsplit=2896; minbucket=652; maxdepth=8 : y = 5.2e+07 : 25.6 secs : infill_ei\n",
      "\n",
      "Saved the current state after iteration 87 in the file HT321.RDATA.\n",
      "\n"
     ]
    },
    {
     "name": "stdout",
     "output_type": "stream",
     "text": [
      "20230413 042044\t-0.156499612953221\t7995\t11\t10\t5\t49980000\t103\n"
     ]
    },
    {
     "name": "stderr",
     "output_type": "stream",
     "text": [
      "[mbo] 87: cp=-0.156; minsplit=7995; minbucket=11; maxdepth=10 : y = 5e+07 : 27.7 secs : infill_ei\n",
      "\n"
     ]
    },
    {
     "name": "stdout",
     "output_type": "stream",
     "text": [
      "20230413 042134\t-0.999981228165259\t5122\t3\t20\t5\t50019000\t104\n"
     ]
    },
    {
     "name": "stderr",
     "output_type": "stream",
     "text": [
      "[mbo] 88: cp=-1; minsplit=5122; minbucket=3; maxdepth=20 : y = 5e+07 : 48.3 secs : infill_ei\n",
      "\n"
     ]
    },
    {
     "name": "stdout",
     "output_type": "stream",
     "text": [
      "20230413 042207\t-0.771170456422428\t3717\t1858\t16\t5\t52938000\t105\n"
     ]
    },
    {
     "name": "stderr",
     "output_type": "stream",
     "text": [
      "[mbo] 89: cp=-0.771; minsplit=3717; minbucket=1858; maxdepth=16 : y = 5.29e+07 : 30.8 secs : infill_ei\n",
      "\n"
     ]
    },
    {
     "name": "stdout",
     "output_type": "stream",
     "text": [
      "20230413 042238\t-0.913132064486642\t2453\t1200\t10\t5\t53037000\t106\n"
     ]
    },
    {
     "name": "stderr",
     "output_type": "stream",
     "text": [
      "[mbo] 90: cp=-0.913; minsplit=2453; minbucket=1200; maxdepth=10 : y = 5.3e+07 : 29.7 secs : infill_ei\n",
      "\n"
     ]
    },
    {
     "name": "stdout",
     "output_type": "stream",
     "text": [
      "20230413 042310\t-0.868032696899883\t3495\t3\t10\t5\t52263000\t107\n"
     ]
    },
    {
     "name": "stderr",
     "output_type": "stream",
     "text": [
      "[mbo] 91: cp=-0.868; minsplit=3495; minbucket=3; maxdepth=10 : y = 5.23e+07 : 30.4 secs : infill_ei\n",
      "\n"
     ]
    },
    {
     "name": "stdout",
     "output_type": "stream",
     "text": [
      "20230413 042325\t-0.343369073211934\t7989\t3989\t3\t5\t50340000\t108\n"
     ]
    },
    {
     "name": "stderr",
     "output_type": "stream",
     "text": [
      "[mbo] 92: cp=-0.343; minsplit=7989; minbucket=3989; maxdepth=3 : y = 5.03e+07 : 13.0 secs : infill_ei\n",
      "\n"
     ]
    },
    {
     "name": "stdout",
     "output_type": "stream",
     "text": [
      "20230413 042339\t-0.385869264701894\t7990\t2183\t3\t5\t50340000\t109\n"
     ]
    },
    {
     "name": "stderr",
     "output_type": "stream",
     "text": [
      "[mbo] 93: cp=-0.386; minsplit=7990; minbucket=2183; maxdepth=3 : y = 5.03e+07 : 12.7 secs : infill_ei\n",
      "\n"
     ]
    },
    {
     "name": "stdout",
     "output_type": "stream",
     "text": [
      "20230413 042413\t-0.387437572149659\t2171\t1\t10\t5\t52083000\t110\n"
     ]
    },
    {
     "name": "stderr",
     "output_type": "stream",
     "text": [
      "[mbo] 94: cp=-0.387; minsplit=2171; minbucket=1; maxdepth=10 : y = 5.21e+07 : 31.5 secs : infill_ei\n",
      "\n"
     ]
    },
    {
     "name": "stdout",
     "output_type": "stream",
     "text": [
      "20230413 042438\t-0.358733867970874\t2538\t3\t7\t5\t52170000\t111\n"
     ]
    },
    {
     "name": "stderr",
     "output_type": "stream",
     "text": [
      "[mbo] 95: cp=-0.359; minsplit=2538; minbucket=3; maxdepth=7 : y = 5.22e+07 : 23.6 secs : infill_ei\n",
      "\n"
     ]
    },
    {
     "name": "stdout",
     "output_type": "stream",
     "text": [
      "20230413 042525\t-0.373684995775307\t1722\t2\t15\t5\t54222000\t112\n"
     ]
    },
    {
     "name": "stderr",
     "output_type": "stream",
     "text": [
      "[mbo] 96: cp=-0.374; minsplit=1722; minbucket=2; maxdepth=15 : y = 5.42e+07 : 44.9 secs : infill_ei\n",
      "\n"
     ]
    },
    {
     "name": "stdout",
     "output_type": "stream",
     "text": [
      "20230413 042540\t-0.0288402334928069\t1823\t907\t3\t5\t50217000\t113\n"
     ]
    },
    {
     "name": "stderr",
     "output_type": "stream",
     "text": [
      "[mbo] 97: cp=-0.0288; minsplit=1823; minbucket=907; maxdepth=3 : y = 5.02e+07 : 13.1 secs : infill_ei\n",
      "\n"
     ]
    },
    {
     "name": "stdout",
     "output_type": "stream",
     "text": [
      "20230413 042624\t-0.340948521443614\t1571\t2\t14\t5\t54738000\t114\n"
     ]
    },
    {
     "name": "stderr",
     "output_type": "stream",
     "text": [
      "[mbo] 98: cp=-0.341; minsplit=1571; minbucket=2; maxdepth=14 : y = 5.47e+07 : 42.3 secs : infill_ei\n",
      "\n"
     ]
    },
    {
     "name": "stdout",
     "output_type": "stream",
     "text": [
      "20230413 042716\t-0.459614912912468\t56\t17\t16\t5\t38715000\t115\n"
     ]
    },
    {
     "name": "stderr",
     "output_type": "stream",
     "text": [
      "[mbo] 99: cp=-0.46; minsplit=56; minbucket=17; maxdepth=16 : y = 3.87e+07 : 49.8 secs : infill_ei\n",
      "\n"
     ]
    },
    {
     "name": "stdout",
     "output_type": "stream",
     "text": [
      "20230413 042743\t-0.436932407765606\t3043\t1518\t8\t5\t52938000\t116\n"
     ]
    },
    {
     "name": "stderr",
     "output_type": "stream",
     "text": [
      "[mbo] 100: cp=-0.437; minsplit=3043; minbucket=1518; maxdepth=8 : y = 5.29e+07 : 25.3 secs : infill_ei\n",
      "\n",
      "Saved the final state in the file HT321.RDATA\n",
      "\n"
     ]
    }
   ],
   "source": [
    "#inicio la optimizacion bayesiana\n",
    "if( !file.exists( archivo_BO ) ) {\n",
    "\n",
    "  run  <- mbo( fun=     obj.fun, \n",
    "               learner= surr.km,\n",
    "               control= ctrl)\n",
    "\n",
    "} else  run  <- mboContinue( archivo_BO )   #retomo en caso que ya exista\n",
    "\n"
   ]
  }
 ],
 "metadata": {
  "kernelspec": {
   "display_name": "R",
   "language": "R",
   "name": "ir"
  },
  "language_info": {
   "codemirror_mode": "r",
   "file_extension": ".r",
   "mimetype": "text/x-r-source",
   "name": "R",
   "pygments_lexer": "r",
   "version": "4.2.2"
  },
  "orig_nbformat": 4
 },
 "nbformat": 4,
 "nbformat_minor": 2
}
