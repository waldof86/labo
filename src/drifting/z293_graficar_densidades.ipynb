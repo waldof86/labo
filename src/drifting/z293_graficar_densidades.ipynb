{
 "cells": [
  {
   "cell_type": "code",
   "execution_count": 9,
   "metadata": {
    "vscode": {
     "languageId": "r"
    }
   },
   "outputs": [
    {
     "data": {
      "text/html": [
       "<table class=\"dataframe\">\n",
       "<caption>A matrix: 2 × 6 of type dbl</caption>\n",
       "<thead>\n",
       "\t<tr><th></th><th scope=col>used</th><th scope=col>(Mb)</th><th scope=col>gc trigger</th><th scope=col>(Mb)</th><th scope=col>max used</th><th scope=col>(Mb)</th></tr>\n",
       "</thead>\n",
       "<tbody>\n",
       "\t<tr><th scope=row>Ncells</th><td> 619681</td><td>33.1</td><td>1321401</td><td>70.6</td><td>1321401</td><td>70.6</td></tr>\n",
       "\t<tr><th scope=row>Vcells</th><td>1104670</td><td> 8.5</td><td>8388608</td><td>64.0</td><td>1684140</td><td>12.9</td></tr>\n",
       "</tbody>\n",
       "</table>\n"
      ],
      "text/latex": [
       "A matrix: 2 × 6 of type dbl\n",
       "\\begin{tabular}{r|llllll}\n",
       "  & used & (Mb) & gc trigger & (Mb) & max used & (Mb)\\\\\n",
       "\\hline\n",
       "\tNcells &  619681 & 33.1 & 1321401 & 70.6 & 1321401 & 70.6\\\\\n",
       "\tVcells & 1104670 &  8.5 & 8388608 & 64.0 & 1684140 & 12.9\\\\\n",
       "\\end{tabular}\n"
      ],
      "text/markdown": [
       "\n",
       "A matrix: 2 × 6 of type dbl\n",
       "\n",
       "| <!--/--> | used | (Mb) | gc trigger | (Mb) | max used | (Mb) |\n",
       "|---|---|---|---|---|---|---|\n",
       "| Ncells |  619681 | 33.1 | 1321401 | 70.6 | 1321401 | 70.6 |\n",
       "| Vcells | 1104670 |  8.5 | 8388608 | 64.0 | 1684140 | 12.9 |\n",
       "\n"
      ],
      "text/plain": [
       "       used    (Mb) gc trigger (Mb) max used (Mb)\n",
       "Ncells  619681 33.1 1321401    70.6 1321401  70.6\n",
       "Vcells 1104670  8.5 8388608    64.0 1684140  12.9"
      ]
     },
     "metadata": {},
     "output_type": "display_data"
    },
    {
     "name": "stderr",
     "output_type": "stream",
     "text": [
      "Warning message:\n",
      "\"package 'data.table' was built under R version 4.2.3\"\n",
      "Warning message:\n",
      "\"package 'rpart' was built under R version 4.2.3\"\n"
     ]
    }
   ],
   "source": [
    "# Script para encontrar Visuamente  el data drifting\n",
    "# focalizado solo en los campos de un buen arbol de deicision\n",
    "\n",
    "#limpio la memoria\n",
    "rm( list=ls() )  #remove all objects\n",
    "gc()             #garbage collection\n",
    "\n",
    "library(\"data.table\")\n",
    "library(\"rpart\")\n"
   ]
  },
  {
   "cell_type": "code",
   "execution_count": null,
   "metadata": {
    "vscode": {
     "languageId": "r"
    }
   },
   "outputs": [],
   "source": [
    "graficar_campo  <- function( campo )\n",
    "{\n",
    "\n",
    "  #quito de grafico las colas del 5% de las densidades\n",
    "  qA  <- quantile(  dataset[ foto_mes==202107 , get(campo) ] , prob= c(0.05, 0.95), na.rm=TRUE )\n",
    "  qB  <- quantile(  dataset[ foto_mes==202109 , get(campo) ] , prob= c(0.05, 0.95), na.rm=TRUE )\n",
    "\n",
    "  xxmin  <- pmin( qA[[1]], qB[[1]] )\n",
    "  xxmax  <- pmax( qA[[2]], qB[[2]] )\n",
    "\n",
    "  densidad_A  <- density( dataset[ foto_mes==202107, get(campo) ],\n",
    "                          kernel=\"gaussian\", na.rm=TRUE )\n",
    "\n",
    "  densidad_B  <- density( dataset[ foto_mes==202109, get(campo) ],\n",
    "                          kernel=\"gaussian\", na.rm=TRUE )\n",
    "\n",
    "  plot( densidad_A,\n",
    "        col=\"blue\",\n",
    "        xlim= c( xxmin, xxmax ),\n",
    "        ylim= c( 0, pmax( max(densidad_A$y), max(densidad_B$y) ) ),\n",
    "        main= campo \n",
    "      )\n",
    "\n",
    "  lines(densidad_B, col=\"red\", lty=2)\n",
    "  \n",
    "  legend(  \"topright\",  \n",
    "           legend=c(\"202007\", \"202009\"),\n",
    "           col=c(\"blue\", \"red\"), lty=c(1,2))\n",
    "\n",
    "}\n"
   ]
  },
  {
   "cell_type": "code",
   "execution_count": 22,
   "metadata": {
    "vscode": {
     "languageId": "r"
    }
   },
   "outputs": [
    {
     "data": {
      "text/html": [
       "'d:/Onedrive/Austral/Cursos/08 - Laboratorio de Implementacion 1/labo2023v/src/drifting'"
      ],
      "text/latex": [
       "'d:/Onedrive/Austral/Cursos/08 - Laboratorio de Implementacion 1/labo2023v/src/drifting'"
      ],
      "text/markdown": [
       "'d:/Onedrive/Austral/Cursos/08 - Laboratorio de Implementacion 1/labo2023v/src/drifting'"
      ],
      "text/plain": [
       "[1] \"d:/Onedrive/Austral/Cursos/08 - Laboratorio de Implementacion 1/labo2023v/src/drifting\""
      ]
     },
     "metadata": {},
     "output_type": "display_data"
    }
   ],
   "source": [
    "#Aqui comienza el programa\n",
    "setwd(\".\\\\\")   #Establezco el Working Directory\n",
    "getwd()\n"
   ]
  },
  {
   "cell_type": "code",
   "execution_count": 23,
   "metadata": {
    "vscode": {
     "languageId": "r"
    }
   },
   "outputs": [],
   "source": [
    "\n",
    "#cargo el dataset donde voy a entrenar\n",
    "dataset  <- fread(\"./datasets/dataset_pequeno.csv\")"
   ]
  },
  {
   "cell_type": "code",
   "execution_count": 24,
   "metadata": {
    "vscode": {
     "languageId": "r"
    }
   },
   "outputs": [],
   "source": [
    "dir.create( \"./exp/\",  showWarnings = FALSE ) \n",
    "dir.create( \"./exp/DR2930/\", showWarnings = FALSE )\n",
    "setwd(\"./exp/DR2930/\")\n",
    "\n",
    "dataset  <- dataset[ foto_mes %in% c( 202107, 202109 ) ]\n",
    "\n",
    "#creo la clase_binaria SI={ BAJA+1, BAJA+2 }    NO={ CONTINUA }\n",
    "dataset[ foto_mes==202107,\n",
    "         clase_binaria :=  ifelse( clase_ternaria==\"CONTINUA\", \"NO\", \"SI\" ) ]\n",
    "\n"
   ]
  },
  {
   "cell_type": "code",
   "execution_count": 25,
   "metadata": {
    "vscode": {
     "languageId": "r"
    }
   },
   "outputs": [
    {
     "name": "stdout",
     "output_type": "stream",
     "text": [
      "ctrx_quarter   mcuentas_saldo   mcuenta_corriente   mcaja_ahorro   active_quarter   mcomisiones_mantenimiento   ccomisiones_mantenimiento   mrentabilidad_annual   mpasivos_margen   mrentabilidad   ccomisiones_otras   cdescubierto_preacordado   mcomisiones   mcomisiones_otras   ctarjeta_visa   ccajas_consultas   mactivos_margen   Master_status   mpayroll   Visa_msaldopesos   Visa_msaldototal   mtarjeta_visa_consumo   Visa_mpagominimo   cprestamos_personales   cliente_antiguedad   cpayroll_trx   ctarjeta_visa_transacciones   ctarjeta_master   mprestamos_personales   tcuentas   ccajas_otras   Visa_status   internet   ccajas_transacciones   mtransferencias_recibidas   mttarjeta_visa_debitos_automaticos   Visa_Fvencimiento   cliente_edad   numero_de_cliente   Visa_fechaalta   ctarjeta_visa_debitos_automaticos   Master_fechaalta   mcaja_ahorro_dolares   cproductos   tmobile_app   chomebanking_transacciones   Visa_mpagospesos   mtransferencias_emitidas   Master_Fvencimiento   Visa_delinquency   Master_msaldopesos   Master_msaldototal   Visa_fultimo_cierre   ccajas_depositos   Visa_Finiciomora   Visa_mconsumospesos   Visa_mconsumototal   Visa_cconsumos   Visa_msaldodolares   mplazo_fijo_dolares   Visa_mfinanciacion_limite   ctransferencias_recibidas   ccallcenter_transacciones   Visa_mlimitecompra   Visa_mpagado   tcallcenter   ctarjeta_master_transacciones   Visa_mpagosdolares   mtarjeta_master_consumo   ctransferencias_emitidas   mpagomiscuentas   minversion2   cpagomiscuentas   mprestamos_prendarios   ccuenta_corriente   Master_mfinanciacion_limite   Master_mlimitecompra   Master_msaldodolares   ctarjeta_debito   catm_trx   cextraccion_autoservicio   Visa_mconsumosdolares   mcaja_ahorro_adicional   cliente_vip   mcuenta_corriente_adicional   ccaja_ahorro   ctarjeta_debito_transacciones   mautoservicio   cprestamos_prendarios   cprestamos_hipotecarios   mprestamos_hipotecarios   cplazo_fijo   mplazo_fijo_pesos   cinversion1   minversion1_pesos   minversion1_dolares   cinversion2   cseguro_vida   cseguro_auto   cseguro_vivienda   cseguro_accidentes_personales   ccaja_seguridad   mpayroll2   cpayroll2_trx   ccuenta_debitos_automaticos   mcuenta_debitos_automaticos   ctarjeta_master_debitos_automaticos   mttarjeta_master_debitos_automaticos   cpagodeservicios   mpagodeservicios   ccajeros_propios_descuentos   mcajeros_propios_descuentos   ctarjeta_visa_descuentos   mtarjeta_visa_descuentos   ctarjeta_master_descuentos   mtarjeta_master_descuentos   cforex   cforex_buy   mforex_buy   cforex_sell   mforex_sell   mextraccion_autoservicio   ccheques_depositados   mcheques_depositados   ccheques_emitidos   mcheques_emitidos   ccheques_depositados_rechazados   mcheques_depositados_rechazados   ccheques_emitidos_rechazados   mcheques_emitidos_rechazados   thomebanking   ccajas_extracciones   matm   catm_trx_other   matm_other   cmobile_app_trx   Master_delinquency   Master_Finiciomora   Master_mconsumospesos   Master_mconsumosdolares   Master_madelantopesos   Master_madelantodolares   Master_fultimo_cierre   Master_mpagado   Master_mpagospesos   Master_mpagosdolares   Master_mconsumototal   Master_cconsumos   Master_cadelantosefectivo   Master_mpagominimo   Visa_madelantopesos   Visa_madelantodolares   Visa_cadelantosefectivo   "
     ]
    },
    {
     "data": {
      "text/html": [
       "<strong>png:</strong> 2"
      ],
      "text/latex": [
       "\\textbf{png:} 2"
      ],
      "text/markdown": [
       "**png:** 2"
      ],
      "text/plain": [
       "png \n",
       "  2 "
      ]
     },
     "metadata": {},
     "output_type": "display_data"
    }
   ],
   "source": [
    "# Entreno el modelo\n",
    "# utilizo los mejores hiperparametros encontrados en una Bayesian Optimizationcon 5-fold Cross Validation\n",
    "modelo  <- rpart(formula=   \"clase_binaria ~ . -clase_ternaria\",\n",
    "                 data=      dataset[ foto_mes==202107 ],  #los datos donde voy a entrenar\n",
    "                 xval=          0,\n",
    "                 cp=           -0.69,\n",
    "                 minsplit=    870,\n",
    "                 minbucket=     9,\n",
    "                 maxdepth=      9)\n",
    "\n",
    "\n",
    "campos_modelo  <- names( modelo$variable.importance )\n",
    "campos_buenos  <- c( campos_modelo,  setdiff( colnames(dataset), campos_modelo ) )\n",
    "campos_buenos  <-  setdiff(  campos_buenos,  c( \"foto_mes\",\"clase_ternaria\",\"clase_binaria\" ) )\n",
    "\n",
    "\n",
    "\n",
    "pdf(\"densidades_07_09.pdf\")\n",
    "\n",
    "for( campo in  campos_buenos )\n",
    "{\n",
    "  cat( campo, \"  \" )\n",
    "  graficar_campo( campo )\n",
    "}\n",
    "\n",
    "dev.off()\n"
   ]
  }
 ],
 "metadata": {
  "kernelspec": {
   "display_name": "R",
   "language": "R",
   "name": "ir"
  },
  "language_info": {
   "codemirror_mode": "r",
   "file_extension": ".r",
   "mimetype": "text/x-r-source",
   "name": "R",
   "pygments_lexer": "r",
   "version": "4.2.2"
  },
  "orig_nbformat": 4
 },
 "nbformat": 4,
 "nbformat_minor": 2
}
