{
 "cells": [
  {
   "cell_type": "code",
   "execution_count": 1,
   "metadata": {},
   "outputs": [
    {
     "name": "stdout",
     "output_type": "stream",
     "text": [
      "1377"
     ]
    }
   ],
   "source": [
    "using Random\n",
    "\n",
    "Random.seed!(102191)\n",
    "\n",
    "#calcula cuantos encestes logra un jugador con indice de enceste prob\n",
    "#haciendo qyt tiros libres\n",
    "\n",
    "function ftirar(prob, qty)\n",
    "  return  sum( rand() < prob for i in 1:qty )\n",
    "end\n",
    "\n",
    "\n",
    "#defino los jugadores\n",
    "mejor     = [0.7]\n",
    "peloton   = Vector((501:599) / 1000)\n",
    "jugadores = append!( mejor, peloton)\n",
    "\n",
    "#veo que tiene el vector\n",
    "jugadores\n",
    "\n",
    "\n",
    "\n",
    "\n",
    "#hago que los 100 jugadores tiren 10 veces cada uno\n",
    "res = ftirar.( jugadores, 10 )\n",
    "\n",
    "primero_ganador = 0\n",
    "\n",
    "for i = 1:10000  #diez mil experimentos\n",
    "  vaciertos = ftirar.(jugadores, 10)  #10 tiros libres cada jugador\n",
    "  mejor = findmax( vaciertos )\n",
    "\n",
    "  if mejor[2] == 1\n",
    "      primero_ganador += 1\n",
    "  end\n",
    "end\n",
    "\n",
    "print( primero_ganador )\n"
   ]
  }
 ],
 "metadata": {
  "kernelspec": {
   "display_name": "Julia 1.8.5",
   "language": "julia",
   "name": "julia-1.8"
  },
  "language_info": {
   "file_extension": ".jl",
   "mimetype": "application/julia",
   "name": "julia",
   "version": "1.8.5"
  },
  "orig_nbformat": 4
 },
 "nbformat": 4,
 "nbformat_minor": 2
}
