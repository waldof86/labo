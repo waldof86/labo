{
 "cells": [
  {
   "cell_type": "code",
   "execution_count": 1,
   "metadata": {
    "vscode": {
     "languageId": "r"
    }
   },
   "outputs": [],
   "source": [
    "#Ensemble de arboles de decision\n",
    "#utilizando el naif metodo de Arboles Azarosos\n",
    "#entreno cada arbol utilizando un subconjunto distinto de atributos del dataset"
   ]
  },
  {
   "cell_type": "code",
   "execution_count": 2,
   "metadata": {
    "vscode": {
     "languageId": "r"
    }
   },
   "outputs": [
    {
     "data": {
      "text/html": [
       "<table class=\"dataframe\">\n",
       "<caption>A matrix: 2 × 6 of type dbl</caption>\n",
       "<thead>\n",
       "\t<tr><th></th><th scope=col>used</th><th scope=col>(Mb)</th><th scope=col>gc trigger</th><th scope=col>(Mb)</th><th scope=col>max used</th><th scope=col>(Mb)</th></tr>\n",
       "</thead>\n",
       "<tbody>\n",
       "\t<tr><th scope=row>Ncells</th><td> 614940</td><td>32.9</td><td>1321401</td><td>70.6</td><td>1321401</td><td>70.6</td></tr>\n",
       "\t<tr><th scope=row>Vcells</th><td>1094727</td><td> 8.4</td><td>8388608</td><td>64.0</td><td>1632451</td><td>12.5</td></tr>\n",
       "</tbody>\n",
       "</table>\n"
      ],
      "text/latex": [
       "A matrix: 2 × 6 of type dbl\n",
       "\\begin{tabular}{r|llllll}\n",
       "  & used & (Mb) & gc trigger & (Mb) & max used & (Mb)\\\\\n",
       "\\hline\n",
       "\tNcells &  614940 & 32.9 & 1321401 & 70.6 & 1321401 & 70.6\\\\\n",
       "\tVcells & 1094727 &  8.4 & 8388608 & 64.0 & 1632451 & 12.5\\\\\n",
       "\\end{tabular}\n"
      ],
      "text/markdown": [
       "\n",
       "A matrix: 2 × 6 of type dbl\n",
       "\n",
       "| <!--/--> | used | (Mb) | gc trigger | (Mb) | max used | (Mb) |\n",
       "|---|---|---|---|---|---|---|\n",
       "| Ncells |  614940 | 32.9 | 1321401 | 70.6 | 1321401 | 70.6 |\n",
       "| Vcells | 1094727 |  8.4 | 8388608 | 64.0 | 1632451 | 12.5 |\n",
       "\n"
      ],
      "text/plain": [
       "       used    (Mb) gc trigger (Mb) max used (Mb)\n",
       "Ncells  614940 32.9 1321401    70.6 1321401  70.6\n",
       "Vcells 1094727  8.4 8388608    64.0 1632451  12.5"
      ]
     },
     "metadata": {},
     "output_type": "display_data"
    },
    {
     "name": "stderr",
     "output_type": "stream",
     "text": [
      "Warning message:\n",
      "\"package 'data.table' was built under R version 4.2.3\"\n",
      "Warning message:\n",
      "\"package 'rpart' was built under R version 4.2.3\"\n"
     ]
    }
   ],
   "source": [
    "#limpio la memoria\n",
    "rm( list=ls() )  #Borro todos los objetos\n",
    "gc()   #Garbage Collection\n",
    "\n",
    "library(\"data.table\")\n",
    "library(\"rpart\")"
   ]
  },
  {
   "cell_type": "code",
   "execution_count": 3,
   "metadata": {
    "vscode": {
     "languageId": "r"
    }
   },
   "outputs": [],
   "source": [
    "#parmatros experimento\n",
    "PARAM <- list()\n",
    "PARAM$experimento  <- 3210\n",
    "PARAM$semilla  <- 262139      #Establezco la semilla aleatoria, cambiar por SU primer semilla\n",
    "\n",
    "#parameetros rpart\n",
    "PARAM$rpart_param   <- list( \"cp\"=          -1,\n",
    "                              \"minsplit\"=  300,\n",
    "                              \"minbucket\"=  20,\n",
    "                              \"maxdepth\"=   10 )\n",
    "\n",
    "#parametros  arbol\n",
    "PARAM$feature_fraction  <- 0.5  #entreno cada arbol con solo 50% de las variables variables\n",
    "PARAM$num_trees_max  <- 500 #voy a generar 500 arboles, a mas arboles mas tiempo de proceso y MEJOR MODELO, pero ganancias marginales"
   ]
  },
  {
   "cell_type": "code",
   "execution_count": 4,
   "metadata": {
    "vscode": {
     "languageId": "r"
    }
   },
   "outputs": [
    {
     "data": {
      "text/html": [
       "'D:/Onedrive/Austral/Cursos/08 - Laboratorio de Implementacion 1/labo2023v/src/ArbolesAzarosos/exp/KA3210'"
      ],
      "text/latex": [
       "'D:/Onedrive/Austral/Cursos/08 - Laboratorio de Implementacion 1/labo2023v/src/ArbolesAzarosos/exp/KA3210'"
      ],
      "text/markdown": [
       "'D:/Onedrive/Austral/Cursos/08 - Laboratorio de Implementacion 1/labo2023v/src/ArbolesAzarosos/exp/KA3210'"
      ],
      "text/plain": [
       "[1] \"D:/Onedrive/Austral/Cursos/08 - Laboratorio de Implementacion 1/labo2023v/src/ArbolesAzarosos/exp/KA3210\""
      ]
     },
     "metadata": {},
     "output_type": "display_data"
    }
   ],
   "source": [
    "#Aqui comienza el programa\n",
    "\n",
    "setwd(\"D:\\\\Onedrive\\\\Austral\\\\Cursos\\\\08 - Laboratorio de Implementacion 1\\\\labo2023v\\\\src\\\\ArbolesAzarosos\")  #Establezco el Working Directory\n",
    "\n",
    "#cargo los datos\n",
    "dataset  <- fread(\"./datasets/dataset_pequeno.csv\")\n",
    "\n",
    "#creo la carpeta donde va el experimento\n",
    "dir.create( \"./exp/\", showWarnings = FALSE  )\n",
    "carpeta_experimento  <-  paste0( \"./exp/KA\", PARAM$experimento, \"/\")\n",
    "dir.create( paste0( \"./exp/KA\", PARAM$experimento, \"/\"), \n",
    "            showWarnings = FALSE )\n",
    "\n",
    "setwd( carpeta_experimento )\n",
    "getwd()"
   ]
  },
  {
   "cell_type": "code",
   "execution_count": 5,
   "metadata": {
    "vscode": {
     "languageId": "r"
    }
   },
   "outputs": [],
   "source": [
    "#que tamanos de ensemble grabo a disco, pero siempre debo generar los 500\n",
    "grabar  <-  c( 1, 5, 10, 50, 100, 200, 500)"
   ]
  },
  {
   "cell_type": "code",
   "execution_count": 6,
   "metadata": {
    "vscode": {
     "languageId": "r"
    }
   },
   "outputs": [],
   "source": [
    "#defino los dataset de entrenamiento y aplicacion\n",
    "dtrain  <- dataset[ foto_mes==202107 ]\n",
    "dapply  <- dataset[ foto_mes==202109 ]"
   ]
  },
  {
   "cell_type": "code",
   "execution_count": 7,
   "metadata": {
    "vscode": {
     "languageId": "r"
    }
   },
   "outputs": [],
   "source": [
    "#aqui se va acumulando la probabilidad del ensemble\n",
    "dapply[ , prob_acumulada := 0 ]"
   ]
  },
  {
   "cell_type": "code",
   "execution_count": 8,
   "metadata": {
    "vscode": {
     "languageId": "r"
    }
   },
   "outputs": [],
   "source": [
    "#Establezco cuales son los campos que puedo usar para la prediccion\n",
    "#el copy() es por la Lazy Evaluation\n",
    "campos_buenos  <- copy( setdiff(  colnames(dtrain) ,  c(\"clase_ternaria\") ) )"
   ]
  },
  {
   "cell_type": "code",
   "execution_count": 9,
   "metadata": {
    "vscode": {
     "languageId": "r"
    }
   },
   "outputs": [],
   "source": [
    "#Genero las salidas\n",
    "set.seed(PARAM$semilla) #Establezco la semilla aleatoria"
   ]
  },
  {
   "cell_type": "code",
   "execution_count": 10,
   "metadata": {
    "vscode": {
     "languageId": "r"
    }
   },
   "outputs": [
    {
     "name": "stdout",
     "output_type": "stream",
     "text": [
      "1  5  10  50  100  200  500  "
     ]
    }
   ],
   "source": [
    "# -------------------RUN 1\n",
    "#parameetros rpart\n",
    "PARAM$rpart_param   <- list( \"cp\"=          -1,\n",
    "                              \"minsplit\"=  100,\n",
    "                              \"minbucket\"=  10,\n",
    "                              \"maxdepth\"=   6 )\n",
    "\n",
    "corrida <- 1\n",
    "\n",
    "for( arbolito in  1:PARAM$num_trees_max )\n",
    "{\n",
    "  qty_campos_a_utilizar  <- as.integer( length(campos_buenos)* PARAM$feature_fraction )\n",
    "  campos_random  <- sample( campos_buenos, qty_campos_a_utilizar )\n",
    "  \n",
    "  #paso de un vector a un string con los elementos separados por un signo de \"+\"\n",
    "  #este hace falta para la formula\n",
    "  campos_random  <- paste( campos_random, collapse=\" + \")\n",
    "\n",
    "  #armo la formula para rpart\n",
    "  formulita  <- paste0( \"clase_ternaria ~ \", campos_random )\n",
    "\n",
    "  #genero el arbol de decision\n",
    "  modelo  <- rpart( formulita,\n",
    "                    data= dtrain,\n",
    "                    xval= 0,\n",
    "                    control= PARAM$rpart_param )\n",
    "\n",
    "  #aplico el modelo a los datos que no tienen clase\n",
    "  prediccion  <- predict( modelo, dapply , type = \"prob\")\n",
    "  \n",
    "  dapply[  ,  prob_acumulada :=  prob_acumulada + prediccion[ , \"BAJA+2\"] ]\n",
    "\n",
    "  if( arbolito %in%  grabar )\n",
    "  {\n",
    "    #Genero la entrega para Kaggle\n",
    "\tumbral_corte  <-  (1/40) *  arbolito\n",
    "    entrega  <- as.data.table( list( \"numero_de_cliente\"= dapply[  , numero_de_cliente],\n",
    "                                     \"Predicted\"= as.numeric(dapply[  , prob_acumulada] > umbral_corte) ) ) #genero la salida\n",
    "\n",
    "    nom_arch  <- paste0('KA', PARAM$experimento, \"_\",\n",
    "\t\t\t\t\t\tsprintf( '%.3d', arbolito), #para que tenga ceros adelante\n",
    "\t\t\t\t\t\t'_RunConfig_1', '.csv' )\n",
    "    fwrite( entrega, \n",
    "            file= nom_arch,\n",
    "            sep= \",\" )\n",
    "\n",
    "    cat( arbolito, \" \" )\n",
    "  }\n",
    "  \n",
    "}"
   ]
  },
  {
   "cell_type": "code",
   "execution_count": 11,
   "metadata": {
    "vscode": {
     "languageId": "r"
    }
   },
   "outputs": [],
   "source": [
    "# -------------------RUN 2\n",
    "#parameetros rpart\n",
    "PARAM$rpart_param   <- list( \"cp\"=          -1,\n",
    "                              \"minsplit\"=  250,\n",
    "                              \"minbucket\"=  100,\n",
    "                              \"maxdepth\"=   14 )\n",
    "\n",
    "corrida <- 2\n",
    "\n",
    "for( arbolito in  1:PARAM$num_trees_max )\n",
    "{\n",
    "  qty_campos_a_utilizar  <- as.integer( length(campos_buenos)* PARAM$feature_fraction )\n",
    "  campos_random  <- sample( campos_buenos, qty_campos_a_utilizar )\n",
    "  \n",
    "  #paso de un vector a un string con los elementos separados por un signo de \"+\"\n",
    "  #este hace falta para la formula\n",
    "  campos_random  <- paste( campos_random, collapse=\" + \")\n",
    "\n",
    "  #armo la formula para rpart\n",
    "  formulita  <- paste0( \"clase_ternaria ~ \", campos_random )\n",
    "\n",
    "  #genero el arbol de decision\n",
    "  modelo  <- rpart( formulita,\n",
    "                    data= dtrain,\n",
    "                    xval= 0,\n",
    "                    control= PARAM$rpart_param )\n",
    "\n",
    "  #aplico el modelo a los datos que no tienen clase\n",
    "  prediccion  <- predict( modelo, dapply , type = \"prob\")\n",
    "  \n",
    "  dapply[  ,  prob_acumulada :=  prob_acumulada + prediccion[ , \"BAJA+2\"] ]\n",
    "\n",
    "  if( arbolito %in%  grabar )\n",
    "  {\n",
    "    #Genero la entrega para Kaggle\n",
    "\tumbral_corte  <-  (1/40) *  arbolito\n",
    "    entrega  <- as.data.table( list( \"numero_de_cliente\"= dapply[  , numero_de_cliente],\n",
    "                                     \"Predicted\"= as.numeric(dapply[  , prob_acumulada] > umbral_corte) ) ) #genero la salida\n",
    "\n",
    "    nom_arch  <- paste0('KA', PARAM$experimento, \"_\",\n",
    "\t\t\t\t\t\tsprintf( '%.3d', arbolito), #para que tenga ceros adelante\n",
    "\t\t\t\t\t\t'_RunConfig_2', '.csv' )\n",
    "    fwrite( entrega, \n",
    "            file= nom_arch,\n",
    "            sep= \",\" )\n",
    "\n",
    "    cat( arbolito, \" \" )\n",
    "  }\n",
    "  \n",
    "}"
   ]
  },
  {
   "cell_type": "code",
   "execution_count": null,
   "metadata": {
    "vscode": {
     "languageId": "r"
    }
   },
   "outputs": [],
   "source": [
    "# -------------------RUN 3\n",
    "#parameetros rpart\n",
    "PARAM$rpart_param   <- list( \"cp\"=          -1,\n",
    "                              \"minsplit\"=  500,\n",
    "                              \"minbucket\"=  200,\n",
    "                              \"maxdepth\"=   10 )\n",
    "\n",
    "corrida <- 3\n",
    "\n",
    "for( arbolito in  1:PARAM$num_trees_max )\n",
    "{\n",
    "  qty_campos_a_utilizar  <- as.integer( length(campos_buenos)* PARAM$feature_fraction )\n",
    "  campos_random  <- sample( campos_buenos, qty_campos_a_utilizar )\n",
    "  \n",
    "  #paso de un vector a un string con los elementos separados por un signo de \"+\"\n",
    "  #este hace falta para la formula\n",
    "  campos_random  <- paste( campos_random, collapse=\" + \")\n",
    "\n",
    "  #armo la formula para rpart\n",
    "  formulita  <- paste0( \"clase_ternaria ~ \", campos_random )\n",
    "\n",
    "  #genero el arbol de decision\n",
    "  modelo  <- rpart( formulita,\n",
    "                    data= dtrain,\n",
    "                    xval= 0,\n",
    "                    control= PARAM$rpart_param )\n",
    "\n",
    "  #aplico el modelo a los datos que no tienen clase\n",
    "  prediccion  <- predict( modelo, dapply , type = \"prob\")\n",
    "  \n",
    "  dapply[  ,  prob_acumulada :=  prob_acumulada + prediccion[ , \"BAJA+2\"] ]\n",
    "\n",
    "  if( arbolito %in%  grabar )\n",
    "  {\n",
    "    #Genero la entrega para Kaggle\n",
    "\tumbral_corte  <-  (1/40) *  arbolito\n",
    "    entrega  <- as.data.table( list( \"numero_de_cliente\"= dapply[  , numero_de_cliente],\n",
    "                                     \"Predicted\"= as.numeric(dapply[  , prob_acumulada] > umbral_corte) ) ) #genero la salida\n",
    "\n",
    "    nom_arch  <- paste0('KA', PARAM$experimento, \"_\",\n",
    "\t\t\t\t\t\tsprintf( '%.3d', arbolito), #para que tenga ceros adelante\n",
    "\t\t\t\t\t\t'_RunConfig_3', '.csv' )\n",
    "    fwrite( entrega, \n",
    "            file= nom_arch,\n",
    "            sep= \",\" )\n",
    "\n",
    "    cat( arbolito, \" \" )\n",
    "  }\n",
    "  \n",
    "}"
   ]
  },
  {
   "cell_type": "code",
   "execution_count": null,
   "metadata": {
    "vscode": {
     "languageId": "r"
    }
   },
   "outputs": [],
   "source": [
    "# -------------------RUN 4\n",
    "#parameetros rpart\n",
    "PARAM$rpart_param   <- list( \"cp\"=          -1,\n",
    "                              \"minsplit\"=  750,\n",
    "                              \"minbucket\"=  200,\n",
    "                              \"maxdepth\"=   6 )\n",
    "\n",
    "corrida <- 4\n",
    "\n",
    "for( arbolito in  1:PARAM$num_trees_max )\n",
    "{\n",
    "  qty_campos_a_utilizar  <- as.integer( length(campos_buenos)* PARAM$feature_fraction )\n",
    "  campos_random  <- sample( campos_buenos, qty_campos_a_utilizar )\n",
    "  \n",
    "  #paso de un vector a un string con los elementos separados por un signo de \"+\"\n",
    "  #este hace falta para la formula\n",
    "  campos_random  <- paste( campos_random, collapse=\" + \")\n",
    "\n",
    "  #armo la formula para rpart\n",
    "  formulita  <- paste0( \"clase_ternaria ~ \", campos_random )\n",
    "\n",
    "  #genero el arbol de decision\n",
    "  modelo  <- rpart( formulita,\n",
    "                    data= dtrain,\n",
    "                    xval= 0,\n",
    "                    control= PARAM$rpart_param )\n",
    "\n",
    "  #aplico el modelo a los datos que no tienen clase\n",
    "  prediccion  <- predict( modelo, dapply , type = \"prob\")\n",
    "  \n",
    "  dapply[  ,  prob_acumulada :=  prob_acumulada + prediccion[ , \"BAJA+2\"] ]\n",
    "\n",
    "  if( arbolito %in%  grabar )\n",
    "  {\n",
    "    #Genero la entrega para Kaggle\n",
    "\tumbral_corte  <-  (1/40) *  arbolito\n",
    "    entrega  <- as.data.table( list( \"numero_de_cliente\"= dapply[  , numero_de_cliente],\n",
    "                                     \"Predicted\"= as.numeric(dapply[  , prob_acumulada] > umbral_corte) ) ) #genero la salida\n",
    "\n",
    "    nom_arch  <- paste0('KA', PARAM$experimento, \"_\",\n",
    "\t\t\t\t\t\tsprintf( '%.3d', arbolito), #para que tenga ceros adelante\n",
    "\t\t\t\t\t\t'_RunConfig_4', '.csv' )\n",
    "    fwrite( entrega, \n",
    "            file= nom_arch,\n",
    "            sep= \",\" )\n",
    "\n",
    "    cat( arbolito, \" \" )\n",
    "  }\n",
    "  \n",
    "}"
   ]
  },
  {
   "cell_type": "code",
   "execution_count": null,
   "metadata": {
    "vscode": {
     "languageId": "r"
    }
   },
   "outputs": [],
   "source": [
    "# -------------------RUN 5\n",
    "#parameetros rpart\n",
    "PARAM$rpart_param   <- list( \"cp\"=          -1,\n",
    "                              \"minsplit\"=  1000,\n",
    "                              \"minbucket\"=  200,\n",
    "                              \"maxdepth\"=   4 )\n",
    "\n",
    "corrida <- 5\n",
    "\n",
    "for( arbolito in  1:PARAM$num_trees_max )\n",
    "{\n",
    "  qty_campos_a_utilizar  <- as.integer( length(campos_buenos)* PARAM$feature_fraction )\n",
    "  campos_random  <- sample( campos_buenos, qty_campos_a_utilizar )\n",
    "  \n",
    "  #paso de un vector a un string con los elementos separados por un signo de \"+\"\n",
    "  #este hace falta para la formula\n",
    "  campos_random  <- paste( campos_random, collapse=\" + \")\n",
    "\n",
    "  #armo la formula para rpart\n",
    "  formulita  <- paste0( \"clase_ternaria ~ \", campos_random )\n",
    "\n",
    "  #genero el arbol de decision\n",
    "  modelo  <- rpart( formulita,\n",
    "                    data= dtrain,\n",
    "                    xval= 0,\n",
    "                    control= PARAM$rpart_param )\n",
    "\n",
    "  #aplico el modelo a los datos que no tienen clase\n",
    "  prediccion  <- predict( modelo, dapply , type = \"prob\")\n",
    "  \n",
    "  dapply[  ,  prob_acumulada :=  prob_acumulada + prediccion[ , \"BAJA+2\"] ]\n",
    "\n",
    "  if( arbolito %in%  grabar )\n",
    "  {\n",
    "    #Genero la entrega para Kaggle\n",
    "\tumbral_corte  <-  (1/40) *  arbolito\n",
    "    entrega  <- as.data.table( list( \"numero_de_cliente\"= dapply[  , numero_de_cliente],\n",
    "                                     \"Predicted\"= as.numeric(dapply[  , prob_acumulada] > umbral_corte) ) ) #genero la salida\n",
    "\n",
    "    nom_arch  <- paste0('KA', PARAM$experimento, \"_\",\n",
    "\t\t\t\t\t\tsprintf( '%.3d', arbolito), #para que tenga ceros adelante\n",
    "\t\t\t\t\t\t'_RunConfig_5', '.csv' )\n",
    "    fwrite( entrega, \n",
    "            file= nom_arch,\n",
    "            sep= \",\" )\n",
    "\n",
    "    cat( arbolito, \" \" )\n",
    "  }\n",
    "  \n",
    "}"
   ]
  },
  {
   "cell_type": "code",
   "execution_count": null,
   "metadata": {
    "vscode": {
     "languageId": "r"
    }
   },
   "outputs": [],
   "source": [
    "# -------------------RUN 6\n",
    "#parameetros rpart\n",
    "PARAM$rpart_param   <- list( \"cp\"=          -1,\n",
    "                              \"minsplit\"=  1500,\n",
    "                              \"minbucket\"=  200,\n",
    "                              \"maxdepth\"=   10 )\n",
    "\n",
    "corrida <- 6\n",
    "\n",
    "for( arbolito in  1:PARAM$num_trees_max )\n",
    "{\n",
    "  qty_campos_a_utilizar  <- as.integer( length(campos_buenos)* PARAM$feature_fraction )\n",
    "  campos_random  <- sample( campos_buenos, qty_campos_a_utilizar )\n",
    "  \n",
    "  #paso de un vector a un string con los elementos separados por un signo de \"+\"\n",
    "  #este hace falta para la formula\n",
    "  campos_random  <- paste( campos_random, collapse=\" + \")\n",
    "\n",
    "  #armo la formula para rpart\n",
    "  formulita  <- paste0( \"clase_ternaria ~ \", campos_random )\n",
    "\n",
    "  #genero el arbol de decision\n",
    "  modelo  <- rpart( formulita,\n",
    "                    data= dtrain,\n",
    "                    xval= 0,\n",
    "                    control= PARAM$rpart_param )\n",
    "\n",
    "  #aplico el modelo a los datos que no tienen clase\n",
    "  prediccion  <- predict( modelo, dapply , type = \"prob\")\n",
    "  \n",
    "  dapply[  ,  prob_acumulada :=  prob_acumulada + prediccion[ , \"BAJA+2\"] ]\n",
    "\n",
    "  if( arbolito %in%  grabar )\n",
    "  {\n",
    "    #Genero la entrega para Kaggle\n",
    "\tumbral_corte  <-  (1/40) *  arbolito\n",
    "    entrega  <- as.data.table( list( \"numero_de_cliente\"= dapply[  , numero_de_cliente],\n",
    "                                     \"Predicted\"= as.numeric(dapply[  , prob_acumulada] > umbral_corte) ) ) #genero la salida\n",
    "\n",
    "    nom_arch  <- paste0('KA', PARAM$experimento, \"_\",\n",
    "\t\t\t\t\t\tsprintf( '%.3d', arbolito), #para que tenga ceros adelante\n",
    "\t\t\t\t\t\t'_RunConfig_6', '.csv' )\n",
    "    fwrite( entrega, \n",
    "            file= nom_arch,\n",
    "            sep= \",\" )\n",
    "\n",
    "    cat( arbolito, \" \" )\n",
    "  }\n",
    "  \n",
    "}"
   ]
  },
  {
   "cell_type": "code",
   "execution_count": null,
   "metadata": {
    "vscode": {
     "languageId": "r"
    }
   },
   "outputs": [],
   "source": [
    "# -------------------RUN 7\n",
    "#parameetros rpart\n",
    "PARAM$rpart_param   <- list( \"cp\"=          -1,\n",
    "                              \"minsplit\"=  2000,\n",
    "                              \"minbucket\"=  100,\n",
    "                              \"maxdepth\"=   8 )\n",
    "\n",
    "corrida <- 7\n",
    "\n",
    "for( arbolito in  1:PARAM$num_trees_max )\n",
    "{\n",
    "  qty_campos_a_utilizar  <- as.integer( length(campos_buenos)* PARAM$feature_fraction )\n",
    "  campos_random  <- sample( campos_buenos, qty_campos_a_utilizar )\n",
    "  \n",
    "  #paso de un vector a un string con los elementos separados por un signo de \"+\"\n",
    "  #este hace falta para la formula\n",
    "  campos_random  <- paste( campos_random, collapse=\" + \")\n",
    "\n",
    "  #armo la formula para rpart\n",
    "  formulita  <- paste0( \"clase_ternaria ~ \", campos_random )\n",
    "\n",
    "  #genero el arbol de decision\n",
    "  modelo  <- rpart( formulita,\n",
    "                    data= dtrain,\n",
    "                    xval= 0,\n",
    "                    control= PARAM$rpart_param )\n",
    "\n",
    "  #aplico el modelo a los datos que no tienen clase\n",
    "  prediccion  <- predict( modelo, dapply , type = \"prob\")\n",
    "  \n",
    "  dapply[  ,  prob_acumulada :=  prob_acumulada + prediccion[ , \"BAJA+2\"] ]\n",
    "\n",
    "  if( arbolito %in%  grabar )\n",
    "  {\n",
    "    #Genero la entrega para Kaggle\n",
    "\tumbral_corte  <-  (1/40) *  arbolito\n",
    "    entrega  <- as.data.table( list( \"numero_de_cliente\"= dapply[  , numero_de_cliente],\n",
    "                                     \"Predicted\"= as.numeric(dapply[  , prob_acumulada] > umbral_corte) ) ) #genero la salida\n",
    "\n",
    "    nom_arch  <- paste0('KA', PARAM$experimento, \"_\",\n",
    "\t\t\t\t\t\tsprintf( '%.3d', arbolito), #para que tenga ceros adelante\n",
    "\t\t\t\t\t\t'_RunConfig_7', '.csv' )\n",
    "    fwrite( entrega, \n",
    "            file= nom_arch,\n",
    "            sep= \",\" )\n",
    "\n",
    "    cat( arbolito, \" \" )\n",
    "  }\n",
    "  \n",
    "}"
   ]
  },
  {
   "cell_type": "code",
   "execution_count": null,
   "metadata": {
    "vscode": {
     "languageId": "r"
    }
   },
   "outputs": [],
   "source": []
  }
 ],
 "metadata": {
  "kernelspec": {
   "display_name": "R",
   "language": "R",
   "name": "ir"
  },
  "language_info": {
   "codemirror_mode": "r",
   "file_extension": ".r",
   "mimetype": "text/x-r-source",
   "name": "R",
   "pygments_lexer": "r",
   "version": "4.2.2"
  },
  "orig_nbformat": 4
 },
 "nbformat": 4,
 "nbformat_minor": 2
}
